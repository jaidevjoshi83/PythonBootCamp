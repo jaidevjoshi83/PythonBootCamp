{
 "cells": [
  {
   "cell_type": "markdown",
   "id": "e61644b9-b49b-4dfa-a39f-f8143016162d",
   "metadata": {},
   "source": [
    "![](./Title_page.png)"
   ]
  },
  {
   "cell_type": "code",
   "execution_count": 170,
   "id": "4305c320-3303-4bc2-bf06-70f174b3763f",
   "metadata": {},
   "outputs": [],
   "source": [
    "#install requirements \n",
    "# !pip install matplotlib pandas numpy biopython"
   ]
  },
  {
   "cell_type": "markdown",
   "id": "c347d8d0-1c32-4c3a-9df3-998abef7d461",
   "metadata": {},
   "source": [
    "---\n",
    "<span style=\"color:blue; font-size: 40px\">A quick review of what we learned in the last class.</span>\n",
    "\n",
    "---"
   ]
  },
  {
   "cell_type": "markdown",
   "id": "e9de4030-9f1f-4523-b24c-2191182fb401",
   "metadata": {},
   "source": [
    "![](./slide_2.png)"
   ]
  },
  {
   "cell_type": "markdown",
   "id": "75afaa8d-4244-4813-b17a-7190a717a5d3",
   "metadata": {},
   "source": [
    "![](./slide_3.png)"
   ]
  },
  {
   "cell_type": "markdown",
   "id": "538b4945-56fa-4719-a54a-98edee6b114a",
   "metadata": {},
   "source": [
    "___\n",
    "### Naming in Python\n",
    "___"
   ]
  },
  {
   "cell_type": "markdown",
   "id": "c80725dc-8761-4eeb-b43b-db435615c3c4",
   "metadata": {},
   "source": [
    "![](./slide_4.png)"
   ]
  },
  {
   "cell_type": "markdown",
   "id": "64cfd212-236f-4810-b427-169ac34c4846",
   "metadata": {},
   "source": [
    "---\n",
    "### Case sensitive\n",
    "---"
   ]
  },
  {
   "cell_type": "code",
   "execution_count": 168,
   "id": "87f45844-8120-4ea1-b308-0f396c452cd4",
   "metadata": {},
   "outputs": [
    {
     "name": "stdout",
     "output_type": "stream",
     "text": [
      "10\n"
     ]
    }
   ],
   "source": [
    "#Case sensitive\n",
    "Variable = 10\n",
    "print(Variable)"
   ]
  },
  {
   "cell_type": "markdown",
   "id": "3610788b-b072-4182-a2eb-c4de6f8b07d1",
   "metadata": {},
   "source": [
    "---\n",
    "### Case sensitive\n",
    "---"
   ]
  },
  {
   "cell_type": "code",
   "execution_count": 9,
   "id": "e0bb921b-6aaa-47aa-bfda-e1c1586c147f",
   "metadata": {},
   "outputs": [
    {
     "name": "stdout",
     "output_type": "stream",
     "text": [
      "8\n"
     ]
    }
   ],
   "source": [
    "#Case sensitive\n",
    "variable = 8\n",
    "print(variable)"
   ]
  },
  {
   "cell_type": "markdown",
   "id": "c0e590a8-e8ef-4360-9b38-c30ed4b49a6b",
   "metadata": {},
   "source": [
    "---\n",
    "### Case sensitive\n",
    "---"
   ]
  },
  {
   "cell_type": "code",
   "execution_count": 10,
   "id": "5594201c-2da2-45d7-bc3b-a1886ddc771e",
   "metadata": {},
   "outputs": [
    {
     "name": "stdout",
     "output_type": "stream",
     "text": [
      "False\n"
     ]
    }
   ],
   "source": [
    "#Case sensitive\n",
    "print(variable == Variable)"
   ]
  },
  {
   "cell_type": "markdown",
   "id": "3de2e9db-2b11-4ad2-8803-e13da07b32b0",
   "metadata": {},
   "source": [
    "---\n",
    "### Case sensitive\n",
    "---"
   ]
  },
  {
   "cell_type": "code",
   "execution_count": 43,
   "id": "175a7109-29a2-4bf6-a590-a4f5754f1698",
   "metadata": {},
   "outputs": [
    {
     "name": "stdout",
     "output_type": "stream",
     "text": [
      "True\n"
     ]
    }
   ],
   "source": [
    "#Case sensitive\n",
    "print(Variable == Variable)"
   ]
  },
  {
   "cell_type": "markdown",
   "id": "04df5d62-4daf-4d9d-bf85-f924adb069c9",
   "metadata": {},
   "source": [
    "---\n",
    "### Case sensitive\n",
    "---"
   ]
  },
  {
   "cell_type": "code",
   "execution_count": 44,
   "id": "dbe9710a-fa69-4440-8243-21893ca2332a",
   "metadata": {},
   "outputs": [
    {
     "name": "stdout",
     "output_type": "stream",
     "text": [
      "True\n"
     ]
    }
   ],
   "source": [
    "#Case sensitive\n",
    "print(variable == variable)"
   ]
  },
  {
   "cell_type": "markdown",
   "id": "e08960d6-a07e-4bb2-88ed-3ce1129c5376",
   "metadata": {},
   "source": [
    "---\n",
    "### Case sensitive\n",
    "---"
   ]
  },
  {
   "cell_type": "code",
   "execution_count": 45,
   "id": "0202e92b-649f-4016-9950-dac489ead246",
   "metadata": {},
   "outputs": [],
   "source": [
    "#Start with a letter or underscore\n",
    "my_first_variable = 10\n",
    "_my_first_variable = 20 #Convention for Private Variables in Advance uses "
   ]
  },
  {
   "cell_type": "markdown",
   "id": "e5222019-ae42-42e9-bf5d-440355c84030",
   "metadata": {},
   "source": [
    "---\n",
    "### Followed by letters, digits, or underscores\n",
    "---"
   ]
  },
  {
   "cell_type": "code",
   "execution_count": 13,
   "id": "6d634e45-3a3f-403f-bc8e-d3e6d782cb19",
   "metadata": {},
   "outputs": [],
   "source": [
    "#Followed by letters, digits, or underscores\n",
    "variable_1 = 20\n",
    "my_variable_2 = 30"
   ]
  },
  {
   "cell_type": "markdown",
   "id": "fd0fb4ad-112d-4d65-9e8f-aa94e1749da3",
   "metadata": {},
   "source": [
    "---\n",
    "### No spaces \n",
    "---"
   ]
  },
  {
   "cell_type": "code",
   "execution_count": 14,
   "id": "346ee86d-5771-4c81-8fe6-edec83f8f216",
   "metadata": {},
   "outputs": [
    {
     "ename": "SyntaxError",
     "evalue": "invalid syntax (1414890307.py, line 2)",
     "output_type": "error",
     "traceback": [
      "\u001b[0;36m  Cell \u001b[0;32mIn[14], line 2\u001b[0;36m\u001b[0m\n\u001b[0;31m    my variable = 80\u001b[0m\n\u001b[0m       ^\u001b[0m\n\u001b[0;31mSyntaxError\u001b[0m\u001b[0;31m:\u001b[0m invalid syntax\n"
     ]
    }
   ],
   "source": [
    "#No spaces \n",
    "my variable = 80"
   ]
  },
  {
   "cell_type": "markdown",
   "id": "d65f67f2-733f-4b39-bb2c-facc93ccc5eb",
   "metadata": {},
   "source": [
    "---\n",
    "### Special characters \n",
    "---"
   ]
  },
  {
   "cell_type": "code",
   "execution_count": 21,
   "id": "21d5c323-eee4-4302-a4f4-b0e9ecdb0ab2",
   "metadata": {},
   "outputs": [
    {
     "ename": "SyntaxError",
     "evalue": "cannot assign to expression here. Maybe you meant '==' instead of '='? (2913824415.py, line 2)",
     "output_type": "error",
     "traceback": [
      "\u001b[0;36m  Cell \u001b[0;32mIn[21], line 2\u001b[0;36m\u001b[0m\n\u001b[0;31m    first-variable = 90\u001b[0m\n\u001b[0m    ^\u001b[0m\n\u001b[0;31mSyntaxError\u001b[0m\u001b[0;31m:\u001b[0m cannot assign to expression here. Maybe you meant '==' instead of '='?\n"
     ]
    }
   ],
   "source": [
    "#Special characters \n",
    "first-variable = 90\n",
    "first%variable = 40"
   ]
  },
  {
   "cell_type": "markdown",
   "id": "a8d2f32a-ca7c-4379-8c54-f6e2402676df",
   "metadata": {},
   "source": [
    "### Naming Conventions:"
   ]
  },
  {
   "cell_type": "markdown",
   "id": "c617b33a-01b5-4d6e-98b9-2f2796cced01",
   "metadata": {},
   "source": [
    "---\n",
    "### Snake Case (Preferred for Variables and Functions):\n",
    "---"
   ]
  },
  {
   "cell_type": "code",
   "execution_count": 22,
   "id": "37dc787e-fd52-42a8-a276-0ad6a4c401b7",
   "metadata": {},
   "outputs": [],
   "source": [
    "#Snake Case (Preferred for Variables and Functions):\n",
    "my_variable  = \"USA\""
   ]
  },
  {
   "cell_type": "markdown",
   "id": "0813ab5d-219a-4273-8edd-13df662f1061",
   "metadata": {},
   "source": [
    "---\n",
    "### Camel Case (Preferred for Classes)\n",
    "---"
   ]
  },
  {
   "cell_type": "code",
   "execution_count": 27,
   "id": "27afbc30-e85c-4494-a1c4-c11291faa340",
   "metadata": {},
   "outputs": [],
   "source": [
    "#Camel Case (Preferred for Classes)\n",
    "myVariable = \"JAPAN\""
   ]
  },
  {
   "cell_type": "markdown",
   "id": "033452c4-5426-421e-91e1-f2c79b9ae467",
   "metadata": {},
   "source": [
    "---\n",
    "### Uppercase for Constants\n",
    "---"
   ]
  },
  {
   "cell_type": "code",
   "execution_count": 23,
   "id": "a28518a8-6346-4cd5-9528-348ca9d486ee",
   "metadata": {},
   "outputs": [],
   "source": [
    "#Uppercase for Constants\n",
    "MAX_VALUE = 1000\n",
    "PI = 3.14"
   ]
  },
  {
   "cell_type": "markdown",
   "id": "e08bc89b-9a43-43c9-800f-a45f847ee8f1",
   "metadata": {},
   "source": [
    "---\n",
    "### Trailing Underscore (Avoid Conflicts with Keywords)\n",
    "---"
   ]
  },
  {
   "cell_type": "code",
   "execution_count": 26,
   "id": "32441335-7e9e-4739-a1b1-ffe27881f44f",
   "metadata": {},
   "outputs": [
    {
     "ename": "SyntaxError",
     "evalue": "invalid syntax (2194563661.py, line 2)",
     "output_type": "error",
     "traceback": [
      "\u001b[0;36m  Cell \u001b[0;32mIn[26], line 2\u001b[0;36m\u001b[0m\n\u001b[0;31m    class = 111\u001b[0m\n\u001b[0m          ^\u001b[0m\n\u001b[0;31mSyntaxError\u001b[0m\u001b[0;31m:\u001b[0m invalid syntax\n"
     ]
    }
   ],
   "source": [
    "#Trailing Underscore (Avoid Conflicts with Keywords)\n",
    "class = 111\n",
    "if = 145\n",
    "break = 212"
   ]
  },
  {
   "cell_type": "markdown",
   "id": "4b4a0b80-987c-4b73-9a4b-1dea29e1c281",
   "metadata": {},
   "source": [
    "\n",
    "---\n",
    "<span style=\"color:blue; font-size: 40px\">Understanding Datatypes and Data structure.</span>\n",
    "\n",
    "---\n",
    "![](https://i.pinimg.com/736x/9d/c4/46/9dc446d1ef546c2b10c5e56169507949.jpg)"
   ]
  },
  {
   "cell_type": "markdown",
   "id": "770423ad-73f4-4982-9126-524732b7dc7a",
   "metadata": {},
   "source": [
    "my_list = []\n",
    "my_dict = {}\n",
    "my_tuple = ()\n",
    "my_set = set()"
   ]
  },
  {
   "cell_type": "markdown",
   "id": "dfa182f4-2e36-4c63-865b-b1da5f78f593",
   "metadata": {},
   "source": [
    "---\n",
    "# Python provides several built-in functions and methods for performing basic operations on List.\n",
    "---"
   ]
  },
  {
   "cell_type": "markdown",
   "id": "e01d17ec-8c33-41c3-acaa-8a285a582e23",
   "metadata": {},
   "source": [
    "---\n",
    "### Length of a List:\n",
    "---"
   ]
  },
  {
   "cell_type": "code",
   "execution_count": 109,
   "id": "2dffefcf-bb91-4811-b7b1-04df27359f05",
   "metadata": {},
   "outputs": [
    {
     "name": "stdout",
     "output_type": "stream",
     "text": [
      "5\n"
     ]
    }
   ],
   "source": [
    "#Length of a List:\n",
    "my_list = [1, 2, 3, 4, 5]\n",
    "length = len(my_list)\n",
    "print(length) "
   ]
  },
  {
   "cell_type": "markdown",
   "id": "c26ddb83-bf06-4587-835b-07dd9afc0684",
   "metadata": {},
   "source": [
    "---\n",
    "### Adding Elements to a List:\n",
    "---"
   ]
  },
  {
   "cell_type": "code",
   "execution_count": 111,
   "id": "bb61e354-69b4-4764-858f-7d332248b6b0",
   "metadata": {},
   "outputs": [
    {
     "name": "stdout",
     "output_type": "stream",
     "text": [
      "[1, 2, 3, 4, 5, 6, 6]\n"
     ]
    }
   ],
   "source": [
    "#Adding Elements to a List:\n",
    "# append(): Adds an element to the end of the list\n",
    "my_list.append(6)\n",
    "print(my_list)"
   ]
  },
  {
   "cell_type": "markdown",
   "id": "8fa6c837-ec53-4ae6-803a-f0371fd5b0a5",
   "metadata": {},
   "source": [
    "---\n",
    "### Extends the list by appending elements from another iterable\n",
    "---"
   ]
  },
  {
   "cell_type": "code",
   "execution_count": 112,
   "id": "4154f6f8-64e3-4752-9780-178b5703b22e",
   "metadata": {},
   "outputs": [
    {
     "name": "stdout",
     "output_type": "stream",
     "text": [
      "[1, 2, 3, 4, 5, 6, 6, 7, 8, 9]\n"
     ]
    }
   ],
   "source": [
    "# extend(): Extends the list by appending elements from another iterable\n",
    "another_list = [7, 8, 9]\n",
    "my_list.extend(another_list)\n",
    "print(my_list)"
   ]
  },
  {
   "cell_type": "markdown",
   "id": "f776ef64-2aef-43c7-9bf6-27b865d22afd",
   "metadata": {},
   "source": [
    "---\n",
    "### Inserts an element at a specific index\n",
    "---"
   ]
  },
  {
   "cell_type": "code",
   "execution_count": 113,
   "id": "83a5f983-0f14-4232-8e95-793dcd913a1e",
   "metadata": {},
   "outputs": [
    {
     "name": "stdout",
     "output_type": "stream",
     "text": [
      "[1, 10, 2, 3, 4, 5, 6, 6, 7, 8, 9]\n"
     ]
    }
   ],
   "source": [
    "# insert(): Inserts an element at a specific index\n",
    "my_list.insert(1, 10)\n",
    "print(my_list)\n"
   ]
  },
  {
   "cell_type": "markdown",
   "id": "61840a8c-a179-45d8-b2da-e68bd9a323cb",
   "metadata": {},
   "source": [
    "---\n",
    "### Removing Elements from a List:\n",
    "---"
   ]
  },
  {
   "cell_type": "code",
   "execution_count": 117,
   "id": "3f2c1486-9d9b-4e35-a8c1-692193d0471c",
   "metadata": {},
   "outputs": [
    {
     "name": "stdout",
     "output_type": "stream",
     "text": [
      "[10, 2, 4, 5, 6, 6, 7, 9]\n"
     ]
    }
   ],
   "source": [
    "# remove(): Removes the first occurrence of a value\n",
    "my_list.remove(8)\n",
    "print(my_list)"
   ]
  },
  {
   "cell_type": "markdown",
   "id": "83eb077e-d96c-452c-90b7-c74a0f3baf96",
   "metadata": {},
   "source": [
    "___\n",
    "### Removes and returns an element at a specific index (or the last element if no index is specified)\n",
    "___"
   ]
  },
  {
   "cell_type": "code",
   "execution_count": 118,
   "id": "a85ee7f1-9b53-4741-9ce4-20a49caf0cb5",
   "metadata": {},
   "outputs": [
    {
     "name": "stdout",
     "output_type": "stream",
     "text": [
      "4\n"
     ]
    }
   ],
   "source": [
    "# pop(): Removes and returns an element at a specific index (or the last element if no index is specified)\n",
    "popped_element = my_list.pop(2)\n",
    "print(popped_element)"
   ]
  },
  {
   "cell_type": "markdown",
   "id": "5bde4f6d-9822-46b5-9477-61c0dbef81c0",
   "metadata": {},
   "source": [
    "---\n",
    "### Finding Elements in a List:\n",
    "---"
   ]
  },
  {
   "cell_type": "code",
   "execution_count": 120,
   "id": "9195b5b7-37c3-4103-80a3-ca1c167f00f9",
   "metadata": {},
   "outputs": [
    {
     "name": "stdout",
     "output_type": "stream",
     "text": [
      "2\n"
     ]
    }
   ],
   "source": [
    "#Finding Elements in a List:\n",
    "# index(): Returns the index of the first occurrence of a value\n",
    "index = my_list.index(5)\n",
    "print(index)\n"
   ]
  },
  {
   "cell_type": "markdown",
   "id": "a65b2086-a1bf-4141-8e1c-5d94c237aa87",
   "metadata": {},
   "source": [
    "___\n",
    "### Checks if a value is present in the list\n",
    "___\n"
   ]
  },
  {
   "cell_type": "code",
   "execution_count": 121,
   "id": "a95faece-b799-431d-a84a-924f2882b690",
   "metadata": {},
   "outputs": [
    {
     "name": "stdout",
     "output_type": "stream",
     "text": [
      "False\n"
     ]
    }
   ],
   "source": [
    "# Checks if a value is present in the list\n",
    "is_present = 4 in my_list\n",
    "print(is_present)"
   ]
  },
  {
   "cell_type": "markdown",
   "id": "0f83f53b-d675-485a-b93e-b426e31ef5d3",
   "metadata": {},
   "source": [
    "___\n",
    "### Sorting and Reversing a List:\n",
    "___"
   ]
  },
  {
   "cell_type": "code",
   "execution_count": 122,
   "id": "854d1293-6551-4287-b542-06b3af1f764e",
   "metadata": {},
   "outputs": [
    {
     "name": "stdout",
     "output_type": "stream",
     "text": [
      "[2, 5, 6, 6, 7, 9, 10]\n"
     ]
    }
   ],
   "source": [
    "#Sorting and Reversing a List:\n",
    "# sort(): Sorts the list in ascending order\n",
    "my_list.sort()\n",
    "print(my_list)"
   ]
  },
  {
   "cell_type": "code",
   "execution_count": 123,
   "id": "a7dce8cc-0e50-4397-8cfb-842d7799d3d7",
   "metadata": {},
   "outputs": [
    {
     "name": "stdout",
     "output_type": "stream",
     "text": [
      "[10, 9, 7, 6, 6, 5, 2]\n"
     ]
    }
   ],
   "source": [
    "# reverse(): Reverses the order of elements in the list\n",
    "my_list.reverse()\n",
    "print(my_list)"
   ]
  },
  {
   "cell_type": "code",
   "execution_count": 124,
   "id": "5ccb9bfc-6d06-40df-9e64-ddaec89e2559",
   "metadata": {},
   "outputs": [
    {
     "name": "stdout",
     "output_type": "stream",
     "text": [
      "1\n"
     ]
    }
   ],
   "source": [
    "#Counting Occurrences:\n",
    "# count(): Returns the number of occurrences of a value\n",
    "count_of_2 = my_list.count(2)\n",
    "print(count_of_2)"
   ]
  },
  {
   "cell_type": "markdown",
   "id": "6b06f14e-018b-4134-9640-690743347915",
   "metadata": {},
   "source": [
    "# Python provides several built-in functions and methods for performing basic operations on dictionaries. "
   ]
  },
  {
   "cell_type": "markdown",
   "id": "78888a3b-3cee-42c6-adc2-361981b62b54",
   "metadata": {},
   "source": [
    "---\n",
    "### Accessing Elements:\n",
    "---"
   ]
  },
  {
   "cell_type": "code",
   "execution_count": 127,
   "id": "7bd0f0f0-7099-4384-8c3c-b4094c03e7a9",
   "metadata": {},
   "outputs": [
    {
     "name": "stdout",
     "output_type": "stream",
     "text": [
      "{'a': 1, 'b': 2, 'c': 3}\n"
     ]
    }
   ],
   "source": [
    "#Accessing Elements:\n",
    "my_dict = {'a': 1, 'b': 2, 'c': 3}\n",
    "print(my_dict)"
   ]
  },
  {
   "cell_type": "markdown",
   "id": "5e0677e2-a712-4c47-a02e-ac899dd41400",
   "metadata": {},
   "source": [
    "---\n",
    "### Returns the value for the specified key\n",
    "---"
   ]
  },
  {
   "cell_type": "code",
   "execution_count": null,
   "id": "405645cd-0fc8-4e43-96f1-5bb17ddb3c4f",
   "metadata": {},
   "outputs": [],
   "source": [
    "# get(): Returns the value for the specified key, or a default value if the key is not present\n",
    "value = my_dict.get('c', 0)\n",
    "print(value)"
   ]
  },
  {
   "cell_type": "markdown",
   "id": "8b8914e2-eaf8-4331-8a44-52614d1b9d36",
   "metadata": {},
   "source": [
    "___\n",
    "### Adding or Updating Elements:\n",
    "___"
   ]
  },
  {
   "cell_type": "code",
   "execution_count": 90,
   "id": "872706cc-752b-4a52-a810-3db8c1bdb7d6",
   "metadata": {},
   "outputs": [
    {
     "name": "stdout",
     "output_type": "stream",
     "text": [
      "{'a': 1, 'b': 4, 'c': 3, 'd': 5, 'e': 6}\n"
     ]
    }
   ],
   "source": [
    "#Adding or Updating Elements:\n",
    "# update(): Updates the dictionary with elements from another dictionary or iterable\n",
    "another_dict = {'b': 4, 'd': 5}\n",
    "my_dict.update(another_dict)"
   ]
  },
  {
   "cell_type": "markdown",
   "id": "84088b1c-3b51-44e7-83f7-b8e2ae2f7e0e",
   "metadata": {},
   "source": [
    "___\n",
    "### Inserts a key-value pair into the dictionary if the key does not exist\n",
    "___"
   ]
  },
  {
   "cell_type": "code",
   "execution_count": 129,
   "id": "78d77a12-b38a-4831-ae7c-e78800a5f8c7",
   "metadata": {},
   "outputs": [
    {
     "name": "stdout",
     "output_type": "stream",
     "text": [
      "{'a': 1, 'b': 2, 'c': 3, 'e': 6}\n"
     ]
    }
   ],
   "source": [
    "# setdefault(): Inserts a key-value pair into the dictionary if the key does not exist\n",
    "my_dict.setdefault('e', 6)\n",
    "\n",
    "print(my_dict)"
   ]
  },
  {
   "cell_type": "markdown",
   "id": "98cb931a-32ce-4fc4-979f-33db9c128b5d",
   "metadata": {},
   "source": [
    "___\n",
    "### Removing Elements:\n",
    "___"
   ]
  },
  {
   "cell_type": "code",
   "execution_count": null,
   "id": "6da7648c-6247-46d6-b15b-3c0f650aafaf",
   "metadata": {},
   "outputs": [],
   "source": [
    "#Removing Elements:\n",
    "# pop(): Removes and returns the value for a specified key\n",
    "value = my_dict.pop('b')\n"
   ]
  },
  {
   "cell_type": "markdown",
   "id": "3f9bb8ae-f317-4174-b3d1-2b8684fe7429",
   "metadata": {},
   "source": [
    "___\n",
    "###  Removes and returns the last key-value pair as a tuple\n",
    "___"
   ]
  },
  {
   "cell_type": "code",
   "execution_count": null,
   "id": "528e3900-1d84-4e14-b37b-c46f4d9cbfc6",
   "metadata": {},
   "outputs": [],
   "source": [
    "\n",
    "# popitem(): Removes and returns the last key-value pair as a tuple\n",
    "last_item = my_dict.popitem()\n",
    "\n"
   ]
  },
  {
   "cell_type": "markdown",
   "id": "d862b231-8162-4c2e-8381-fe527afc04e6",
   "metadata": {},
   "source": [
    "___\n",
    "### Deletes a specific key or the entire dictionary\n",
    "___"
   ]
  },
  {
   "cell_type": "code",
   "execution_count": null,
   "id": "280684df-7e7e-435d-b39d-b5ffdebfed79",
   "metadata": {},
   "outputs": [],
   "source": [
    "# del: Deletes a specific key or the entire dictionary\n",
    "del my_dict['a']\n",
    "del my_dict  # Deletes the entire dictionary\n"
   ]
  },
  {
   "cell_type": "markdown",
   "id": "ae1073d9-d190-45b5-95e2-c9beb92abaaa",
   "metadata": {},
   "source": [
    "___\n",
    "\n",
    "### Removes all items from the dictionary\n",
    "___"
   ]
  },
  {
   "cell_type": "code",
   "execution_count": null,
   "id": "41d511a5-0619-46db-994a-ef7d845b07b8",
   "metadata": {},
   "outputs": [],
   "source": [
    "# clear(): Removes all items from the dictionary\n",
    "my_dict.clear()"
   ]
  },
  {
   "cell_type": "markdown",
   "id": "88087e9d-c7e0-4ac6-8e25-2d767f252ecd",
   "metadata": {},
   "source": [
    "___\n",
    "### Checking for Key Existence\n",
    "___"
   ]
  },
  {
   "cell_type": "code",
   "execution_count": null,
   "id": "73b3a635-7048-4ade-86eb-4432fd80d0be",
   "metadata": {},
   "outputs": [],
   "source": [
    "#Checking for Key Existence\n",
    "# keys(): Returns a view of all keys in the dictionary\n",
    "all_keys = my_dict.keys()"
   ]
  },
  {
   "cell_type": "markdown",
   "id": "78d3aaad-a7da-4fd3-a016-37a44881bf48",
   "metadata": {},
   "source": [
    "___\n",
    "### Returns a view of all values in the dictionary\n",
    "___"
   ]
  },
  {
   "cell_type": "code",
   "execution_count": null,
   "id": "cb1abb1d-5fa7-47cf-9de3-20a0da8e4ba3",
   "metadata": {},
   "outputs": [],
   "source": [
    "# values(): Returns a view of all values in the dictionary\n",
    "all_values = my_dict.values()\n"
   ]
  },
  {
   "cell_type": "markdown",
   "id": "a26f520a-6931-4a42-8694-6fa46bba418e",
   "metadata": {},
   "source": [
    "---\n",
    "### Returns a view of all key-value pairs as tuples\n",
    "---"
   ]
  },
  {
   "cell_type": "code",
   "execution_count": null,
   "id": "6ca9a591-191d-47fd-a866-831b82335ebd",
   "metadata": {},
   "outputs": [],
   "source": [
    "# items(): Returns a view of all key-value pairs as tuples\n",
    "all_items = my_dict.items()"
   ]
  },
  {
   "cell_type": "markdown",
   "id": "2eb08396-ed87-4ac4-9210-d0688ad9d124",
   "metadata": {},
   "source": [
    "---\n",
    "### Returns a view of all key-value pairs as tuples\n",
    "---"
   ]
  },
  {
   "cell_type": "markdown",
   "id": "add57965-0234-4c46-80e6-164748895c5f",
   "metadata": {},
   "source": [
    "---\n",
    "# Checks if a key is present in the dictionary\n",
    "---"
   ]
  },
  {
   "cell_type": "code",
   "execution_count": null,
   "id": "527b3c6e-0a11-4e12-87e9-632315a66562",
   "metadata": {},
   "outputs": [],
   "source": [
    "# in keyword: Checks if a key is present in the dictionary\n",
    "is_present = 'a' in my_dict"
   ]
  },
  {
   "cell_type": "markdown",
   "id": "52fe1189-b515-4cca-9d5f-f3ebd8046836",
   "metadata": {},
   "source": [
    "---\n",
    "<span style=\"color:blue; font-size: 40px\"> A brief overview of a for loop.</span>\n",
    "\n",
    "---\n",
    "![](https://cdn-icons-png.flaticon.com/512/1248/1248831.png)"
   ]
  },
  {
   "cell_type": "code",
   "execution_count": null,
   "id": "e674f3a0-0735-404b-b86d-2965961913ff",
   "metadata": {},
   "outputs": [],
   "source": [
    "# A brief overview of a for loop\n",
    "fruits = [\"apple\", \"banana\", \"cherry\"]\n",
    "\n",
    "for fruit in fruits:\n",
    "    print(fruit)"
   ]
  },
  {
   "cell_type": "code",
   "execution_count": null,
   "id": "c49f89c5-d00b-43fd-bdae-bb5c49e53041",
   "metadata": {},
   "outputs": [],
   "source": [
    "# Example: Using a for loop with a list\n",
    "\n",
    "# Define a list of numbers\n",
    "numbers = [1, 2, 3, 4, 5]\n",
    "\n",
    "# Iterate over each element in the list using a for loop\n",
    "for num in numbers:\n",
    "    # Print each element multiplied by 2\n",
    "    print(num * 2)"
   ]
  },
  {
   "cell_type": "markdown",
   "id": "78cf48b7-e86a-4071-98ba-b57740ba41c3",
   "metadata": {},
   "source": [
    "---\n",
    "<span style=\"color:blue; font-size: 40px\"> Importing a Module.</span>\n",
    "\n",
    "---\n",
    "![](https://cdn-icons-png.flaticon.com/512/5133/5133626.png)\n",
    "\n",
    "### from toolbox get hammer"
   ]
  },
  {
   "cell_type": "code",
   "execution_count": null,
   "id": "f749a515-1932-43b2-a844-2165128e84bc",
   "metadata": {},
   "outputs": [],
   "source": [
    "import numpy as np\n",
    "import pandas as pd"
   ]
  },
  {
   "cell_type": "markdown",
   "id": "ca441b59-86d8-4f84-a112-bf927e1670e1",
   "metadata": {},
   "source": [
    "---\n",
    "<span style=\"color:blue; font-size: 40px\"> Advance datatypes.</span>\n",
    "\n",
    "---\n",
    "\n"
   ]
  },
  {
   "cell_type": "code",
   "execution_count": 177,
   "id": "f32ab52f-cc68-4c9a-8fa0-4cad1aa0e70f",
   "metadata": {},
   "outputs": [
    {
     "name": "stdout",
     "output_type": "stream",
     "text": [
      "Matrix A:\n",
      "[[1 2]\n",
      " [3 4]]\n"
     ]
    }
   ],
   "source": [
    "import numpy as np\n",
    "\n",
    "# Create a 2x2 matrix\n",
    "matrix_a = np.array([[1, 2],\n",
    "                    [3, 4]])\n",
    "\n",
    "# Display the original matrix\n",
    "print(\"Matrix A:\")\n",
    "print(matrix_a)\n"
   ]
  },
  {
   "cell_type": "code",
   "execution_count": 174,
   "id": "f8dfd1b8-5d44-4948-86c5-76f83f9850be",
   "metadata": {},
   "outputs": [
    {
     "name": "stdout",
     "output_type": "stream",
     "text": [
      "\n",
      "Transpose of Matrix A:\n",
      "[[1 3]\n",
      " [2 4]]\n"
     ]
    }
   ],
   "source": [
    "# Perform some mathematical operations\n",
    "\n",
    "# Matrix Transposition\n",
    "matrix_transpose = np.transpose(matrix_a)\n",
    "print(\"\\nTranspose of Matrix A:\")\n",
    "print(matrix_transpose)\n"
   ]
  },
  {
   "cell_type": "code",
   "execution_count": 175,
   "id": "3e820844-9199-438d-a5be-f234ae7a7953",
   "metadata": {},
   "outputs": [
    {
     "name": "stdout",
     "output_type": "stream",
     "text": [
      "\n",
      "Matrix A Scaled by 2:\n",
      "[[2 4]\n",
      " [6 8]]\n"
     ]
    }
   ],
   "source": [
    "# Matrix Multiplication by Scalar\n",
    "scalar_multiplier = 2\n",
    "matrix_scaled = scalar_multiplier * matrix_a\n",
    "print(\"\\nMatrix A Scaled by 2:\")\n",
    "print(matrix_scaled)\n",
    "\n"
   ]
  },
  {
   "cell_type": "code",
   "execution_count": 176,
   "id": "7896493e-9271-4f9f-81e9-e8491aa6c081",
   "metadata": {},
   "outputs": [
    {
     "name": "stdout",
     "output_type": "stream",
     "text": [
      "\n",
      "Element-wise Square of Matrix A:\n",
      "[[ 1  4]\n",
      " [ 9 16]]\n"
     ]
    }
   ],
   "source": [
    "# Element-wise Square\n",
    "matrix_squared = np.square(matrix_a)\n",
    "print(\"\\nElement-wise Square of Matrix A:\")\n",
    "print(matrix_squared)\n",
    "\n"
   ]
  },
  {
   "cell_type": "code",
   "execution_count": 173,
   "id": "cdae36ba-0677-40dd-99ef-f43fad735482",
   "metadata": {},
   "outputs": [],
   "source": [
    "# Matrix Addition\n",
    "matrix_b = np.array([[5, 6],\n",
    "                    [7, 8]])"
   ]
  },
  {
   "cell_type": "code",
   "execution_count": null,
   "id": "8785594c-d8ea-4ac0-b486-30a0b23e833b",
   "metadata": {},
   "outputs": [],
   "source": [
    "# Matrix Sum\n",
    "matrix_sum = matrix_a + matrix_b\n",
    "print(\"\\nMatrix Sum (A + B):\")\n",
    "print(matrix_sum)"
   ]
  },
  {
   "cell_type": "code",
   "execution_count": 209,
   "id": "ca2f4ce6-edc0-4aeb-b852-ebe97a9ab800",
   "metadata": {},
   "outputs": [
    {
     "name": "stdout",
     "output_type": "stream",
     "text": [
      "Standard Deviation: 2.8722813232690143\n"
     ]
    }
   ],
   "source": [
    "import numpy as np\n",
    "\n",
    "# Example data (replace this with your own data)\n",
    "data = np.array([[1, 2, 3, 4, 5, 6, 7, 8, 9, 10],[1, 2, 3, 4, 5, 6, 7, 8, 9, 10]])\n",
    "\n",
    "# Calculate the standard deviation\n",
    "std_dev = np.std(data)\n",
    "\n",
    "# Print the result\n",
    "print(\"Standard Deviation:\", std_dev)"
   ]
  },
  {
   "cell_type": "code",
   "execution_count": 49,
   "id": "8d445a68-f8fd-4cf2-94c5-40e74e788b84",
   "metadata": {},
   "outputs": [
    {
     "name": "stdout",
     "output_type": "stream",
     "text": [
      "Original DNA Sequences:\n",
      "ATGC\n",
      "CTAATG\n",
      "GAGAGAGA\n",
      "TATCGATCGA\n",
      "\n",
      "Reverse Complements:\n",
      "GCAT\n",
      "CATTAG\n",
      "TCTCTCTC\n",
      "TCGATCGATA\n"
     ]
    }
   ],
   "source": [
    "from Bio.Seq import Seq\n",
    "\n",
    "# List of DNA sequences\n",
    "dna_sequences = [\"ATGC\", \"CTAATG\", \"GAGAGAGA\", \"TATCGATCGA\"]\n",
    "\n",
    "# Create a list to store Biopython Seq objects\n",
    "biopython_seqs = [Seq(seq) for seq in dna_sequences]\n",
    "\n",
    "# Display original DNA sequences\n",
    "print(\"Original DNA Sequences:\")\n",
    "for seq in dna_sequences:\n",
    "    print(seq)\n",
    "\n",
    "# Display reverse complements using Biopython\n",
    "print(\"\\nReverse Complements:\")\n",
    "for biopython_seq in biopython_seqs:\n",
    "    reverse_complement = biopython_seq.reverse_complement()\n",
    "    print(reverse_complement)"
   ]
  },
  {
   "cell_type": "code",
   "execution_count": 211,
   "id": "4ed7d552-8b24-49c8-ba68-a34281aa5160",
   "metadata": {},
   "outputs": [
    {
     "data": {
      "text/html": [
       "<div>\n",
       "<style scoped>\n",
       "    .dataframe tbody tr th:only-of-type {\n",
       "        vertical-align: middle;\n",
       "    }\n",
       "\n",
       "    .dataframe tbody tr th {\n",
       "        vertical-align: top;\n",
       "    }\n",
       "\n",
       "    .dataframe thead th {\n",
       "        text-align: right;\n",
       "    }\n",
       "</style>\n",
       "<table border=\"1\" class=\"dataframe\">\n",
       "  <thead>\n",
       "    <tr style=\"text-align: right;\">\n",
       "      <th></th>\n",
       "      <th>Name</th>\n",
       "      <th>Age</th>\n",
       "      <th>Salary</th>\n",
       "    </tr>\n",
       "  </thead>\n",
       "  <tbody>\n",
       "    <tr>\n",
       "      <th>0</th>\n",
       "      <td>employee_1</td>\n",
       "      <td>25</td>\n",
       "      <td>50000</td>\n",
       "    </tr>\n",
       "    <tr>\n",
       "      <th>1</th>\n",
       "      <td>employee_2</td>\n",
       "      <td>30</td>\n",
       "      <td>60000</td>\n",
       "    </tr>\n",
       "    <tr>\n",
       "      <th>2</th>\n",
       "      <td>employee_3</td>\n",
       "      <td>35</td>\n",
       "      <td>75000</td>\n",
       "    </tr>\n",
       "    <tr>\n",
       "      <th>3</th>\n",
       "      <td>employee_4</td>\n",
       "      <td>28</td>\n",
       "      <td>48000</td>\n",
       "    </tr>\n",
       "    <tr>\n",
       "      <th>4</th>\n",
       "      <td>employee_5</td>\n",
       "      <td>22</td>\n",
       "      <td>55000</td>\n",
       "    </tr>\n",
       "  </tbody>\n",
       "</table>\n",
       "</div>"
      ],
      "text/plain": [
       "         Name  Age  Salary\n",
       "0  employee_1   25   50000\n",
       "1  employee_2   30   60000\n",
       "2  employee_3   35   75000\n",
       "3  employee_4   28   48000\n",
       "4  employee_5   22   55000"
      ]
     },
     "execution_count": 211,
     "metadata": {},
     "output_type": "execute_result"
    }
   ],
   "source": [
    "import pandas as pd\n",
    "import matplotlib.pyplot as plt\n",
    "\n",
    "# Create a dictionary with sample data\n",
    "data = {\n",
    "    'Name': ['employee_1', 'employee_2', 'employee_3', 'employee_4', 'employee_5'],\n",
    "    'Age': [25, 30, 35, 28, 22],\n",
    "    'Salary': [50000, 60000, 75000, 48000, 55000]\n",
    "}\n",
    "\n",
    "# Convert the dictionary to a Pandas DataFrame\n",
    "df = pd.DataFrame(data)\n",
    "\n",
    "df"
   ]
  },
  {
   "cell_type": "code",
   "execution_count": 212,
   "id": "69b22d74-9132-45d4-99d9-0e62215cc982",
   "metadata": {
    "scrolled": true
   },
   "outputs": [
    {
     "name": "stdout",
     "output_type": "stream",
     "text": [
      "DataFrame:\n",
      "         Name  Age  Salary\n",
      "0  employee_1   25   50000\n",
      "1  employee_2   30   60000\n",
      "2  employee_3   35   75000\n",
      "3  employee_4   28   48000\n",
      "4  employee_5   22   55000\n"
     ]
    },
    {
     "data": {
      "image/png": "[encoded data removed]",
      "text/plain": [
       "<Figure size 640x480 with 1 Axes>"
      ]
     },
     "metadata": {},
     "output_type": "display_data"
    }
   ],
   "source": [
    "# Display the DataFrame\n",
    "print(\"DataFrame:\")\n",
    "print(df)\n",
    "\n",
    "# Create a plot using Pandas built-in plotting function\n",
    "df.plot(x='Name', y='Salary', kind='bar', title='Salary Information', legend=False)\n",
    "plt.xlabel('Name')\n",
    "plt.ylabel('Salary')\n",
    "plt.show()"
   ]
  },
  {
   "cell_type": "code",
   "execution_count": 213,
   "id": "12206c40-1971-4d67-9fcc-ff0e435731fb",
   "metadata": {},
   "outputs": [
    {
     "name": "stdout",
     "output_type": "stream",
     "text": [
      "Original Protein Sequence:\n",
      "MAGVHIKLSLKGJDNSRWTYQLENAVMCDAGNPNNKLSGWMRVLEDAFVXITSSDSCFE\n",
      "\n",
      "Generated Peptides:\n",
      "Peptide 1: VHIKLSLK: \n",
      "Peptide 2: IKLSLKGJ: \n",
      "Peptide 3: LSLKGJDN: \n",
      "Peptide 4: SLKGJDNS: \n",
      "Peptide 5: LKGJDNSR: \n",
      "Peptide 6: KGJDNSRW: \n"
     ]
    }
   ],
   "source": [
    "# Example: Creating peptides from a protein sequence\n",
    "\n",
    "# Protein sequence\n",
    "protein_sequence = \"MAGVHIKLSLKGJDNSRWTYQLENAVMCDAGNPNNKLSGWMRVLEDAFVXITSSDSCFE\"\n",
    "\n",
    "# Define the length of each peptide\n",
    "peptide_length = 10\n",
    "\n",
    "# Create a list to store peptides\n",
    "peptides = []\n",
    "\n",
    "# Generate peptides using list slicing\n",
    "for i in  [1, 3, 5, 6, 7, 8]:\n",
    "    peptide = protein_sequence[i+2:i+10]\n",
    "    peptides.append(peptide)\n",
    "\n",
    "# Display the original protein sequence\n",
    "print(\"Original Protein Sequence:\")\n",
    "print(protein_sequence)\n",
    "\n",
    "# Display the generated peptides\n",
    "print(\"\\nGenerated Peptides:\")\n",
    "for i, peptide in enumerate(peptides, 1):\n",
    "    print(f\"Peptide {i}: {peptide}: \")\n",
    "\n",
    "#How to print peptide length "
   ]
  },
  {
   "cell_type": "code",
   "execution_count": 198,
   "id": "b2c5fce5-ff05-4eee-8288-44796f640bfa",
   "metadata": {},
   "outputs": [],
   "source": [
    "# Accessing entrez Database\n",
    "entrez_ids = [\n",
    "    '345678', '901234', '567890', '234567', '890123',\n",
    "    '456789', '012345', '678901', '234567', '890123',\n",
    "    '456789', '012345', '678901', '234567', '890123',\n",
    "    '567890', '234567'\n",
    "]"
   ]
  },
  {
   "cell_type": "code",
   "execution_count": 199,
   "id": "348efd64-02c2-4d61-ae47-a480b6ac431b",
   "metadata": {},
   "outputs": [],
   "source": [
    "# Q: Can you tell  me the number of unique IDS\n",
    "# Q: Can you print(last three)\n",
    "# Q: Can you append this id to list (Y000000)"
   ]
  },
  {
   "cell_type": "code",
   "execution_count": 200,
   "id": "4d656fce-d1ad-4d90-b12c-be0222af75ca",
   "metadata": {},
   "outputs": [
    {
     "name": "stdout",
     "output_type": "stream",
     "text": [
      "TCCATTTAATTNGTATTTATTGAGTCATGGCTCTGTACTGTTAGGCATTTGGGAATACAGAGATGAGACAGACAAAGGCCCTGCCCCAAGGAACTTACAGTCTAGCACAAAAACAGACCAAAAAAGTGTAGTTTCAATGACGTGTAACAGAGAGTTAAGAAGGAAATGCAAGGGGCCATGGGAACACTGTGCAGAAATATTTAACTTAGTCTAGGGGGACAGGGAAGGCTTCCCCAAAGGAGAAGTGTGGATACCTCTGACAGGGCGAGATTTAGCATGGCCTCTCTTGGGTGCTATGTGTTCCTTCATGATCGGCTTCACTTCCGGCCTCATCTGCCATTTTATAGCTCTTGCTTTTCAAATGTGGGGAGTCTCCTCTGTTGTAACTCGTGCTACTAGGTAAATTGTTTGCTGTTAACTTTGAGGATTTACCNCGGGGNAGGGGAATTCAGCTATCCCGG\n"
     ]
    }
   ],
   "source": [
    "from Bio import Entrez, SeqIO\n",
    "\n",
    "# Provide your email address to identify yourself to NCBI\n",
    "Entrez.email = \"your.email@example.com\"\n",
    "\n",
    "# Search for the COX-2 gene in humans\n",
    "\n",
    "\n",
    "search_query = \"Homo sapiens COX-2\"\n",
    "handle = Entrez.esearch(db=\"nucleotide\", term=search_query, sort=\"relevance\", idtype=\"acc\")\n",
    "record = Entrez.read(handle)\n",
    "gene_id = record[\"IdList\"][0]\n",
    "\n",
    "# Fetch the gene sequence\n",
    "handle = Entrez.efetch(db=\"nucleotide\", id='678901', rettype=\"gb\", retmode=\"text\")\n",
    "record = SeqIO.read(handle, \"genbank\")\n",
    "gene_sequence = record.seq\n",
    "\n",
    "# Display the gene sequence\n",
    "\n",
    "print(gene_sequence)"
   ]
  },
  {
   "cell_type": "code",
   "execution_count": 203,
   "id": "5b8b979d-43cf-4c16-a81e-00bceb2174e0",
   "metadata": {},
   "outputs": [],
   "source": [
    "restriction_site = 'CATACA'\n",
    "\n",
    "\n",
    "gene_sequence = \"ATGCTCGCCCGCGCCCTGCTGCTGTGCGCGGTCCTGGCGCTCAGCCATACAGCAAATCCTTGCTGTTCCCACCCATGTCAAAACCGAGGTGTATGTATGAGTGTGGGATTTGACCAGTATAAGTGCGATTGTACCCGGACAGGATTCTATGGAGAAAACTGCTCAACACCGGAATTTTTGACAAGAATAAAATTATTTCTGAAACCCACTCCAAACACAGTGCACTACATACTTACCCACTTCAAGGGATTTTGGAACGTTGTGAATAACATTCCCTTCCTTCGAAATGCAATTATGAGTTATGTGTTGACATCCAGATCACATTTGATTGACAGTCCACCAACTTACAATGCTGACTATGGCTACAAAAGCTGGGAAGCCTTCTCTAACCTCTCCTATTATACTAGAGCCCTTCCTCCTGTGCCTGATGATTGCCCGACTCCCTTGGGTGTCAAAGCACTTCACGCATCAGTTTTTCAAGACAGATCATAAGCGAGGGCCAGCTTTCACCAACGGGCTGGGCCATGGGGTGGACTTAAATCATATTTACGGTGAAACTCTGGCTAGACAGCGTAAACTGCGCCTTTTCAAGGATGGAAAAATGAAATATCAGATAATTGATGGAGAGATGTATCCTCCCACAGTCAAAGATACTCAGGCAGAGATGATCTACCCTCCTCAAGTCCCTGAGCATCTACGGTTTGCTGTGGGGCAGGAGGTCTTTGGTCTGGTGCCTGGTCTGATGATGTATGCCACAATCTGGCTGCGGGAACACAACAGAGTATGCGATGTGCTTAAACAGGAGCATCCTGAATGGGGTGATGAGCAGTTGTTCCAGACAAGCAGGCTAATACTGATAGGAGAGACTATTAAGATTGTGATTGAAGATTATGTGCAACACTTGAGTGGCTATCACTTCAAACTGAAATTTGACCCAGAACTACTTTTCAACAAACAATTCCAGTACCAAAATCGTATTGCTGCTGAATTTAACACCCTCTATCACTGGCATCCCCTTCTGCCTGACACCTTTCAAATTCATGACCAGAAATACAACTATCAACAGTTTATCTACAACAACTCTATATTGCTGGAACATGGAATTACCCAGTTTGTTGAATCATTCACCAGGCAAATTGCTGGCAGGGTTGCTGGTGGTAGGAATGTTCCACCCGCAGTACAGAAAGTATCACAGGCTTCCATTGACCAGAGCAGGCAGATGAAATACCAGTCTTTTAATGAGTACCGCAAACGCTTTATGCTGAAGCCCTATGAATCATTTGAAGAACTTACAGGAGAAAAGGAAATGTCTGCAGAGTTGGAAGCACTCTATGGTGACATCGATGCTGTGGAGCTGTATCCTGCCCTTCTGGTAGAAAAGCCTCGGCCAGATGCCATCTTTGGTGAAACCATGGTAGAAGTTGGAGCACCATTCTCCTTGAAAGGACTTATGGGTAATGTTATATGTTCTCCTGCCTACTGGAAGCCAAGCACTTTTGGTGGAGAAGTGGGTTTTCAAATCATCAACACTGCCTCAATTCAGTCTCTCATCTGCAATAACGTGAAGGGCTGTCCCTTTACTTCATTCAGTGTTCCAGATCCAGAGCTCATTAAAACAGTCACCATCAATGCAAGTTCTTCCCGCTCCGGACTAGATGATATCAATCCCACAGTACTACTAAAAGAACGTTCGACTGAACTGTAG\""
   ]
  },
  {
   "cell_type": "code",
   "execution_count": 204,
   "id": "0556ee12-ec1b-494d-b653-58a424c46cf6",
   "metadata": {},
   "outputs": [],
   "source": [
    "current_index = gene_sequence.find(restriction_site)"
   ]
  },
  {
   "cell_type": "code",
   "execution_count": 208,
   "id": "53bf9725-87ee-412b-8f56-5e80f6e2596e",
   "metadata": {},
   "outputs": [
    {
     "data": {
      "text/plain": [
       "2"
      ]
     },
     "execution_count": 208,
     "metadata": {},
     "output_type": "execute_result"
    }
   ],
   "source": [
    "current_index\n",
    "\n",
    "len(gene_sequence.split('CATACA'))\n"
   ]
  },
  {
   "cell_type": "code",
   "execution_count": 39,
   "id": "db15433d-2e4f-4964-a6a0-97599762a438",
   "metadata": {},
   "outputs": [
    {
     "name": "stdout",
     "output_type": "stream",
     "text": [
      "Standard Deviation: 2.8722813232690143\n"
     ]
    }
   ],
   "source": [
    "import numpy as np\n",
    "\n",
    "# Example data (replace this with your own data)\n",
    "data = np.array([[1, 2, 3, 4, 5, 6, 7, 8, 9, 10],[1, 2, 3, 4, 5, 6, 7, 8, 9, 10]])\n",
    "\n",
    "# Calculate the standard deviation\n",
    "std_dev = np.std(data)\n",
    "\n",
    "# Print the result\n",
    "print(\"Standard Deviation:\", std_dev)"
   ]
  },
  {
   "cell_type": "code",
   "execution_count": 214,
   "id": "cf2a8d61-d124-48c0-b28c-237f4ffe9472",
   "metadata": {},
   "outputs": [
    {
     "name": "stdout",
     "output_type": "stream",
     "text": [
      "Standard Deviation along axis 1: [ 2.87228132 29.15475947]\n"
     ]
    }
   ],
   "source": [
    "import numpy as np\n",
    "\n",
    "# Example data\n",
    "data = np.array([[1, 2, 3, 4, 5, 6, 7, 8, 9, 10], [1, 2, 3, 4, 80,76, 7, 8, 9, 10]])\n",
    "\n",
    "# Calculate the standard deviation along axis 1 (across columns)\n",
    "std_dev_axis1 = np.std(data, axis=1)\n",
    "\n",
    "# Print the result\n",
    "print(\"Standard Deviation along axis 1:\", std_dev_axis1)"
   ]
  },
  {
   "cell_type": "code",
   "execution_count": null,
   "id": "bf6d2a6b-ca68-45bf-be2b-d35b05ce2e94",
   "metadata": {},
   "outputs": [],
   "source": []
  },
  {
   "cell_type": "code",
   "execution_count": 221,
   "id": "554ba7a3-9a02-4e56-bb35-0ee325154f11",
   "metadata": {},
   "outputs": [],
   "source": [
    "# from Bio import Entrez\n",
    "\n",
    "# def fetch_protein_sequence(accession_number):\n",
    "#     # Provide your email address to NCBI\n",
    "#     Entrez.email = \"your_email@example.com\"\n",
    "\n",
    "#     # Specify the database (e.g., \"protein\") and the accession number\n",
    "#     database = \"protein\"\n",
    "#     accession = accession_number\n",
    "\n",
    "#     # Fetch the record using Entrez.efetch\n",
    "#     handle = Entrez.efetch(db=database, id=accession, rettype=\"fasta\", retmode=\"text\")\n",
    "#     record = handle.read()\n",
    "\n",
    "#     # Close the handle\n",
    "#     handle.close()\n",
    "\n",
    "#     return record\n",
    "\n",
    "# # Example: Fetching a protein sequence for a specific accession number\n",
    "# accession_number = \"P38398\"  # Replace with your desired accession number\n",
    "# protein_sequence = fetch_protein_sequence(accession_number)\n",
    "\n",
    "# print(protein_sequence)"
   ]
  },
  {
   "cell_type": "code",
   "execution_count": 219,
   "id": "bcc5f97d-123e-4e02-8a5b-25b9b9b20d7f",
   "metadata": {},
   "outputs": [],
   "source": [
    "from Bio import Entrez\n",
    "\n",
    "accession_number = \"P38398\" \n",
    "\n",
    "# def fetch_metadata(accession_number):\n",
    "    # Provide your email address to NCBI\n",
    "Entrez.email = \"your_email@example.com\"\n",
    "\n",
    "# Specify the database (e.g., \"protein\") and the accession number\n",
    "database = \"protein\"\n",
    "accession = accession_number\n",
    "\n",
    "# Fetch the metadata using Entrez.efetch with retmode=\"xml\"\n",
    "handle = Entrez.efetch(db=database, id=accession, retmode=\"xml\")\n",
    "record = Entrez.read(handle)\n",
    "\n",
    "# Close the handle\n",
    "handle.close()\n",
    "\n",
    "    \n",
    "# Example: Fetching metadata for a specific accession number\n",
    "# accession_number = \"P38398\"  # Replace with your desired accession number\n",
    "metadata = record\n",
    "\n",
    "# Print the metadata\n",
    "# print(metadata)\n"
   ]
  },
  {
   "cell_type": "code",
   "execution_count": 162,
   "id": "ae34a0cc-8f47-41e7-93c1-6b0e80fff4a1",
   "metadata": {},
   "outputs": [
    {
     "data": {
      "text/plain": [
       "'mdlsalrveevqnvinamqkilecpiclelikepvstkcdhifckfcmlkllnqkkgpsqcplcknditkrslqestrfsqlveellkiicafqldtgleyansynfakkennspehlkdevsiiqsmgyrnrakrllqsepenpslqetslsvqlsnlgtvrtlrtkqriqpqktsvyielgsdssedtvnkatycsvgdqellqitpqgtrdeisldsakkaacefsetdvtntehhqpsnndlnttekraaerhpekyqgssvsnlhvepcgtnthasslqhenssllltkdrmnvekaefcnkskqpglarsqhnrwagsketcndrrtpstekkvdlnadplcerkewnkqklpcsenprdtedvpwitlnssiqkvnewfsrsdellgsddshdgesesnakvadvldvlnevdeysgssekidllasdphealickservhsksvesniedkifgktyrkkaslpnlshvtenliigafvtepqiiqerpltnklkrkrrptsglhpedfikkadlavqktpeminqgtnqteqngqvmnitnsghenktkgdsiqneknpnpieslekesafktkaepisssisnmelelnihnskapkknrlrrksstrhihalelvvsrnlsppnctelqidscssseeikkkkynqmpvrhsrnlqlmegkepatgakksnkpneqtskrhdsdtfpelkltnapgsftkcsntselkefvnpslpreekeekletvkvsnnaedpkdlmlsgervlqtersvesssislvpgtdygtqesisllevstlgkaktepnkcvsqcaafenpkglihgcskdnrndtegfkyplghevnhsretsiemeeseldaqylqntfkvskrqsfapfsnpgnaeeecatfsahsgslkkqspkvtfeceqkeenqgknesnikpvqtvnitagfpvvgqkdkpvdnakcsikggsrfclssqfrgnetglitpnkhgllqnpyripplfpiksfvktkckknlleenfeehsmsperemgnenipstvstisrnnirenvfkeasssninevgsstnevgssineigssdeniqaelgrnrgpklnamlrlgvlqpevykqslpgsnckhpeikkqeyeevvqtvntdfspylisdnleqpmgsshasqvcsetpddllddgeikedtsfaendikessavfsksvqkgelsrspspfththlaqgyrrgakklesseenlssedeelpcfqhllfgkvnnipsqstrhstvateclsknteenllslknslndcsnqvilakasqehhlseetkcsaslfssqcseledltantntqdpfligsskqmrhqsesqgvglsdkelvsddeergtgleennqeeqsmdsnlgeaasgcesetsvsedcsglssqsdilttqqrdtmqhnliklqqemaeleavleqhgsqpsnsypsiisdssaledlrnpeqstsekavltsqksseypisqnpeglsadkfevsadsstsknkepgversspskcpslddrwymhscsgslqnrnypsqeelikvvdveeqqleesgphdltetsylprqdlegtpylesgislfsddpesdpsedrapesarvgnipsstsalkvpqlkvaesaqspaaahttdtagynameesvsrekpeltastervnkrmsmvvsgltpeefmlvykfarkhhitltnliteetthvvmktdaefvcertlkyflgiaggkwvvsyfwvtqsikerkmlnehdfevrgdvvngrnhqgpkraresqdrkifrgleiccygpftnmptdqlewmvqlcgasvvkelssftlgtgvhpivvvqpdawtedngfhaigqmceapvvtrewvldsvalyqcqeldtylipqiphshy'"
      ]
     },
     "execution_count": 162,
     "metadata": {},
     "output_type": "execute_result"
    }
   ],
   "source": [
    "# metadata[0]['GBSeq_sequence']"
   ]
  },
  {
   "cell_type": "code",
   "execution_count": null,
   "id": "79d6e4a7-c7a1-4caa-8487-b056bbd831dd",
   "metadata": {},
   "outputs": [],
   "source": [
    "# # Example: Searching for a restriction enzyme site in a DNA sequence\n",
    "\n",
    "# # DNA sequence\n",
    "# dna_sequence = \"ATGCGAATTCACGTAGGCTGAATTCCTAA\"\n",
    "\n",
    "# # Restriction enzyme recognition site\n",
    "# restriction_site = \"TGGCGC\"\n",
    "\n",
    "# # Search for the restriction site in the DNA sequence\n",
    "# restriction_site_indices = []\n",
    "# current_index = dna_sequence.find(restriction_site)\n",
    "\n",
    "# # Find all occurrences of the restriction site\n",
    "# while current_index != -1:\n",
    "#     restriction_site_indices.append(current_index)\n",
    "#     current_index = dna_sequence.find(restriction_site, current_index + 1)\n",
    "\n",
    "# # Display the original DNA sequence\n",
    "# print(\"Original DNA Sequence:\")\n",
    "# print(dna_sequence)\n",
    "\n",
    "# # Display the results\n",
    "# if restriction_site_indices:\n",
    "#     print(\"\\nRestriction Site Found at Indices:\")\n",
    "#     for index in restriction_site_indices:\n",
    "#         print(index)\n",
    "# else:\n",
    "#     print(\"\\nRestriction Site Not Found in the DNA Sequence.\")"
   ]
  }
 ],
 "metadata": {
  "kernelspec": {
   "display_name": "Python 3 (ipykernel)",
   "language": "python",
   "name": "python3"
  },
  "language_info": {
   "codemirror_mode": {
    "name": "ipython",
    "version": 3
   },
   "file_extension": ".py",
   "mimetype": "text/x-python",
   "name": "python",
   "nbconvert_exporter": "python",
   "pygments_lexer": "ipython3",
   "version": "3.10.13"
  },
  "widgets": {
   "application/vnd.jupyter.widget-state+json": {
    "state": {},
    "version_major": 2,
    "version_minor": 0
   }
  }
 },
 "nbformat": 4,
 "nbformat_minor": 5
}
