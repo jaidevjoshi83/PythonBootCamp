{
 "cells": [
  {
   "cell_type": "markdown",
   "id": "77365afb-3315-4905-828e-c20e1390c643",
   "metadata": {
    "slideshow": {
     "slide_type": "slide"
    }
   },
   "source": [
    "# LRI Python Bootcamp\n",
    "\n",
    "**Workshop #6** - December 22nd, 2023\n",
    "\n",
    "- github: [https://github.com/jaidevjoshi83/PythonBootCamp.git]\n",
    "---"
   ]
  },
  {
   "cell_type": "markdown",
   "id": "463999df-341e-4dfe-adbc-037b489905b9",
   "metadata": {
    "slideshow": {
     "slide_type": "slide"
    }
   },
   "source": [
    "## Loops, Branching and Control Statements"
   ]
  },
  {
   "cell_type": "markdown",
   "id": "c3985b3e-c66d-49ab-9638-33e6c545561f",
   "metadata": {
    "slideshow": {
     "slide_type": "slide"
    }
   },
   "source": [
    "### Loops\n",
    "\n",
    "- *Code block*: a collection of statements that can be executed as a unit. It takes the form below\n",
    "    \n",
    "    ``` python\n",
    "        statement_1\n",
    "        statement_2\n",
    "        ...\n",
    "        statement_n\n",
    "    ```\n",
    "\n",
    "\n",
    "- *Loop*: a programming contruct that allows for a code block to be executed many times. The syntax is as follows\n",
    "\n",
    "  * `while` loop: executes a block of statements repeatedly until the given condition becomes false.\n",
    "  \n",
    "    ``` python\n",
    "        while logical_expression:\n",
    "            code_block\n",
    "    ```\n",
    "    ---\n",
    "    \n",
    "  * `for` loop: executes a block of statements repeatedly by iterating over a sequence of items (i.e a lists, a tuples, a set, or a dictionary).\n",
    "      \n",
    "    ``` python\n",
    "        for item in sequence:\n",
    "            code_block\n",
    "    ```\n",
    "    ---\n",
    "    \n",
    " * The `for` and `while` loops can be nested inside each other to create nested loops. \n",
    " \n",
    " - *Iteration(s)*: an execution of the a code within a loop\n",
    " "
   ]
  },
  {
   "cell_type": "markdown",
   "id": "bfb475e4-84cd-451c-8d6d-99280999b6c3",
   "metadata": {
    "slideshow": {
     "slide_type": "slide"
    }
   },
   "source": [
    "### Branching Statements\n",
    "- *Branching statement*: a statement that allows for the ecucution of a code block only if the given condition is true. \n",
    "\n",
    "    The three types of branching statements are:\n",
    "\n",
    "  * `if`\n",
    "    ``` python\n",
    "        if logical_expression:\n",
    "            code_block\n",
    "    ```\n",
    "    ---\n",
    "\n",
    "  * `if-else`\n",
    "    ``` python\n",
    "        if logical_expression:\n",
    "            code_block_1\n",
    "        else:\n",
    "            code_block_2\n",
    "    ```\n",
    "    ---\n",
    "    \n",
    "    \n",
    "  * `if-elif-else`\n",
    "    ``` python\n",
    "        if logical_expression_A:\n",
    "            code_block_1\n",
    "        elif logical_expression_B:\n",
    "            code_block_2\n",
    "        elif logical_expression_C:\n",
    "            code_block_3            \n",
    "        else:\n",
    "            code_block_4\n",
    "    ```\n",
    "    ---\n",
    "      \n",
    "Branching statements can be nested within each other as well.\n",
    "      "
   ]
  },
  {
   "cell_type": "markdown",
   "id": "72a68525-e9c6-4159-8048-3c0c60f888a9",
   "metadata": {
    "slideshow": {
     "slide_type": "slide"
    }
   },
   "source": [
    "### Control Statements    \n",
    " \n",
    "- *Control statement*: a statement used to terminate or skip an iteration of a loop. \n",
    " \n",
    "    The two control statements are:\n",
    "     \n",
    "    * break: used for loop termination if a given condition is satisfied\n",
    "      ``` python\n",
    "          while logical_expression_A:\n",
    "              code_block_1\n",
    "              if logical_expression_B:\n",
    "                  break\n",
    "              code_block_2\n",
    "\n",
    "          statement(s)\n",
    "      ```\n",
    "    ---\n",
    "    \n",
    "    Here code block 2 is not executed when the loop is terminated (i.e when logical expression B is true). \n",
    "    \n",
    "    This terminates the loop irrespective of the true value of logical expression A. \n",
    "    \n",
    "    The next executed lines are the statements outside the while block.\n",
    "    \n",
    "    ---\n",
    "     \n",
    "    * continue: used to skip to the next iteration of a loop\n",
    "      ``` python\n",
    "          for item in sequence:\n",
    "              code_block_1\n",
    "              if logical_expression:\n",
    "                  continue\n",
    "              code_block_2\n",
    "\n",
    "          statement(s)\n",
    "      ```\n",
    "    ---\n",
    "    \n",
    "    Here code block 2 is skipped when the expression is true. The loop is not terminated. \n",
    "    \n",
    "    The iteration skips to the next item in the sequence. \n",
    "    \n",
    "    The statements outside the for loop are evaluated after we have evaluated all the items in the sequence.\n",
    "    "
   ]
  },
  {
   "cell_type": "markdown",
   "id": "fa27c391-da21-4faf-90fb-68fc86f6e3c3",
   "metadata": {},
   "source": [
    "### Exercise 1\n",
    "\n",
    "Given the list `x = [4, 1, 2, 3, 40, 50, 6, 20]`\n",
    "\n",
    "    1. Use a for loop to determine the maximum value of `x`. Assign the result to the variable `max_v1`.\n",
    "    \n",
    "    2. Use a while loop to determine the maximum value of `x`. Assign the result to the variable `max_v2`.\n",
    "    \n",
    "    3. Set a variable to store the cumulative sum. Using a for loop, cumulatively sum over the list of items in `x` until the cumulative sum is greater than 100.\n",
    "       How many items have been looped over?\n",
    "    \n",
    "    4. Use a while loop to solve (3.) "
   ]
  },
  {
   "cell_type": "code",
   "execution_count": null,
   "id": "c3154fe5-32af-4159-b57e-c1aa7c863bbc",
   "metadata": {
    "tags": []
   },
   "outputs": [],
   "source": [
    "x = [4, 1, 2, 3, 40, 50, 6, 20]\n",
    "\n",
    "# 1. maximum value: for loop\n",
    "max_v1 = 0\n",
    "\n",
    "# 2. maximum value: while loop\n",
    "max_v2 = 0\n",
    "\n",
    "\n",
    "# 3. cumulative sum: for loop \n",
    "csum_1 = 0\n",
    "\n",
    "# 3. cumulative sum: for loop \n",
    "csum_2 = 0"
   ]
  },
  {
   "cell_type": "markdown",
   "id": "8cc34d76-42c2-4b6d-acbb-57fd2412e4c6",
   "metadata": {},
   "source": [
    "### Exercise 2\n",
    "\n",
    "Repeat the same exercise with the given values of `x` in the cell below. \n",
    "\n",
    "Skip the strings and the sums over the numbers only. \n",
    "\n",
    "Hint:\n",
    "You can check for a string using the expression\n",
    "``` python\n",
    "hasattr(item, '__len__') or (isinstance(item, str)):\n",
    "```\n",
    " "
   ]
  },
  {
   "cell_type": "code",
   "execution_count": null,
   "id": "25603b53-d2e0-4a73-9afc-3163ba1c500c",
   "metadata": {
    "tags": []
   },
   "outputs": [],
   "source": [
    "x = [56, 'today', 'yesterday', 21, 37, 45, 'near', 30, 'far', 50, 6, 20, 'this', 'that', 5]\n",
    "\n",
    "# 1. maximum value: for loop\n",
    "max_v1 = 0\n",
    "\n",
    "# 2. maximum value: while loop\n",
    "max_v2 = 0\n",
    "\n",
    "\n",
    "# 3. cumulative sum: for loop \n",
    "csum_1 = 0\n",
    "\n",
    "# 3. cumulative sum: for loop \n",
    "csum_2 = 0"
   ]
  },
  {
   "cell_type": "markdown",
   "id": "2a2481da-d59b-44c7-83dd-e2127533b988",
   "metadata": {
    "slideshow": {
     "slide_type": "slide"
    }
   },
   "source": [
    "## Functions\n",
    "\n",
    "Retyping or copying code can be cumbersome and prone to errors. \n",
    "\n",
    "For a set of tasks that are repeated many times, functions can be used to store the sequence of statements for the tasks.\n",
    "\n",
    "They allow us to used the same sequence of statements multiple times within the same script.\n",
    "\n",
    "They can be defined in the following ways:\n",
    "  \n",
    "``` python\n",
    "    def function_name(argument_1, argument_2, ...):\n",
    "        \"\"\"\n",
    "        Function_description string\n",
    "        \"\"\"\n",
    "        \n",
    "        # comment(s)\n",
    "        statement(s)\n",
    "        \n",
    "        return output_variables [optional]\n",
    "```\n",
    "\n",
    "Here argument_1, argument_2 are referred to as non-keyword arguments and must be specified in the defined order. \n",
    "\n",
    "Variables within the function body are local to the function and cannot be accessed outside the function. \n",
    "\n",
    "The `return` statement can be used to get output variables to be used outside the function call. \n",
    "\n",
    "Indent your code properly to avoid `IndentationError`(s) when your function is called."
   ]
  },
  {
   "cell_type": "code",
   "execution_count": null,
   "id": "1435644f-b39c-4ccd-96aa-9ceb91f9f3c6",
   "metadata": {
    "tags": []
   },
   "outputs": [],
   "source": [
    "# Examples\n",
    "def echo(input_string):\n",
    "    '''\n",
    "    prints the given name\n",
    "    '''\n",
    "    print(input_string)\n",
    "\n",
    "def multiply2(a, b):\n",
    "    '''\n",
    "    function to multiply two numbers\n",
    "    '''\n",
    "    result = a * b\n",
    "    return result\n",
    "\n",
    "echo(\"today\")\n",
    "v = multiply2(5, 6)\n"
   ]
  },
  {
   "cell_type": "markdown",
   "id": "509d1353-4f4b-4236-870a-f9ce7ffdd055",
   "metadata": {
    "slideshow": {
     "slide_type": "slide"
    }
   },
   "source": [
    "Default function inputs can be specified using\n",
    "\n",
    "``` python\n",
    "    def function_name(argument_1=value_1, argument_2=value_2, ...):\n",
    "        \"\"\"\n",
    "        Function_description string\n",
    "        \"\"\"\n",
    "        \n",
    "        # comments\n",
    "        statement(s)\n",
    "        \n",
    "        return output_variables [optional]\n",
    "```\n",
    "\n",
    "Here argument_1 and argument_2 are referred to as keyword arguments and can be specified in any order.\n",
    "\n",
    "value_1 and value_2 are the default values to be specified. \n",
    "\n",
    "---\n",
    "\n",
    "The arguments types can be used together. However non-keyword aguments must be specified first.\n",
    "\n",
    "Keyword arguments do not always need to be specified at the function call.\n",
    "\n",
    "     "
   ]
  },
  {
   "cell_type": "code",
   "execution_count": null,
   "id": "3b8365d1-115d-4662-b8b7-f16b8937d263",
   "metadata": {
    "tags": []
   },
   "outputs": [],
   "source": [
    "# Examples\n",
    "\n",
    "def contact(first_name, domain=\"ccf.org\"):\n",
    "    '''\n",
    "    prints the given name\n",
    "    '''\n",
    "    email = f\"{first_name}@{domain}\"\n",
    "    print(email)\n",
    "\n",
    "def multiply2(a, b=1):\n",
    "    '''\n",
    "    function to multiply two numbers\n",
    "    '''\n",
    "    return a * b\n",
    "\n",
    "mail = contact(\"richard\")\n",
    "print(mail)\n",
    "\n",
    "result = multiply2(5)\n",
    "print(result)"
   ]
  },
  {
   "cell_type": "markdown",
   "id": "22eda7b3-b9a9-4e36-bdda-19d71a31de9b",
   "metadata": {},
   "source": [
    "Inline function, also called `lambda` functions can be used to define a function in just a single logical line.\n",
    "\n",
    "```python\n",
    "   lambda arguments: expression\n",
    "```"
   ]
  },
  {
   "cell_type": "code",
   "execution_count": null,
   "id": "eb425d32-f43c-4de1-af16-467ac3ea1b0e",
   "metadata": {
    "tags": []
   },
   "outputs": [],
   "source": [
    "# Example: The following functions are equivalent\n",
    "def power1(x, n):\n",
    "    return x ** (n)\n",
    "\n",
    "power2 = lambda x, n: x ** (n)\n",
    "\n",
    "x = 2\n",
    "n = 3\n",
    "power1(x, n) == power2(x, n)"
   ]
  },
  {
   "cell_type": "markdown",
   "id": "905d1713-5eee-41bb-b1f1-b8d359f26bf2",
   "metadata": {},
   "source": [
    "### Local and global variables"
   ]
  },
  {
   "cell_type": "code",
   "execution_count": null,
   "id": "d56d1d45-5e60-4f9d-aab3-e4270f3aa601",
   "metadata": {
    "tags": []
   },
   "outputs": [],
   "source": [
    "x = 53\n",
    "print(f'1. Outside function: x = {x}')\n",
    "\n",
    "def f(x):\n",
    "    x *= 5\n",
    "    print(f'2. Inside function: x = {x}')\n",
    "    \n",
    "f(x)   \n",
    "print(f'3. Outside function: x = {x}')"
   ]
  },
  {
   "cell_type": "markdown",
   "id": "ccac0c4b-7b9c-44a9-94b4-2b79733a4628",
   "metadata": {},
   "source": [
    "Be careful when dealing with mutable data types such as lists and dictionaries within your functions. \n",
    "\n",
    "Make copies of variables of before changing them before the function to avoid errors"
   ]
  },
  {
   "cell_type": "code",
   "execution_count": null,
   "id": "7d3b89e3-804f-41ab-8cdc-29a450f1d987",
   "metadata": {
    "tags": []
   },
   "outputs": [],
   "source": [
    "# Problem: Making unintended changes\n",
    "x = {'a': 1}\n",
    "print(f'1. Outside function: x = {x}')\n",
    "\n",
    "def f(x):\n",
    "    x['a'] += 2\n",
    "    x[2] = 4\n",
    "    print(f'2. Inside function: x = {x}')\n",
    "    \n",
    "f(x)   \n",
    "print(f'3. Outside function: x = {x}')"
   ]
  },
  {
   "cell_type": "code",
   "execution_count": null,
   "id": "e5cdb7f6-2e22-429a-8072-d38980837e74",
   "metadata": {
    "tags": []
   },
   "outputs": [],
   "source": [
    "# Solution\n",
    "x = {'a': 1}\n",
    "print(f'1. Outside function: x = {x}')\n",
    "\n",
    "def f(x):\n",
    "    x = x.copy()\n",
    "    x['a'] += 2\n",
    "    x[2] = 4\n",
    "    print(f'2. Inside function: x = {x}')\n",
    "    \n",
    "f(x)   \n",
    "print(f'3. Outside function: x = {x}')"
   ]
  },
  {
   "cell_type": "code",
   "execution_count": null,
   "id": "ad5b9ebf-aba6-41a5-b71e-c400cf0525cb",
   "metadata": {
    "tags": []
   },
   "outputs": [],
   "source": [
    "x = [1, 2, 3]\n",
    "print(f'1. Outside function: x = {x}')\n",
    "\n",
    "def f(x):\n",
    "    # x = x.copy()\n",
    "    x.append(4)\n",
    "    print(f'2. Inside function: x = {x}')\n",
    "    \n",
    "f(x)   \n",
    "print(f'3. Outside function: x = {x}')"
   ]
  },
  {
   "cell_type": "markdown",
   "id": "e1529bb4-3371-4785-aa87-d7662ff6c216",
   "metadata": {
    "slideshow": {
     "slide_type": "slide"
    }
   },
   "source": [
    "### Exercises\n",
    "\n",
    "1. Write a function `calc_tip(bill, party)` where `bill` is the total cost of the meal and `party` is the number of people in the group. The tip should be estimated as follows:\n",
    "\n",
    "    - 10% for a party strictly less than 5\n",
    "    \n",
    "    - 15% for a party stricly less than 10\n",
    "    \n",
    "    - 20% for a party less than 15\n",
    "    \n",
    "    - 25% otherwise\n",
    "    \n",
    "   The function should return the total amount and the tip per person.\n",
    "    \n",
    "2. Write a function to `csum_even(num_list)` to calculate the cumulative sum of the even numbers within the list `num_list`\n",
    "\n",
    "3. Given two sequence of numbers `P` and `Q`, write a function `my_mult` to generate a list of lists by multiplying each item in `P` to the sequence `Q`.\n",
    "\n",
    "4. Given two sequence of numbers `P` and `Q` of equal length, write a function `my_mult_sum` to get the sum of the pairwise product of the two lists."
   ]
  },
  {
   "cell_type": "code",
   "execution_count": null,
   "id": "92b4f853-44e4-4dc1-b8bc-80241e17e575",
   "metadata": {
    "tags": []
   },
   "outputs": [],
   "source": [
    "# Q1\n",
    "def calc_tip(bill, party):\n",
    "    '''\n",
    "    returns the total amount and tip per person given the \n",
    "    bill and number of people in a party\n",
    "    '''    \n",
    "    # complet this section\n",
    "    return total_amount, tip_per_person\n",
    "\n",
    "\n",
    "total_amount, tip_per_person = calc_tip(55, 4)\n",
    "\n",
    "# format output to two decimal places\n",
    "print(f\"Total amount : ${total_amount:.2f}\")  \n",
    "print(f\"Tip Per Person: ${tip_per_person:.2f}\")"
   ]
  },
  {
   "cell_type": "code",
   "execution_count": null,
   "id": "861f6edd-b4ee-4364-a42d-8daa3e59833e",
   "metadata": {},
   "outputs": [],
   "source": [
    "# Q2\n",
    "def csum_even(num_list):\n",
    "    '''\n",
    "    returns the cumulative sum of the even numbers\n",
    "    '''\n",
    "    # complet this section\n",
    "    return csum"
   ]
  },
  {
   "cell_type": "code",
   "execution_count": null,
   "id": "58fcd778-0c51-46e3-a910-f825aac92fc9",
   "metadata": {},
   "outputs": [],
   "source": [
    "# Q3\n",
    "def my_mult(P, Q):\n",
    "    return output_list   # len(output_list) = len(P)*len(Q)"
   ]
  },
  {
   "cell_type": "code",
   "execution_count": null,
   "id": "1c49f148-a70b-4148-84db-adf0fb41b9ba",
   "metadata": {
    "tags": []
   },
   "outputs": [],
   "source": [
    "# Q4\n",
    "def my_mult(P, Q):\n",
    "    '''\n",
    "    returns the sum of the pairwise product of the given lists\n",
    "    '''\n",
    "    # Flag wrong input types\n",
    "    assert len(P) == len(Q), 'the two inputs must be of the same length!'\n",
    "    \n",
    "    # complet this section    \n",
    "    return mult_sum\n",
    "\n",
    "# my_mult([1, 2], [4, 5, 6])"
   ]
  },
  {
   "cell_type": "markdown",
   "id": "5accae9c-bce4-49a7-962b-93ef13c1786e",
   "metadata": {
    "slideshow": {
     "slide_type": "slide"
    }
   },
   "source": [
    "We can save all user define functions in a script to create our own modules."
   ]
  },
  {
   "cell_type": "markdown",
   "id": "dd032eab-97bb-448a-bde4-71652b7e39ca",
   "metadata": {
    "slideshow": {
     "slide_type": "slide"
    }
   },
   "source": [
    "## Modules\n",
    "\n",
    "Just like functions allow us to use the same sequence of statements multiple times within the same script, module make it easy to repeat the set of tasks (functions, variables, ...) in other scipts without having to retype them.\n",
    "\n",
    "The contents of the module must be saved in a file as `module_name.py`. See the example module `mymodule.py` in the current folder.\n",
    "\n",
    "Before using a module, first import it using the `import` statement in one of the following ways. \n",
    "\n",
    "```python\n",
    "# Import 1\n",
    "import module_name\n",
    "\n",
    "# to shorten imports\n",
    "import module_name as abbrev     # abbreviation\n",
    "import module_name.submodule_name as abbrev\n",
    "```\n",
    "\n",
    "This is the safest way to import modules.\n",
    "\n",
    "We can now call or use the functions and variables from the module using\n",
    "```\n",
    "myvar = module_name.function(argument)\n",
    "myfunc = module_name.function\n",
    "\n",
    "myfunc = abbrev.function\n",
    "x = myfunc(argument)\n",
    "...\n",
    "```\n",
    "---\n",
    "\n",
    "Alternatively we can import everything, including submodules, functions and variables within a module using\n",
    "```Import 2\n",
    "from module_name import * \n",
    "from module_name.submodule_name import *\n",
    "```\n",
    "\n",
    "Be careful importing modules this way. Existing items in the stack can be overwritten as the code is executed from top to bottom\n",
    "```python\n",
    "from math import *\n",
    "from numpy import *\n",
    "\n",
    "x = pi   # pi from which import?\n",
    "```\n",
    "---\n",
    "\n",
    "If what you are importing does not exist, you get an `ImportError`. \n",
    "\n",
    "Check the documentation of the module onlyine or by using the contextual help menu to see how to use it properly."
   ]
  },
  {
   "cell_type": "code",
   "execution_count": null,
   "id": "37f4ecb3-a6cc-4f0c-8696-829717d3698c",
   "metadata": {
    "tags": []
   },
   "outputs": [],
   "source": [
    "#install requirements \n",
    "# !pip install matplotlib pandas numpy\n",
    "\n",
    "from math import * \n",
    "from numpy import *\n",
    "\n",
    "y = 2*pi     # pi from which import?\n",
    "z = sin(y)\n",
    "\n",
    "print(z)\n",
    "\n",
    "def sin(x):\n",
    "    # this function overwrites the sine function imported above\n",
    "    print(\"hello\")\n",
    "\n",
    "z = sin(y)\n",
    "print(z)\n",
    "    \n",
    "#%whos"
   ]
  },
  {
   "cell_type": "markdown",
   "id": "f3f5d17c-3bcc-464e-b3f7-a089b0c25e4b",
   "metadata": {},
   "source": [
    "You can also import only the functions or variables you need for the script.\n",
    "\n",
    "```python\n",
    "# Import 1\n",
    "from module_name import function\n",
    "from module_name import function as abbreviation\n",
    "from module_name import (\n",
    "    function_1, function_2, ...,\n",
    "    variable_1, variable_2, ...,\n",
    ")\n",
    "```\n",
    "\n",
    "Although this simplifies what you have to type (i.e. when the module names are long), one has to be cautious about uninteded overwriting of the same variables in the stack.\n"
   ]
  },
  {
   "cell_type": "code",
   "execution_count": null,
   "id": "43f78af9-57ec-496e-9d58-08310a64bc14",
   "metadata": {
    "slideshow": {
     "slide_type": "slide"
    },
    "tags": []
   },
   "outputs": [],
   "source": [
    "# Examples\n",
    "import math\n",
    "import numpy as np\n",
    "import matplotlib.pyplot as plt\n",
    "   \n",
    "# we can do the same with our own modules\n",
    "from mymodule import (power, contact)"
   ]
  },
  {
   "cell_type": "code",
   "execution_count": null,
   "id": "c8388adf-728c-4e3e-b4b5-221f2bf7e2a8",
   "metadata": {
    "tags": []
   },
   "outputs": [],
   "source": [
    "# reloads the modules without restarting the notebook\n",
    "%load_ext autoreload\n",
    "%autoreload 2"
   ]
  },
  {
   "cell_type": "code",
   "execution_count": null,
   "id": "65cfc1fd-f9c2-422d-89b6-97a45d89836b",
   "metadata": {
    "tags": []
   },
   "outputs": [],
   "source": [
    "from mymodule import power\n",
    "power(2, 3)"
   ]
  },
  {
   "cell_type": "markdown",
   "id": "4275606b-30ce-4862-a137-f3528921cc99",
   "metadata": {},
   "source": [
    "By default, if what you are importing does not reside in your current working directory, python searches all installed moudles for the given module_name.\n",
    "\n",
    "You get an `ImportError` if it does not exist. "
   ]
  },
  {
   "cell_type": "code",
   "execution_count": null,
   "id": "5b02af41-a934-4016-9ff0-2ebe8100d524",
   "metadata": {
    "tags": []
   },
   "outputs": [],
   "source": [
    "# Checking if the module path exists\n",
    "import sys\n",
    "python_path = sys.path\n",
    "print(python_path)"
   ]
  },
  {
   "cell_type": "markdown",
   "id": "d509da7c-f6c4-4e1b-a31e-ba23a2ea5168",
   "metadata": {},
   "source": [
    "To use modules from folders that are not in `sys.path`, first add the modle_path before typing any statements using the module\n",
    "\n",
    "```python\n",
    "import sys\n",
    "module_path = folder_with_py_file     # folder_with_py_file > module.py\n",
    "sys.path.append(module_path)\n",
    "\n",
    "import module\n",
    "```"
   ]
  },
  {
   "cell_type": "markdown",
   "id": "33d94656-245f-440f-bda3-cb4720a138fd",
   "metadata": {
    "slideshow": {
     "slide_type": "slide"
    },
    "tags": []
   },
   "source": [
    "### Excercises\n",
    "\n",
    "1. Given three lists of equal length and a filename as inputs:\n",
    "    - name [strings]\n",
    "    - age [non-negative integers]\n",
    "    - salary [numbers]\n",
    "    - filename [string:optional]\n",
    "    \n",
    "   write a function `create_table(name, age, salary, filename)` that does the following:\n",
    "   -  creates a dictionary with the given inputs\n",
    "   ```python\n",
    "      data = {'Name': name, 'Age': age, 'Salary': salary}\n",
    "   ```\n",
    "   - use the pandas module to create a table from the dictionary\n",
    "   ```python\n",
    "      df = pandas.DataFrame(data=data)\n",
    "   ```   \n",
    "   - if the filename is a valid string and ends with \".csv\" save the ouptut to a spreadsheet\n",
    "   ```python\n",
    "      df.to_csv(filename)\n",
    "   ```\n",
    "   - return the output table\n",
    "   \n",
    "\n",
    "2. Given the trajectory of a projectile $y = x\\sqrt{5} - 0.544x^{2}$. Write a function `trajectory(x)` that takes a list of numbers(x) and returns the `projectile_path` for each item in x\n",
    "   After defining the function, use the `linspace` function from the `numpy` module to generate 100 equally spaced from -50 to 50 and assign the result to `x`\n",
    "   ```python\n",
    "   numpy.linspace(start,stop,number_of_values)\n",
    "   ```\n",
    "   Now, using the `plot` function from the `matplotlib.pyplot` submodule, plot the pair (x, trajectory(x))\n",
    "   "
   ]
  }
 ],
 "metadata": {
  "kernelspec": {
   "display_name": "Python 3 (ipykernel)",
   "language": "python",
   "name": "python3"
  },
  "language_info": {
   "codemirror_mode": {
    "name": "ipython",
    "version": 3
   },
   "file_extension": ".py",
   "mimetype": "text/x-python",
   "name": "python",
   "nbconvert_exporter": "python",
   "pygments_lexer": "ipython3",
   "version": "3.11.5"
  }
 },
 "nbformat": 4,
 "nbformat_minor": 5
}
