{
 "cells": [
  {
   "cell_type": "markdown",
   "id": "e58c57ea-c6b5-4e49-8f82-6d30b48941d3",
   "metadata": {},
   "source": [
    "\n",
    "# Calculating the standard deviation\n",
    "Calculating the standard deviation the standard deviation involves a few key steps: calculating the mean of the data set, \n",
    "determining each data point's deviation from the mean, squaring that deviation, \n",
    "finding the mean of these squared deviations, and, finally, taking the square root of that mean. Below is a simple example of how you might compute the standard deviation of a list of numbers in Python using basic functions. Note that there is a built-in function in the Python statistics module to calculate standard deviation, which I'll demonstrate afterwards.\n",
    "\n",
    "Manual Calculation of Standard Deviation"
   ]
  },
  {
   "cell_type": "code",
   "execution_count": 3,
   "id": "e55d5305-830c-4ac8-952b-0b0ceb7935f8",
   "metadata": {},
   "outputs": [
    {
     "name": "stdout",
     "output_type": "stream",
     "text": [
      "Standard Deviation: 3.30\n"
     ]
    }
   ],
   "source": [
    "import math\n",
    "\n",
    "def calculate_mean(data):\n",
    "    return sum(data) / len(data)\n",
    "\n",
    "def calculate_variance(data):\n",
    "    mean = calculate_mean(data)\n",
    "    return sum((x - mean) ** 2 for x in data) / len(data)\n",
    "\n",
    "def calculate_std_dev(data):\n",
    "    return math.sqrt(calculate_variance(data))\n",
    "\n",
    "# Example data\n",
    "data = [9, 2, 5, 4, 12, 7]\n",
    "\n",
    "# Calculating standard deviation\n",
    "std_dev = calculate_std_dev(data)\n",
    "\n",
    "print(f\"Standard Deviation: {std_dev:.2f}\")"
   ]
  },
  {
   "cell_type": "code",
   "execution_count": null,
   "id": "b93d51b1-bb8e-40fb-96bb-15f6c476fd19",
   "metadata": {},
   "outputs": [],
   "source": []
  },
  {
   "cell_type": "code",
   "execution_count": 4,
   "id": "ee241072-2b60-4137-ae26-9f2ca538c59f",
   "metadata": {},
   "outputs": [
    {
     "name": "stdout",
     "output_type": "stream",
     "text": [
      "Standard Deviation: 3.62\n"
     ]
    }
   ],
   "source": [
    "import statistics\n",
    "\n",
    "# Example data\n",
    "data = [9, 2, 5, 4, 12, 7]\n",
    "\n",
    "# Calculating standard deviation\n",
    "std_dev = statistics.stdev(data)\n",
    "\n",
    "print(f\"Standard Deviation: {std_dev:.2f}\")"
   ]
  },
  {
   "cell_type": "code",
   "execution_count": null,
   "id": "b00f6a03-a591-4a19-8b52-8f2a34a7bd12",
   "metadata": {},
   "outputs": [],
   "source": []
  }
 ],
 "metadata": {
  "kernelspec": {
   "display_name": "Python 3 (ipykernel)",
   "language": "python",
   "name": "python3"
  },
  "language_info": {
   "codemirror_mode": {
    "name": "ipython",
    "version": 3
   },
   "file_extension": ".py",
   "mimetype": "text/x-python",
   "name": "python",
   "nbconvert_exporter": "python",
   "pygments_lexer": "ipython3",
   "version": "3.9.17"
  }
 },
 "nbformat": 4,
 "nbformat_minor": 5
}
