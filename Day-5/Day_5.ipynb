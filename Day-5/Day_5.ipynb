{
 "cells": [
  {
   "cell_type": "code",
   "execution_count": 170,
   "id": "4305c320-3303-4bc2-bf06-70f174b3763f",
   "metadata": {},
   "outputs": [],
   "source": [
    "#install requirements \n",
    "# !pip install matplotlib pandas numpy biopython"
   ]
  },
  {
   "cell_type": "markdown",
   "id": "c347d8d0-1c32-4c3a-9df3-998abef7d461",
   "metadata": {},
   "source": [
    "---\n",
    "<h1> Python bootcamp for Beginners </h1>\n",
    "\n",
    "<h2> Hosted By Lerner's Trainee Asscociation <h2> \n",
    "\n",
    "<h3> Day-5 </h3>\n",
    "    \n",
    "---\n"
   ]
  },
  {
   "cell_type": "markdown",
   "id": "cc02d343-1edc-4bec-bcc4-78524d3092c0",
   "metadata": {},
   "source": [
    "---\n",
    "<span style=\"color:blue; font-size: 40px\">Understanding Control statements \"if else and elif\".</span>\n",
    "\n",
    "---\n",
    "![](https://www.besanttechnologies.com/wp-content/uploads/2019/05/if-else-statement-1.jpg)"
   ]
  },
  {
   "cell_type": "markdown",
   "id": "c80725dc-8761-4eeb-b43b-db435615c3c4",
   "metadata": {},
   "source": [
    "# Overview of Operators"
   ]
  },
  {
   "cell_type": "markdown",
   "id": "0c9be7e4-c022-4d8f-aa6b-5a412cf06a6f",
   "metadata": {},
   "source": [
    "---\n",
    "# <b> Common Arithmetic Operators:</b>\n",
    "* ## Addition +: result = 10 + 5\n",
    "* ## Subtraction -: result = 10 - 5\n",
    "* ## Multiplication *: result = 10 * 5\n",
    "* ## Division /: result = 10 / 5\n",
    "* ## Floor Division //: result = 10 // 3 (returns the quotient)\n",
    "* ## Modulus %: result = 10 % 3 (returns the remainder)\n",
    "* ## Exponent **: result = 2 ** 3 (2 raised to the power of 3)\n",
    "---"
   ]
  },
  {
   "cell_type": "markdown",
   "id": "64cfd212-236f-4810-b427-169ac34c4846",
   "metadata": {},
   "source": [
    "---\n",
    "# <b> Comparison Operators:</b>\n",
    "\n",
    "* ## Equal ==: result = (x == y)\n",
    "* ## Not Equal !=: result = (x != y)\n",
    "* ## Greater Than >: result = (x > y)\n",
    "* ## Less Than <: result = (x < y)\n",
    "* ## Greater Than or Equal To >=: result = (x >= y)\n",
    "* ## Less Than or Equal To <=: result = (x <= y)\n",
    "---"
   ]
  },
  {
   "cell_type": "markdown",
   "id": "a861baa3-1ffe-4814-b314-c47041afd8a9",
   "metadata": {},
   "source": [
    "# <b> Logical Operators:</b>\n",
    "\n",
    "* ## AND and: result = (x > 0) and (y > 0)\n",
    "* ## OR or: result = (x > 0) or (y > 0)\n",
    "* ## NOT not: result = not (x > 0)\n"
   ]
  },
  {
   "cell_type": "markdown",
   "id": "3610788b-b072-4182-a2eb-c4de6f8b07d1",
   "metadata": {},
   "source": [
    "---\n",
    "# <b> Assignment Operators: </b>\n",
    "\n",
    "* ##  Assignment =: x = 10\n",
    "* ##  Add and Assign +=: x += 5 (equivalent to x = x + 5)\n",
    "* ##  Subtract and Assign -=: x -= 5 (equivalent to x = x - 5)\n",
    "* ## Multiply and Assign *=: x *= 2 (equivalent to x = x * 2)\n",
    "* ## Divide and Assign /=: x /= 2 (equivalent to x = x / 2)\n",
    "---"
   ]
  },
  {
   "cell_type": "markdown",
   "id": "73465e8c-65c3-4874-9a89-ed2acdb2817c",
   "metadata": {},
   "source": [
    "## Example 1"
   ]
  },
  {
   "cell_type": "code",
   "execution_count": 29,
   "id": "e0bb921b-6aaa-47aa-bfda-e1c1586c147f",
   "metadata": {},
   "outputs": [
    {
     "name": "stdout",
     "output_type": "stream",
     "text": [
      "False\n",
      "False\n",
      "False\n",
      "True\n",
      "True\n",
      "False\n",
      "True\n",
      "False\n",
      "True\n",
      "False\n",
      "True\n"
     ]
    }
   ],
   "source": [
    "# Check if 20 is equal to 30\n",
    "print(20 == 30)\n",
    "\n",
    "# Check if 20 is greater than 30\n",
    "print(20 > 30)\n",
    "\n",
    "# Check if 30 is less than 0\n",
    "print(30 < 0)\n",
    "\n",
    "# Check if 30 is not equal to 0\n",
    "print(30 != 0)\n",
    "\n",
    "# Check if 30 is less than or equal to 31\n",
    "print(30 <= 31)\n",
    "\n",
    "# Check if 30 is greater than or equal to 31, and also check if 30 is less than or equal to 31\n",
    "print(30 >= 31 and 30 <= 31)\n",
    "\n",
    "# Check if either 30 is greater than or equal to 31 or 30 is less than or equal to 31\n",
    "print(30 >= 31 or 30 <= 31)\n",
    "\n",
    "# Check if not equal to 30 is equal to 30\n",
    "print(not 30 == 30)\n",
    "\n",
    "# Check if not not equal to 30 is not equal to 30\n",
    "print(not 30 != 30)\n",
    "\n",
    "# Check if not greater than or equal to 30 is true\n",
    "print(not 30 >= 30)\n",
    "\n",
    "# Check if not equal to 30 is equal to 31\n",
    "print(not 30 == 31)"
   ]
  },
  {
   "cell_type": "markdown",
   "id": "c0e590a8-e8ef-4360-9b38-c30ed4b49a6b",
   "metadata": {},
   "source": [
    "---\n",
    "* ### How to use operators with control statements:\n",
    "---"
   ]
  },
  {
   "cell_type": "markdown",
   "id": "afe93e2c-e582-40ed-a9e9-92cefb2bed4a",
   "metadata": {},
   "source": [
    "## Example 2"
   ]
  },
  {
   "cell_type": "code",
   "execution_count": 34,
   "id": "5594201c-2da2-45d7-bc3b-a1886ddc771e",
   "metadata": {},
   "outputs": [],
   "source": [
    "# Check if 20 is equal to 30\n",
    "\n",
    "if 20 == 30:\n",
    "    print(\"Execute further\")"
   ]
  },
  {
   "cell_type": "code",
   "execution_count": 35,
   "id": "423f7af7-34f1-4b73-8413-4f0a7341fee4",
   "metadata": {},
   "outputs": [],
   "source": [
    "# Check if 20 is greater than 30\n",
    "if 20 > 30:\n",
    "    print(\"Execute further\")"
   ]
  },
  {
   "cell_type": "code",
   "execution_count": 36,
   "id": "c84c4591-cbd7-4cc5-afde-e91481480bce",
   "metadata": {},
   "outputs": [],
   "source": [
    "# Check if 30 is less than 0\n",
    "if 30 < 0:\n",
    "    print(\"Execute further\")"
   ]
  },
  {
   "cell_type": "code",
   "execution_count": 37,
   "id": "0c744e19-876f-43aa-a06c-63fa7c8d2bae",
   "metadata": {},
   "outputs": [
    {
     "name": "stdout",
     "output_type": "stream",
     "text": [
      "Execute further\n"
     ]
    }
   ],
   "source": [
    "# Check if 30 is not equal to 0\n",
    "if 30 != 0:\n",
    "    print(\"Execute further\")"
   ]
  },
  {
   "cell_type": "code",
   "execution_count": 38,
   "id": "5b0c9973-d128-4252-afde-20ab7f9aa27e",
   "metadata": {},
   "outputs": [
    {
     "name": "stdout",
     "output_type": "stream",
     "text": [
      "Execute further\n"
     ]
    }
   ],
   "source": [
    "# Check if 30 is less than or equal to 31\n",
    "if 30 <= 31:\n",
    "    print(\"Execute further\")"
   ]
  },
  {
   "cell_type": "code",
   "execution_count": 39,
   "id": "d224345f-2b41-4844-b868-d92938fc8757",
   "metadata": {},
   "outputs": [],
   "source": [
    "# Check if 30 is greater than or equal to 31, and also check if 30 is less than or equal to 31\n",
    "if (30 >= 31 and 30 <= 31):\n",
    "    print(\"Execute further\")"
   ]
  },
  {
   "cell_type": "code",
   "execution_count": 40,
   "id": "36623a08-0a00-4438-9347-7d9a5cc10042",
   "metadata": {},
   "outputs": [
    {
     "name": "stdout",
     "output_type": "stream",
     "text": [
      "Execute further\n"
     ]
    }
   ],
   "source": [
    "# Check if either 30 is greater than or equal to 31 or 30 is less than or equal to 31\n",
    "if (30 >= 31 or 30 <= 31):\n",
    "    print(\"Execute further\")"
   ]
  },
  {
   "cell_type": "code",
   "execution_count": 41,
   "id": "c8bd118d-d260-4449-940c-1f139ee5e24c",
   "metadata": {},
   "outputs": [],
   "source": [
    "# Check if not equal to 30 is equal to 30\n",
    "if (not 30 == 30):\n",
    "    print(\"Execute further\")"
   ]
  },
  {
   "cell_type": "code",
   "execution_count": 42,
   "id": "2a77be00-7aa7-430d-9c58-852c231d38d4",
   "metadata": {},
   "outputs": [
    {
     "name": "stdout",
     "output_type": "stream",
     "text": [
      "Execute further\n"
     ]
    }
   ],
   "source": [
    "# Check if not not equal to 30 is not equal to 30\n",
    "if (not 30 != 30):\n",
    "    print(\"Execute further\")"
   ]
  },
  {
   "cell_type": "code",
   "execution_count": 43,
   "id": "89618624-4cd7-43a2-ad58-a5361142c837",
   "metadata": {},
   "outputs": [],
   "source": [
    "# Check if not greater than or equal to 30 is true\n",
    "if (not 30 >= 30):\n",
    "    print(\"Execute further\")"
   ]
  },
  {
   "cell_type": "code",
   "execution_count": 44,
   "id": "68425ffd-f9a9-4483-ab6d-798222a83bdb",
   "metadata": {},
   "outputs": [
    {
     "name": "stdout",
     "output_type": "stream",
     "text": [
      "Execute further\n"
     ]
    }
   ],
   "source": [
    "# Check if not equal to 30 is equal to 31\n",
    "if (not 30 == 31):\n",
    "    print(\"Execute further\")"
   ]
  },
  {
   "cell_type": "markdown",
   "id": "3de2e9db-2b11-4ad2-8803-e13da07b32b0",
   "metadata": {},
   "source": [
    "---\n",
    "* ### \"if\" with \"else\": \n",
    "--- "
   ]
  },
  {
   "cell_type": "markdown",
   "id": "b6133ad1-16b8-4dd2-973e-f80b823006ca",
   "metadata": {},
   "source": [
    "## Example 3"
   ]
  },
  {
   "cell_type": "code",
   "execution_count": 45,
   "id": "175a7109-29a2-4bf6-a590-a4f5754f1698",
   "metadata": {},
   "outputs": [
    {
     "name": "stdin",
     "output_type": "stream",
     "text": [
      "Enter a number:  5\n"
     ]
    },
    {
     "name": "stdout",
     "output_type": "stream",
     "text": [
      "5 is an odd number.\n"
     ]
    }
   ],
   "source": [
    "# Get user input\n",
    "number = int(input(\"Enter a number: \"))\n",
    "\n",
    "# Check if the number is even or odd\n",
    "if number % 2 == 0:\n",
    "    print(f\"{number} is an even number.\")\n",
    "else:\n",
    "    print(f\"{number} is an odd number.\")"
   ]
  },
  {
   "cell_type": "markdown",
   "id": "04df5d62-4daf-4d9d-bf85-f924adb069c9",
   "metadata": {},
   "source": [
    "---\n",
    "* ### Dealing with multiple control statements\n",
    "---"
   ]
  },
  {
   "cell_type": "code",
   "execution_count": null,
   "id": "13acf70b-172d-42a7-9de1-cb9c5b054639",
   "metadata": {},
   "outputs": [],
   "source": [
    "# Example 4"
   ]
  },
  {
   "cell_type": "code",
   "execution_count": 57,
   "id": "dbe9710a-fa69-4440-8243-21893ca2332a",
   "metadata": {},
   "outputs": [
    {
     "name": "stdin",
     "output_type": "stream",
     "text": [
      "Enter the student's score:  70\n"
     ]
    },
    {
     "name": "stdout",
     "output_type": "stream",
     "text": [
      "Grade: C\n",
      "63.63636363636363\n"
     ]
    }
   ],
   "source": [
    "# Get user input for the student's score\n",
    "score = int(input(\"Enter the student's score: \"))\n",
    "\n",
    "# Check the grade based on the score\n",
    "if score >= 90:\n",
    "    print(\"Grade: A\")\n",
    "    print((score/110)*100)\n",
    "elif score >= 80:\n",
    "    print(\"Grade: B\")\n",
    "    print((score/110)*100)\n",
    "elif score >= 70:\n",
    "    print(\"Grade: C\")\n",
    "    print((score/110)*100)\n",
    "elif score >= 60:\n",
    "    print(\"Grade: D\")\n",
    "    print((score/110)*100)\n",
    "else:\n",
    "    print(\"Grade: F\")\n",
    "    print((score/110)*100)"
   ]
  },
  {
   "cell_type": "markdown",
   "id": "e08960d6-a07e-4bb2-88ed-3ce1129c5376",
   "metadata": {},
   "source": [
    "---\n",
    "* ### Dealing with  multiple control statements and conditions:\n",
    "---"
   ]
  },
  {
   "cell_type": "markdown",
   "id": "595c539e-4890-4013-bd9c-3849a3586034",
   "metadata": {},
   "source": [
    "## Example 5"
   ]
  },
  {
   "cell_type": "code",
   "execution_count": 46,
   "id": "0202e92b-649f-4016-9950-dac489ead246",
   "metadata": {},
   "outputs": [
    {
     "name": "stdin",
     "output_type": "stream",
     "text": [
      "Enter your age:  12\n",
      "Do you have a driver's license? (yes/no):  yes\n"
     ]
    },
    {
     "name": "stdout",
     "output_type": "stream",
     "text": [
      "You are not allowed to drive.\n"
     ]
    }
   ],
   "source": [
    "# Get user input for age and whether the person has a driver's license\n",
    "age = int(input(\"Enter your age: \"))\n",
    "has_license = input(\"Do you have a driver's license? (yes/no): \").lower()\n",
    "\n",
    "# Check eligibility for driving based on age and license status\n",
    "if age >= 18 and has_license == \"yes\":\n",
    "    print(\"You are eligible to drive.\")\n",
    "elif age >= 16 and has_license == \"yes\":\n",
    "    print(\"You can drive, but with restrictions.\")\n",
    "elif age < 16 and has_license == \"yes\":\n",
    "    print(\"You are not allowed to drive.\")\n",
    "elif age >= 18 and has_license == \"no\":\n",
    "    print(\"You can apply for a driver's license.\")\n",
    "else:\n",
    "    print(\"You are not eligible to drive.\")"
   ]
  },
  {
   "cell_type": "markdown",
   "id": "96b31eba-696d-4133-8396-a85c39966239",
   "metadata": {},
   "source": [
    "---\n",
    "* ### Nested Control statements; multiple levels of decision-making:\n",
    "---"
   ]
  },
  {
   "cell_type": "markdown",
   "id": "1af8cba9-db18-4f37-af61-dfc0feaf9a76",
   "metadata": {},
   "source": [
    "## Example 6"
   ]
  },
  {
   "cell_type": "code",
   "execution_count": null,
   "id": "4cb09be9-2ae5-4925-b45e-fea305a479c7",
   "metadata": {},
   "outputs": [],
   "source": [
    "# Get user input for a number\n",
    "number = int(input(\"Enter a number: \"))\n",
    "\n",
    "# Check the value and sign of the number\n",
    "if number > 0:\n",
    "    print(\"The number is positive.\")\n",
    "    \n",
    "    # Nested if to check if the number is even or odd\n",
    "    if number % 2 == 0:\n",
    "        print(\"The number is also even.\")\n",
    "    else:\n",
    "        print(\"The number is odd.\")\n",
    "elif number == 0:\n",
    "    print(\"The number is zero.\")\n",
    "else:\n",
    "    print(\"The number is negative.\")"
   ]
  },
  {
   "cell_type": "markdown",
   "id": "f0ef9163-e782-4fcb-8ec1-4c043033af09",
   "metadata": {},
   "source": [
    "---\n",
    "<span style=\"color:blue; font-size: 40px\"> A brief overview of a `for` and `while` loop.</span>\n",
    "\n",
    "---\n",
    "![](https://cdn-icons-png.flaticon.com/512/1248/1248831.png)"
   ]
  },
  {
   "cell_type": "markdown",
   "id": "e5222019-ae42-42e9-bf5d-440355c84030",
   "metadata": {},
   "source": [
    "---\n",
    "* # `for loop`\n",
    "---"
   ]
  },
  {
   "cell_type": "markdown",
   "id": "c82f811a-38e5-4f4a-b05c-756b80a5b674",
   "metadata": {},
   "source": [
    "## Example 7"
   ]
  },
  {
   "cell_type": "code",
   "execution_count": 47,
   "id": "6d634e45-3a3f-403f-bc8e-d3e6d782cb19",
   "metadata": {},
   "outputs": [
    {
     "name": "stdout",
     "output_type": "stream",
     "text": [
      "0\n",
      "1\n",
      "2\n",
      "3\n",
      "4\n"
     ]
    }
   ],
   "source": [
    "# For loop\n",
    "for i in range(5):\n",
    "    print(i)"
   ]
  },
  {
   "cell_type": "markdown",
   "id": "e9af53e0-8775-48c7-9ab0-f344eac2bfbb",
   "metadata": {},
   "source": [
    "## Example 8"
   ]
  },
  {
   "cell_type": "code",
   "execution_count": 48,
   "id": "39da5901-5a68-4a0d-85c8-ace5ad5c4649",
   "metadata": {},
   "outputs": [
    {
     "name": "stdout",
     "output_type": "stream",
     "text": [
      "The square of 1 is 1\n",
      "The square of 2 is 4\n",
      "The square of 3 is 9\n",
      "The square of 4 is 16\n",
      "The square of 5 is 25\n"
     ]
    }
   ],
   "source": [
    "# Define a list of numbers\n",
    "numbers = [1, 2, 3, 4, 5]\n",
    "\n",
    "# Iterate over the list and calculate the square of each number\n",
    "for number in numbers:\n",
    "    square = number ** 2\n",
    "    print(f\"The square of {number} is {square}\")"
   ]
  },
  {
   "cell_type": "markdown",
   "id": "fd0fb4ad-112d-4d65-9e8f-aa94e1749da3",
   "metadata": {},
   "source": [
    "## Example 9"
   ]
  },
  {
   "cell_type": "code",
   "execution_count": 49,
   "id": "346ee86d-5771-4c81-8fe6-edec83f8f216",
   "metadata": {},
   "outputs": [
    {
     "name": "stdout",
     "output_type": "stream",
     "text": [
      "Squared Numbers: [1, 4, 9, 16, 25]\n"
     ]
    }
   ],
   "source": [
    "# Create an empty list to store squared numbers\n",
    "squared_numbers = []\n",
    "\n",
    "# Generate a list of numbers (e.g., 1 to 5) and square each number\n",
    "for number in range(1, 6):\n",
    "    squared = number ** 2\n",
    "    squared_numbers.append(squared)\n",
    "\n",
    "# Print the final list of squared numbers\n",
    "print(\"Squared Numbers:\", squared_numbers)"
   ]
  },
  {
   "cell_type": "markdown",
   "id": "6b4fc7f2-9c8a-43f6-ac73-553cc28a025e",
   "metadata": {},
   "source": [
    "## Example 10"
   ]
  },
  {
   "cell_type": "code",
   "execution_count": 53,
   "id": "1bb76bed-3fb1-4b90-863f-c97b435b0040",
   "metadata": {},
   "outputs": [
    {
     "name": "stdout",
     "output_type": "stream",
     "text": [
      " index_0 The square of 1 is 1\n",
      " index_1 The square of 2 is 4\n",
      " index_2 The square of 3 is 9\n",
      " index_3 The square of 4 is 16\n",
      " index_4 The square of 5 is 25\n"
     ]
    }
   ],
   "source": [
    "# Define a list of numbers\n",
    "numbers = [1, 2, 3, 4, 5]\n",
    "\n",
    "# Iterate over the list and calculate the square of each number\n",
    "for i, number in enumerate(numbers):\n",
    "    square = number ** 2\n",
    "    print(f\" index_{i} The square of {number} is {square}\")"
   ]
  },
  {
   "cell_type": "markdown",
   "id": "d65f67f2-733f-4b39-bb2c-facc93ccc5eb",
   "metadata": {},
   "source": [
    "## Example 11"
   ]
  },
  {
   "cell_type": "code",
   "execution_count": 50,
   "id": "21d5c323-eee4-4302-a4f4-b0e9ecdb0ab2",
   "metadata": {},
   "outputs": [
    {
     "name": "stdout",
     "output_type": "stream",
     "text": [
      "Alice's grade is 85\n",
      "Bob's grade is 92\n",
      "Charlie's grade is 78\n",
      "David's grade is 95\n",
      "Eva's grade is 88\n"
     ]
    }
   ],
   "source": [
    "# Dictionary representing student grades\n",
    "student_grades = {\n",
    "    'Alice': 85,\n",
    "    'Bob': 92,\n",
    "    'Charlie': 78,\n",
    "    'David': 95,\n",
    "    'Eva': 88\n",
    "}\n",
    "\n",
    "# Iterate over the dictionary using a for loop\n",
    "for student, grade in student_grades.items():\n",
    "    print(f\"{student}'s grade is {grade}\")"
   ]
  },
  {
   "cell_type": "markdown",
   "id": "c617b33a-01b5-4d6e-98b9-2f2796cced01",
   "metadata": {},
   "source": [
    "## Example 12"
   ]
  },
  {
   "cell_type": "code",
   "execution_count": 58,
   "id": "37dc787e-fd52-42a8-a276-0ad6a4c401b7",
   "metadata": {},
   "outputs": [
    {
     "name": "stdout",
     "output_type": "stream",
     "text": [
      "1 is an odd number.\n",
      "2 is an even number.\n",
      "3 is an odd number.\n",
      "4 is an even number.\n",
      "5 is an odd number.\n",
      "6 is an even number.\n",
      "7 is an odd number.\n",
      "8 is an even number.\n",
      "9 is an odd number.\n",
      "10 is an even number.\n"
     ]
    }
   ],
   "source": [
    "# List of numbers\n",
    "numbers = [1, 2, 3, 4, 5, 6, 7, 8, 9, 10]\n",
    "\n",
    "# Iterate over the list and print only even numbers\n",
    "for number in numbers:\n",
    "    if number % 2 == 0:\n",
    "        print(f\"{number} is an even number.\")\n",
    "    else:\n",
    "        print(f\"{number} is an odd number.\")\n",
    "\n",
    "#Q How to separate odd and even numbers in two separate list?"
   ]
  },
  {
   "cell_type": "markdown",
   "id": "0813ab5d-219a-4273-8edd-13df662f1061",
   "metadata": {},
   "source": [
    "## Example 13"
   ]
  },
  {
   "cell_type": "code",
   "execution_count": 60,
   "id": "27afbc30-e85c-4494-a1c4-c11291faa340",
   "metadata": {},
   "outputs": [
    {
     "name": "stdout",
     "output_type": "stream",
     "text": [
      "####################################\n",
      "1 x 1 = 1\n",
      "1 x 2 = 2\n",
      "1 x 3 = 3\n",
      "1 x 4 = 4\n",
      "1 x 5 = 5\n",
      "1 x 6 = 6\n",
      "1 x 7 = 7\n",
      "1 x 8 = 8\n",
      "1 x 9 = 9\n",
      "1 x 10 = 10\n",
      "####################################\n",
      "2 x 1 = 2\n",
      "2 x 2 = 4\n",
      "2 x 3 = 6\n",
      "2 x 4 = 8\n",
      "2 x 5 = 10\n",
      "2 x 6 = 12\n",
      "2 x 7 = 14\n",
      "2 x 8 = 16\n",
      "2 x 9 = 18\n",
      "2 x 10 = 20\n",
      "####################################\n",
      "3 x 1 = 3\n",
      "3 x 2 = 6\n",
      "3 x 3 = 9\n",
      "3 x 4 = 12\n",
      "3 x 5 = 15\n",
      "3 x 6 = 18\n",
      "3 x 7 = 21\n",
      "3 x 8 = 24\n",
      "3 x 9 = 27\n",
      "3 x 10 = 30\n",
      "####################################\n",
      "4 x 1 = 4\n",
      "4 x 2 = 8\n",
      "4 x 3 = 12\n",
      "4 x 4 = 16\n",
      "4 x 5 = 20\n",
      "4 x 6 = 24\n",
      "4 x 7 = 28\n",
      "4 x 8 = 32\n",
      "4 x 9 = 36\n",
      "4 x 10 = 40\n",
      "####################################\n",
      "5 x 1 = 5\n",
      "5 x 2 = 10\n",
      "5 x 3 = 15\n",
      "5 x 4 = 20\n",
      "5 x 5 = 25\n",
      "5 x 6 = 30\n",
      "5 x 7 = 35\n",
      "5 x 8 = 40\n",
      "5 x 9 = 45\n",
      "5 x 10 = 50\n"
     ]
    }
   ],
   "source": [
    "# Nested loop to create a multiplication table\n",
    "for i in range(1, 6):  # Outer loop for the rows\n",
    "    print(\"####################################\")\n",
    "    for j in range(1, 11):  # Inner loop for the columns\n",
    "        result = i * j\n",
    "        print(f\"{i} x {j} = {result}\")"
   ]
  },
  {
   "cell_type": "markdown",
   "id": "db2643d5-300e-48a0-9f8a-8509e66cb2be",
   "metadata": {},
   "source": [
    "## Example 14"
   ]
  },
  {
   "cell_type": "code",
   "execution_count": 66,
   "id": "bb9f86f4-d414-4607-9c58-40e6ade5fe46",
   "metadata": {},
   "outputs": [
    {
     "name": "stdout",
     "output_type": "stream",
     "text": [
      "Processing iteration for i = 1\n",
      "Processing iteration for i = 2\n",
      "Skipping iteration for i = 3\n",
      "Processing iteration for i = 4\n",
      "Processing iteration for i = 5\n"
     ]
    }
   ],
   "source": [
    "# Using continue in a for loop\n",
    "\n",
    "for i in range(1, 6):\n",
    "    if i == 3:\n",
    "        print(\"Skipping iteration for i =\", i)\n",
    "        continue\n",
    "    print(\"Processing iteration for i =\", i)"
   ]
  },
  {
   "cell_type": "markdown",
   "id": "164c30aa-019a-4808-8939-135f0c12d8b4",
   "metadata": {},
   "source": [
    "## Example 15"
   ]
  },
  {
   "cell_type": "code",
   "execution_count": 67,
   "id": "42c74f98-a486-4347-b160-a9e8a2b4d3fa",
   "metadata": {},
   "outputs": [
    {
     "name": "stdout",
     "output_type": "stream",
     "text": [
      "Processing iteration for i = 1\n",
      "Processing iteration for i = 2\n",
      "Breaking out of the loop for i = 3\n"
     ]
    }
   ],
   "source": [
    "# Using break in a for loop\n",
    "\n",
    "for i in range(1, 6):\n",
    "    if i == 3:\n",
    "        print(\"Breaking out of the loop for i =\", i)\n",
    "        break\n",
    "    print(\"Processing iteration for i =\", i)"
   ]
  },
  {
   "cell_type": "markdown",
   "id": "52fe1189-b515-4cca-9d5f-f3ebd8046836",
   "metadata": {},
   "source": [
    "---\n",
    "* # `while` loop\n",
    "---"
   ]
  },
  {
   "cell_type": "markdown",
   "id": "0fe3f507-ee81-4d99-8521-23cba2997301",
   "metadata": {},
   "source": [
    "## Example 16"
   ]
  },
  {
   "cell_type": "code",
   "execution_count": 4,
   "id": "4d98ad3d-a017-44c7-ac69-5d95cf251942",
   "metadata": {},
   "outputs": [
    {
     "name": "stdout",
     "output_type": "stream",
     "text": [
      "Counter value: 0\n",
      "Counter value: 1\n",
      "Counter value: 2\n",
      "Counter value: 3\n",
      "Counter value: 4\n"
     ]
    }
   ],
   "source": [
    "# Example 1: Basic while loop\n",
    "counter = 0\n",
    "while counter < 5:\n",
    "    print(f\"Counter value: {counter}\")\n",
    "    counter += 1"
   ]
  },
  {
   "cell_type": "markdown",
   "id": "6bcd109e-3a1d-4119-8f52-4e8c5bd47701",
   "metadata": {},
   "source": [
    "## Example 17"
   ]
  },
  {
   "cell_type": "code",
   "execution_count": 5,
   "id": "04bd4475-179c-4aa0-adbb-429c27476836",
   "metadata": {},
   "outputs": [
    {
     "name": "stdin",
     "output_type": "stream",
     "text": [
      "Enter a number:  10\n"
     ]
    },
    {
     "name": "stdout",
     "output_type": "stream",
     "text": [
      "You entered: 10\n"
     ]
    }
   ],
   "source": [
    "# Example 2: User input in a while loop\n",
    "while True:\n",
    "    try:\n",
    "        user_input = int(input(\"Enter a number: \"))\n",
    "        print(f\"You entered: {user_input}\")\n",
    "        break  # Exit the loop if the input is a valid integer\n",
    "    except ValueError:\n",
    "        print(\"Invalid input. Please enter a valid number.\")"
   ]
  },
  {
   "cell_type": "markdown",
   "id": "f744b398-a26a-4cc5-8e33-53f2e90d2b1c",
   "metadata": {},
   "source": [
    "## Example 18"
   ]
  },
  {
   "cell_type": "code",
   "execution_count": null,
   "id": "ce8bfdb4-f967-4195-8b31-1654176b3aff",
   "metadata": {},
   "outputs": [],
   "source": [
    "# Example: While loop with if statement\n",
    "counter = 0\n",
    "\n",
    "while counter < 5:\n",
    "    print(f\"Counter value: {counter}\")\n",
    "\n",
    "    if counter % 2 == 0:\n",
    "        print(\"Counter is even.\")\n",
    "    else:\n",
    "        print(\"Counter is odd.\")\n",
    "\n",
    "    counter += 1"
   ]
  },
  {
   "cell_type": "markdown",
   "id": "0135f788-3d23-42c8-b958-3b9e0ffa12f5",
   "metadata": {},
   "source": [
    "## Example 19"
   ]
  },
  {
   "cell_type": "code",
   "execution_count": null,
   "id": "8043164d-9498-425d-a8af-2dbc4f0e020e",
   "metadata": {},
   "outputs": [],
   "source": [
    "import time\n",
    "\n",
    "# Example: Using while loop with a delay\n",
    "counter = 0\n",
    "\n",
    "while counter < 5:\n",
    "    print(f\"Counter value: {counter}\")\n",
    "    counter += 1\n",
    "\n",
    "    # Introduce a delay of 1 second between iterations\n",
    "    time.sleep(1)\n",
    "\n",
    "print(\"Loop finished.\")"
   ]
  },
  {
   "cell_type": "markdown",
   "id": "78cf48b7-e86a-4071-98ba-b57740ba41c3",
   "metadata": {},
   "source": [
    "---\n",
    "<span style=\"color:blue; font-size: 40px\"> Importing a Module.</span>\n",
    "\n",
    "---\n",
    "![](https://cdn-icons-png.flaticon.com/512/5133/5133626.png)\n",
    "\n",
    "### from toolbox get hammer"
   ]
  },
  {
   "cell_type": "code",
   "execution_count": null,
   "id": "f749a515-1932-43b2-a844-2165128e84bc",
   "metadata": {},
   "outputs": [],
   "source": [
    "#!pip install pandas biopython\n",
    "\n",
    "import numpy as np\n",
    "import pandas as pd\n",
    "import biopython"
   ]
  },
  {
   "cell_type": "markdown",
   "id": "faa11ed9-b316-4af6-93db-564c09be6c73",
   "metadata": {},
   "source": [
    "## Example 20"
   ]
  },
  {
   "cell_type": "code",
   "execution_count": 79,
   "id": "879f5304-c469-4ace-8084-78de36e73910",
   "metadata": {},
   "outputs": [
    {
     "name": "stdout",
     "output_type": "stream",
     "text": [
      "Amino Acid Frequencies:\n",
      "M: 1\n",
      "A: 2\n",
      "G: 2\n",
      "H: 1\n",
      "T: 1\n",
      "F: 1\n",
      "W: 1\n",
      "P: 1\n",
      "L: 1\n"
     ]
    }
   ],
   "source": [
    "protein_sequence = \"MAGHGTFAWPL\"\n",
    "\n",
    "# Initialize an empty dictionary to store amino acid frequencies\n",
    "amino_acid_freq = {}\n",
    "\n",
    "# Loop through each amino acid in the protein sequence\n",
    "for amino_acid in protein_sequence:\n",
    "    # Check if the amino acid is already in the dictionary\n",
    "    if amino_acid in amino_acid_freq:\n",
    "        # If it's present, increment the count\n",
    "        amino_acid_freq[amino_acid] += 1\n",
    "    else:\n",
    "        # If it's not present, add it to the dictionary with count 1\n",
    "        amino_acid_freq[amino_acid] = 1\n",
    "\n",
    "# Print the amino acid frequencies\n",
    "print(\"Amino Acid Frequencies:\")\n",
    "for amino_acid, count in amino_acid_freq.items():\n",
    "    print(f\"{amino_acid}: {count}\")"
   ]
  },
  {
   "cell_type": "markdown",
   "id": "db846f87-79ef-4e70-aa5f-40984f3bfd07",
   "metadata": {},
   "source": [
    "## Example 21"
   ]
  },
  {
   "cell_type": "code",
   "execution_count": 49,
   "id": "8d445a68-f8fd-4cf2-94c5-40e74e788b84",
   "metadata": {},
   "outputs": [
    {
     "name": "stdout",
     "output_type": "stream",
     "text": [
      "Original DNA Sequences:\n",
      "ATGC\n",
      "CTAATG\n",
      "GAGAGAGA\n",
      "TATCGATCGA\n",
      "\n",
      "Reverse Complements:\n",
      "GCAT\n",
      "CATTAG\n",
      "TCTCTCTC\n",
      "TCGATCGATA\n"
     ]
    }
   ],
   "source": [
    "from Bio.Seq import Seq\n",
    "\n",
    "# List of DNA sequences\n",
    "dna_sequences = [\"ATGC\", \"CTAATG\", \"GAGAGAGA\", \"TATCGATCGA\"]\n",
    "\n",
    "# Create a list to store Biopython Seq objects\n",
    "biopython_seqs = [Seq(seq) for seq in dna_sequences]\n",
    "\n",
    "# Display original DNA sequences\n",
    "print(\"Original DNA Sequences:\")\n",
    "for seq in dna_sequences:\n",
    "    print(seq)\n",
    "\n",
    "# Display reverse complements using Biopython\n",
    "print(\"\\nReverse Complements:\")\n",
    "for biopython_seq in biopython_seqs:\n",
    "    reverse_complement = biopython_seq.reverse_complement()\n",
    "    print(reverse_complement)"
   ]
  },
  {
   "cell_type": "markdown",
   "id": "41de0c6c-93b3-4686-b731-ec8eff05c9db",
   "metadata": {},
   "source": [
    "## Example 22"
   ]
  },
  {
   "cell_type": "code",
   "execution_count": 211,
   "id": "4ed7d552-8b24-49c8-ba68-a34281aa5160",
   "metadata": {},
   "outputs": [
    {
     "data": {
      "text/html": [
       "<div>\n",
       "<style scoped>\n",
       "    .dataframe tbody tr th:only-of-type {\n",
       "        vertical-align: middle;\n",
       "    }\n",
       "\n",
       "    .dataframe tbody tr th {\n",
       "        vertical-align: top;\n",
       "    }\n",
       "\n",
       "    .dataframe thead th {\n",
       "        text-align: right;\n",
       "    }\n",
       "</style>\n",
       "<table border=\"1\" class=\"dataframe\">\n",
       "  <thead>\n",
       "    <tr style=\"text-align: right;\">\n",
       "      <th></th>\n",
       "      <th>Name</th>\n",
       "      <th>Age</th>\n",
       "      <th>Salary</th>\n",
       "    </tr>\n",
       "  </thead>\n",
       "  <tbody>\n",
       "    <tr>\n",
       "      <th>0</th>\n",
       "      <td>employee_1</td>\n",
       "      <td>25</td>\n",
       "      <td>50000</td>\n",
       "    </tr>\n",
       "    <tr>\n",
       "      <th>1</th>\n",
       "      <td>employee_2</td>\n",
       "      <td>30</td>\n",
       "      <td>60000</td>\n",
       "    </tr>\n",
       "    <tr>\n",
       "      <th>2</th>\n",
       "      <td>employee_3</td>\n",
       "      <td>35</td>\n",
       "      <td>75000</td>\n",
       "    </tr>\n",
       "    <tr>\n",
       "      <th>3</th>\n",
       "      <td>employee_4</td>\n",
       "      <td>28</td>\n",
       "      <td>48000</td>\n",
       "    </tr>\n",
       "    <tr>\n",
       "      <th>4</th>\n",
       "      <td>employee_5</td>\n",
       "      <td>22</td>\n",
       "      <td>55000</td>\n",
       "    </tr>\n",
       "  </tbody>\n",
       "</table>\n",
       "</div>"
      ],
      "text/plain": [
       "         Name  Age  Salary\n",
       "0  employee_1   25   50000\n",
       "1  employee_2   30   60000\n",
       "2  employee_3   35   75000\n",
       "3  employee_4   28   48000\n",
       "4  employee_5   22   55000"
      ]
     },
     "execution_count": 211,
     "metadata": {},
     "output_type": "execute_result"
    }
   ],
   "source": [
    "import pandas as pd\n",
    "import matplotlib.pyplot as plt\n",
    "\n",
    "# Create a dictionary with sample data\n",
    "data = {\n",
    "    'Name': ['employee_1', 'employee_2', 'employee_3', 'employee_4', 'employee_5'],\n",
    "    'Age': [25, 30, 35, 28, 22],\n",
    "    'Salary': [50000, 60000, 75000, 48000, 55000]\n",
    "}\n",
    "\n",
    "# Convert the dictionary to a Pandas DataFrame\n",
    "df = pd.DataFrame(data)\n",
    "\n",
    "df"
   ]
  },
  {
   "cell_type": "markdown",
   "id": "63c1779a-b682-4f16-bea2-06331f0e16fc",
   "metadata": {},
   "source": [
    "## Example 23"
   ]
  },
  {
   "cell_type": "code",
   "execution_count": 213,
   "id": "12206c40-1971-4d67-9fcc-ff0e435731fb",
   "metadata": {},
   "outputs": [
    {
     "name": "stdout",
     "output_type": "stream",
     "text": [
      "Original Protein Sequence:\n",
      "MAGVHIKLSLKGJDNSRWTYQLENAVMCDAGNPNNKLSGWMRVLEDAFVXITSSDSCFE\n",
      "\n",
      "Generated Peptides:\n",
      "Peptide 1: VHIKLSLK: \n",
      "Peptide 2: IKLSLKGJ: \n",
      "Peptide 3: LSLKGJDN: \n",
      "Peptide 4: SLKGJDNS: \n",
      "Peptide 5: LKGJDNSR: \n",
      "Peptide 6: KGJDNSRW: \n"
     ]
    }
   ],
   "source": [
    "# Example: Creating peptides from a protein sequence\n",
    "\n",
    "# Protein sequence\n",
    "protein_sequence = \"MAGVHIKLSLKGJDNSRWTYQLENAVMCDAGNPNNKLSGWMRVLEDAFVXITSSDSCFE\"\n",
    "\n",
    "# Define the length of each peptide\n",
    "peptide_length = 10\n",
    "\n",
    "# Create a list to store peptides\n",
    "peptides = []\n",
    "\n",
    "# Generate peptides using list slicing\n",
    "for i in  [1, 3, 5, 6, 7, 8]:\n",
    "    peptide = protein_sequence[i+2:i+10]\n",
    "    peptides.append(peptide)\n",
    "\n",
    "# Display the original protein sequence\n",
    "print(\"Original Protein Sequence:\")\n",
    "print(protein_sequence)\n",
    "\n",
    "# Display the generated peptides\n",
    "print(\"\\nGenerated Peptides:\")\n",
    "for i, peptide in enumerate(peptides, 1):\n",
    "    print(f\"Peptide {i}: {peptide}: \")\n",
    "\n",
    "#How to print peptide length "
   ]
  },
  {
   "cell_type": "markdown",
   "id": "1866e3e3-d9d6-4070-93ce-d0ea4391d8be",
   "metadata": {},
   "source": [
    "## Example 24"
   ]
  },
  {
   "cell_type": "code",
   "execution_count": 61,
   "id": "b2c5fce5-ff05-4eee-8288-44796f640bfa",
   "metadata": {},
   "outputs": [],
   "source": [
    "# Accessing entrez Database\n",
    "entrez_ids = [\n",
    "    '345678', '901234', '567890', '234567', '890123',\n",
    "    '456789', '012345', '678901', '234567', '890123',\n",
    "    '456789', '012345', '678901', '234567', '890123',\n",
    "    '567890', '234567'\n",
    "]"
   ]
  },
  {
   "cell_type": "code",
   "execution_count": 199,
   "id": "348efd64-02c2-4d61-ae47-a480b6ac431b",
   "metadata": {},
   "outputs": [],
   "source": []
  },
  {
   "cell_type": "markdown",
   "id": "498597b4-be86-43d9-846b-a192bad65a9e",
   "metadata": {},
   "source": [
    "## Example 25"
   ]
  },
  {
   "cell_type": "code",
   "execution_count": 62,
   "id": "4d656fce-d1ad-4d90-b12c-be0222af75ca",
   "metadata": {},
   "outputs": [
    {
     "name": "stdout",
     "output_type": "stream",
     "text": [
      "TCCATTTAATTNGTATTTATTGAGTCATGGCTCTGTACTGTTAGGCATTTGGGAATACAGAGATGAGACAGACAAAGGCCCTGCCCCAAGGAACTTACAGTCTAGCACAAAAACAGACCAAAAAAGTGTAGTTTCAATGACGTGTAACAGAGAGTTAAGAAGGAAATGCAAGGGGCCATGGGAACACTGTGCAGAAATATTTAACTTAGTCTAGGGGGACAGGGAAGGCTTCCCCAAAGGAGAAGTGTGGATACCTCTGACAGGGCGAGATTTAGCATGGCCTCTCTTGGGTGCTATGTGTTCCTTCATGATCGGCTTCACTTCCGGCCTCATCTGCCATTTTATAGCTCTTGCTTTTCAAATGTGGGGAGTCTCCTCTGTTGTAACTCGTGCTACTAGGTAAATTGTTTGCTGTTAACTTTGAGGATTTACCNCGGGGNAGGGGAATTCAGCTATCCCGG\n"
     ]
    }
   ],
   "source": [
    "from Bio import Entrez, SeqIO\n",
    "\n",
    "# Provide your email address to identify yourself to NCBI\n",
    "Entrez.email = \"your.email@example.com\"\n",
    "\n",
    "# Search for the COX-2 gene in humans\n",
    "\n",
    "\n",
    "search_query = \"Homo sapiens COX-2\"\n",
    "handle = Entrez.esearch(db=\"nucleotide\", term=search_query, sort=\"relevance\", idtype=\"acc\")\n",
    "record = Entrez.read(handle)\n",
    "gene_id = record[\"IdList\"][0]\n",
    "\n",
    "# Fetch the gene sequence\n",
    "handle = Entrez.efetch(db=\"nucleotide\", id='678901', rettype=\"gb\", retmode=\"text\")\n",
    "record = SeqIO.read(handle, \"genbank\")\n",
    "gene_sequence = record.seq\n",
    "\n",
    "# Display the gene sequence\n",
    "\n",
    "print(gene_sequence)"
   ]
  },
  {
   "cell_type": "markdown",
   "id": "74ce76ec-fd4a-4d7d-a66f-747f00f5bfff",
   "metadata": {},
   "source": [
    "## Example 26"
   ]
  },
  {
   "cell_type": "code",
   "execution_count": 203,
   "id": "5b8b979d-43cf-4c16-a81e-00bceb2174e0",
   "metadata": {},
   "outputs": [],
   "source": [
    "restriction_site = 'CATACA'\n",
    "\n",
    "gene_sequence = \"ATGCTCGCCCGCGCCCTGCTGCTGTGCGCGGTCCTGGCGCTCAGCCATACAGCAAATCCTTGCTGTTCCCACCCATGTCAAAACCGAGGTGTATGTATGAGTGTGGGATTTGACCAGTATAAGTGCGATTGTACCCGGACAGGATTCTATGGAGAAAACTGCTCAACACCGGAATTTTTGACAAGAATAAAATTATTTCTGAAACCCACTCCAAACACAGTGCACTACATACTTACCCACTTCAAGGGATTTTGGAACGTTGTGAATAACATTCCCTTCCTTCGAAATGCAATTATGAGTTATGTGTTGACATCCAGATCACATTTGATTGACAGTCCACCAACTTACAATGCTGACTATGGCTACAAAAGCTGGGAAGCCTTCTCTAACCTCTCCTATTATACTAGAGCCCTTCCTCCTGTGCCTGATGATTGCCCGACTCCCTTGGGTGTCAAAGCACTTCACGCATCAGTTTTTCAAGACAGATCATAAGCGAGGGCCAGCTTTCACCAACGGGCTGGGCCATGGGGTGGACTTAAATCATATTTACGGTGAAACTCTGGCTAGACAGCGTAAACTGCGCCTTTTCAAGGATGGAAAAATGAAATATCAGATAATTGATGGAGAGATGTATCCTCCCACAGTCAAAGATACTCAGGCAGAGATGATCTACCCTCCTCAAGTCCCTGAGCATCTACGGTTTGCTGTGGGGCAGGAGGTCTTTGGTCTGGTGCCTGGTCTGATGATGTATGCCACAATCTGGCTGCGGGAACACAACAGAGTATGCGATGTGCTTAAACAGGAGCATCCTGAATGGGGTGATGAGCAGTTGTTCCAGACAAGCAGGCTAATACTGATAGGAGAGACTATTAAGATTGTGATTGAAGATTATGTGCAACACTTGAGTGGCTATCACTTCAAACTGAAATTTGACCCAGAACTACTTTTCAACAAACAATTCCAGTACCAAAATCGTATTGCTGCTGAATTTAACACCCTCTATCACTGGCATCCCCTTCTGCCTGACACCTTTCAAATTCATGACCAGAAATACAACTATCAACAGTTTATCTACAACAACTCTATATTGCTGGAACATGGAATTACCCAGTTTGTTGAATCATTCACCAGGCAAATTGCTGGCAGGGTTGCTGGTGGTAGGAATGTTCCACCCGCAGTACAGAAAGTATCACAGGCTTCCATTGACCAGAGCAGGCAGATGAAATACCAGTCTTTTAATGAGTACCGCAAACGCTTTATGCTGAAGCCCTATGAATCATTTGAAGAACTTACAGGAGAAAAGGAAATGTCTGCAGAGTTGGAAGCACTCTATGGTGACATCGATGCTGTGGAGCTGTATCCTGCCCTTCTGGTAGAAAAGCCTCGGCCAGATGCCATCTTTGGTGAAACCATGGTAGAAGTTGGAGCACCATTCTCCTTGAAAGGACTTATGGGTAATGTTATATGTTCTCCTGCCTACTGGAAGCCAAGCACTTTTGGTGGAGAAGTGGGTTTTCAAATCATCAACACTGCCTCAATTCAGTCTCTCATCTGCAATAACGTGAAGGGCTGTCCCTTTACTTCATTCAGTGTTCCAGATCCAGAGCTCATTAAAACAGTCACCATCAATGCAAGTTCTTCCCGCTCCGGACTAGATGATATCAATCCCACAGTACTACTAAAAGAACGTTCGACTGAACTGTAG\""
   ]
  },
  {
   "cell_type": "code",
   "execution_count": 204,
   "id": "0556ee12-ec1b-494d-b653-58a424c46cf6",
   "metadata": {},
   "outputs": [],
   "source": [
    "current_index = gene_sequence.find(restriction_site)"
   ]
  },
  {
   "cell_type": "code",
   "execution_count": 208,
   "id": "53bf9725-87ee-412b-8f56-5e80f6e2596e",
   "metadata": {},
   "outputs": [
    {
     "data": {
      "text/plain": [
       "2"
      ]
     },
     "execution_count": 208,
     "metadata": {},
     "output_type": "execute_result"
    }
   ],
   "source": [
    "\n",
    "len(gene_sequence.split('CATACA'))\n"
   ]
  },
  {
   "cell_type": "markdown",
   "id": "a8dd271a-9bc5-4497-affd-cf85500a10d2",
   "metadata": {},
   "source": [
    "## Example 27"
   ]
  },
  {
   "cell_type": "code",
   "execution_count": 65,
   "id": "554ba7a3-9a02-4e56-bb35-0ee325154f11",
   "metadata": {},
   "outputs": [
    {
     "name": "stdout",
     "output_type": "stream",
     "text": [
      ">sp|P38398.2|BRCA1_HUMAN RecName: Full=Breast cancer type 1 susceptibility protein; AltName: Full=RING finger protein 53; AltName: Full=RING-type E3 ubiquitin transferase BRCA1\n",
      "MDLSALRVEEVQNVINAMQKILECPICLELIKEPVSTKCDHIFCKFCMLKLLNQKKGPSQCPLCKNDITK\n",
      "RSLQESTRFSQLVEELLKIICAFQLDTGLEYANSYNFAKKENNSPEHLKDEVSIIQSMGYRNRAKRLLQS\n",
      "EPENPSLQETSLSVQLSNLGTVRTLRTKQRIQPQKTSVYIELGSDSSEDTVNKATYCSVGDQELLQITPQ\n",
      "GTRDEISLDSAKKAACEFSETDVTNTEHHQPSNNDLNTTEKRAAERHPEKYQGSSVSNLHVEPCGTNTHA\n",
      "SSLQHENSSLLLTKDRMNVEKAEFCNKSKQPGLARSQHNRWAGSKETCNDRRTPSTEKKVDLNADPLCER\n",
      "KEWNKQKLPCSENPRDTEDVPWITLNSSIQKVNEWFSRSDELLGSDDSHDGESESNAKVADVLDVLNEVD\n",
      "EYSGSSEKIDLLASDPHEALICKSERVHSKSVESNIEDKIFGKTYRKKASLPNLSHVTENLIIGAFVTEP\n",
      "QIIQERPLTNKLKRKRRPTSGLHPEDFIKKADLAVQKTPEMINQGTNQTEQNGQVMNITNSGHENKTKGD\n",
      "SIQNEKNPNPIESLEKESAFKTKAEPISSSISNMELELNIHNSKAPKKNRLRRKSSTRHIHALELVVSRN\n",
      "LSPPNCTELQIDSCSSSEEIKKKKYNQMPVRHSRNLQLMEGKEPATGAKKSNKPNEQTSKRHDSDTFPEL\n",
      "KLTNAPGSFTKCSNTSELKEFVNPSLPREEKEEKLETVKVSNNAEDPKDLMLSGERVLQTERSVESSSIS\n",
      "LVPGTDYGTQESISLLEVSTLGKAKTEPNKCVSQCAAFENPKGLIHGCSKDNRNDTEGFKYPLGHEVNHS\n",
      "RETSIEMEESELDAQYLQNTFKVSKRQSFAPFSNPGNAEEECATFSAHSGSLKKQSPKVTFECEQKEENQ\n",
      "GKNESNIKPVQTVNITAGFPVVGQKDKPVDNAKCSIKGGSRFCLSSQFRGNETGLITPNKHGLLQNPYRI\n",
      "PPLFPIKSFVKTKCKKNLLEENFEEHSMSPEREMGNENIPSTVSTISRNNIRENVFKEASSSNINEVGSS\n",
      "TNEVGSSINEIGSSDENIQAELGRNRGPKLNAMLRLGVLQPEVYKQSLPGSNCKHPEIKKQEYEEVVQTV\n",
      "NTDFSPYLISDNLEQPMGSSHASQVCSETPDDLLDDGEIKEDTSFAENDIKESSAVFSKSVQKGELSRSP\n",
      "SPFTHTHLAQGYRRGAKKLESSEENLSSEDEELPCFQHLLFGKVNNIPSQSTRHSTVATECLSKNTEENL\n",
      "LSLKNSLNDCSNQVILAKASQEHHLSEETKCSASLFSSQCSELEDLTANTNTQDPFLIGSSKQMRHQSES\n",
      "QGVGLSDKELVSDDEERGTGLEENNQEEQSMDSNLGEAASGCESETSVSEDCSGLSSQSDILTTQQRDTM\n",
      "QHNLIKLQQEMAELEAVLEQHGSQPSNSYPSIISDSSALEDLRNPEQSTSEKAVLTSQKSSEYPISQNPE\n",
      "GLSADKFEVSADSSTSKNKEPGVERSSPSKCPSLDDRWYMHSCSGSLQNRNYPSQEELIKVVDVEEQQLE\n",
      "ESGPHDLTETSYLPRQDLEGTPYLESGISLFSDDPESDPSEDRAPESARVGNIPSSTSALKVPQLKVAES\n",
      "AQSPAAAHTTDTAGYNAMEESVSREKPELTASTERVNKRMSMVVSGLTPEEFMLVYKFARKHHITLTNLI\n",
      "TEETTHVVMKTDAEFVCERTLKYFLGIAGGKWVVSYFWVTQSIKERKMLNEHDFEVRGDVVNGRNHQGPK\n",
      "RARESQDRKIFRGLEICCYGPFTNMPTDQLEWMVQLCGASVVKELSSFTLGTGVHPIVVVQPDAWTEDNG\n",
      "FHAIGQMCEAPVVTREWVLDSVALYQCQELDTYLIPQIPHSHY\n",
      "\n",
      "\n"
     ]
    }
   ],
   "source": [
    "from Bio import Entrez\n",
    "\n",
    "def fetch_protein_sequence(accession_number):\n",
    "    # Provide your email address to NCBI\n",
    "    Entrez.email = \"your_email@example.com\"\n",
    "\n",
    "    # Specify the database (e.g., \"protein\") and the accession number\n",
    "    database = \"protein\"\n",
    "    accession = accession_number\n",
    "\n",
    "    # Fetch the record using Entrez.efetch\n",
    "    handle = Entrez.efetch(db=database, id=accession, rettype=\"fasta\", retmode=\"text\")\n",
    "    record = handle.read()\n",
    "\n",
    "    # Close the handle\n",
    "    handle.close()\n",
    "\n",
    "    return record\n",
    "\n",
    "# Example: Fetching a protein sequence for a specific accession number\n",
    "accession_number = \"P38398\"  # Replace with your desired accession number\n",
    "protein_sequence = fetch_protein_sequence(accession_number)\n",
    "\n",
    "print(protein_sequence)"
   ]
  },
  {
   "cell_type": "markdown",
   "id": "51d63bde-5fa3-4cbc-90c5-f4fb437112d9",
   "metadata": {},
   "source": [
    "## Example 28"
   ]
  },
  {
   "cell_type": "code",
   "execution_count": 10,
   "id": "bcc5f97d-123e-4e02-8a5b-25b9b9b20d7f",
   "metadata": {},
   "outputs": [
    {
     "name": "stdout",
     "output_type": "stream",
     "text": [
      "gi|728984\n"
     ]
    }
   ],
   "source": [
    "from Bio import Entrez\n",
    "\n",
    "accession_number = \"P38398\" \n",
    "\n",
    "# def fetch_metadata(accession_number):\n",
    "    # Provide your email address to NCBI\n",
    "Entrez.email = \"your_email@example.com\"\n",
    "\n",
    "# Specify the database (e.g., \"protein\") and the accession number\n",
    "database = \"protein\"\n",
    "accession = accession_number\n",
    "\n",
    "# Fetch the metadata using Entrez.efetch with retmode=\"xml\"\n",
    "handle = Entrez.efetch(db=database, id=accession, retmode=\"xml\")\n",
    "record = Entrez.read(handle)\n",
    "\n",
    "# Close the handle\n",
    "handle.close()\n",
    "\n",
    "# Example: Fetching metadata for a specific accession number\n",
    "# accession_number = \"P38398\"  # Replace with your desired accession number\n",
    "metadata = record\n",
    "\n",
    "# Print the metadata\n",
    "for i in metadata[0]['GBSeq_other-seqids']:\n",
    "    if accession_number not in i:\n",
    "        print(i)"
   ]
  },
  {
   "cell_type": "code",
   "execution_count": 14,
   "id": "ae34a0cc-8f47-41e7-93c1-6b0e80fff4a1",
   "metadata": {},
   "outputs": [],
   "source": [
    "# metadata[0]['GBSeq_sequence'].upper()"
   ]
  },
  {
   "cell_type": "markdown",
   "id": "8df2acb1-9cd0-4301-bc90-b904db486b95",
   "metadata": {},
   "source": [
    "## Example 29"
   ]
  },
  {
   "cell_type": "code",
   "execution_count": 15,
   "id": "f4a15383-1941-4c95-8dd5-2ec426a3272e",
   "metadata": {},
   "outputs": [
    {
     "name": "stdout",
     "output_type": "stream",
     "text": [
      "Amino Acid Frequencies:\n",
      "M: 1\n",
      "A: 2\n",
      "G: 2\n",
      "H: 1\n",
      "T: 1\n",
      "F: 1\n",
      "W: 1\n",
      "P: 1\n",
      "L: 1\n"
     ]
    }
   ],
   "source": [
    "protein_sequence = \"MAGHGTFAWPL\"\n",
    "\n",
    "# Initialize an empty dictionary to store amino acid frequencies\n",
    "amino_acid_freq = {}\n",
    "\n",
    "# Loop through each amino acid in the protein sequence\n",
    "for amino_acid in protein_sequence:\n",
    "    # Check if the amino acid is already in the dictionary\n",
    "    if amino_acid in amino_acid_freq:\n",
    "        # If it's present, increment the count\n",
    "        amino_acid_freq[amino_acid] += 1\n",
    "    else:\n",
    "        # If it's not present, add it to the dictionary with count 1\n",
    "        amino_acid_freq[amino_acid] = 1\n",
    "\n",
    "# Print the amino acid frequencies\n",
    "print(\"Amino Acid Frequencies:\")\n",
    "for amino_acid, count in amino_acid_freq.items():\n",
    "    print(f\"{amino_acid}: {count}\")"
   ]
  },
  {
   "cell_type": "code",
   "execution_count": null,
   "id": "44f727ff-5f40-44fa-9de9-f5ed7ece48bf",
   "metadata": {},
   "outputs": [],
   "source": []
  }
 ],
 "metadata": {
  "kernelspec": {
   "display_name": "Python 3 (ipykernel)",
   "language": "python",
   "name": "python3"
  },
  "language_info": {
   "codemirror_mode": {
    "name": "ipython",
    "version": 3
   },
   "file_extension": ".py",
   "mimetype": "text/x-python",
   "name": "python",
   "nbconvert_exporter": "python",
   "pygments_lexer": "ipython3",
   "version": "3.9.17"
  },
  "widgets": {
   "application/vnd.jupyter.widget-state+json": {
    "state": {},
    "version_major": 2,
    "version_minor": 0
   }
  }
 },
 "nbformat": 4,
 "nbformat_minor": 5
}
