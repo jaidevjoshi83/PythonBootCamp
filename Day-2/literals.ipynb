{
 "cells": [
  {
   "cell_type": "markdown",
   "metadata": {
    "editable": false,
    "slideshow": {
     "slide_type": "slide"
    },
    "tags": []
   },
   "source": [
    "# LRI Python Bootcamp\n",
    "\n",
    "**Lecture #2** - October 27th, 2023\n",
    "\n",
    "---\n",
    "\n",
    "Fabio Cumbo, PhD\n",
    "\n",
    "Postdoctoral Research Fellow, Daniel Blankenberg's Lab, Center for Computational Life Sciences, Lerner Research Institute, Cleveland Clinic\n",
    "\n",
    "- Webpage: [https://cumbof.github.io](https://cumbof.github.io)\n",
    "- Email: [cumbof@ccf.org](mailto:cumbof@ccf.org?subject=LRI%20Python%20Bootcamp%202023)"
   ]
  },
  {
   "cell_type": "markdown",
   "metadata": {
    "editable": false,
    "slideshow": {
     "slide_type": "slide"
    },
    "tags": []
   },
   "source": [
    "## A few useful resources before we start\n",
    "\n",
    "1. [Markdown Cheatsheet](https://github.com/adam-p/markdown-here/wiki/Markdown-Cheatsheet)  \n",
    "    1.1 [Headers](https://github.com/adam-p/markdown-here/wiki/Markdown-Cheatsheet#headers)  \n",
    "    1.2 [Emphasis](https://github.com/adam-p/markdown-here/wiki/Markdown-Cheatsheet#emphasis)  \n",
    "    1.3 [Lists](https://github.com/adam-p/markdown-here/wiki/Markdown-Cheatsheet#lists)  \n",
    "    1.4 [Links](https://github.com/adam-p/markdown-here/wiki/Markdown-Cheatsheet#links)  \n",
    "    1.5 [Images](https://github.com/adam-p/markdown-here/wiki/Markdown-Cheatsheet#images)  \n",
    "    1.6 [Code and Syntax Highlighting](https://github.com/adam-p/markdown-here/wiki/Markdown-Cheatsheet#code)  \n",
    "    1.7 [Footnotes](https://github.com/adam-p/markdown-here/wiki/Markdown-Cheatsheet#footnotes)  \n",
    "    1.8 [Tables](https://github.com/adam-p/markdown-here/wiki/Markdown-Cheatsheet#tables)  \n",
    "    1.9 [Blockquotes](https://github.com/adam-p/markdown-here/wiki/Markdown-Cheatsheet#blockquotes)  \n",
    "    1.10 [Inline HTML](https://github.com/adam-p/markdown-here/wiki/Markdown-Cheatsheet#html)  \n",
    "    1.11 [Horizontal Rule](https://github.com/adam-p/markdown-here/wiki/Markdown-Cheatsheet#hr)  \n",
    "    1.12 [Line Breaks](https://github.com/adam-p/markdown-here/wiki/Markdown-Cheatsheet#lines)  \n",
    "    1.13 [YouTube Videos](https://github.com/adam-p/markdown-here/wiki/Markdown-Cheatsheet#videos)  \n",
    "\n",
    "2. [A Byte of Python](https://python.swaroopch.com/)\n",
    "\n",
    "3. [Anaconda](https://anaconda.org/)\n",
    "\n",
    "4. [LRI Python Bootcamp Materials](https://github.com/jaidevjoshi83/PythonBootCamp)"
   ]
  },
  {
   "cell_type": "markdown",
   "metadata": {
    "editable": false,
    "slideshow": {
     "slide_type": "slide"
    },
    "tags": []
   },
   "source": [
    "## What are we going to learn today?\n",
    "\n",
    "Literals!"
   ]
  },
  {
   "cell_type": "markdown",
   "metadata": {
    "editable": false,
    "slideshow": {
     "slide_type": "slide"
    },
    "tags": []
   },
   "source": [
    "## What is a literal?\n",
    "\n",
    "A literal is a constant without a name that is used to specify data.\n",
    "\n",
    "Literals have a fixed value. They do not change during the program execution.\n",
    "\n",
    "We can specify the data value itself in the source code if we know that the data cannot be changed.\n",
    "\n",
    "Literals are commonly used to initialize variables."
   ]
  },
  {
   "cell_type": "code",
   "execution_count": 1,
   "metadata": {
    "editable": true,
    "slideshow": {
     "slide_type": "fragment"
    },
    "tags": []
   },
   "outputs": [],
   "source": [
    "a = 9  # 9 is an integer literal\n",
    "s = \"hello\"  # \"hello\" is a string literal in this case"
   ]
  },
  {
   "cell_type": "markdown",
   "metadata": {
    "editable": false,
    "slideshow": {
     "slide_type": "slide"
    },
    "tags": []
   },
   "source": [
    "### Types of literals in Python\n",
    "\n",
    "1. String literals\n",
    "\n",
    "2. Numeric literals\n",
    "\n",
    "3. Boolean literals\n",
    "\n",
    "4. Special literal None\n",
    "\n",
    "5. Literal collections"
   ]
  },
  {
   "cell_type": "markdown",
   "metadata": {
    "editable": false,
    "slideshow": {
     "slide_type": "slide"
    },
    "tags": []
   },
   "source": [
    "## 1. String literals\n",
    "\n",
    "A string literal in Python is a sequence of zero or more characters enclosed with single quote, double quote, or triple quote marks."
   ]
  },
  {
   "cell_type": "code",
   "execution_count": 2,
   "metadata": {
    "editable": true,
    "slideshow": {
     "slide_type": "fragment"
    },
    "tags": []
   },
   "outputs": [
    {
     "name": "stdout",
     "output_type": "stream",
     "text": [
      "hello\n"
     ]
    }
   ],
   "source": [
    "s = 'hello'\n",
    "print(s)"
   ]
  },
  {
   "cell_type": "markdown",
   "metadata": {
    "editable": false,
    "slideshow": {
     "slide_type": "fragment"
    },
    "tags": []
   },
   "source": [
    "Using double quotes:"
   ]
  },
  {
   "cell_type": "code",
   "execution_count": 3,
   "metadata": {
    "editable": true,
    "slideshow": {
     "slide_type": "fragment"
    },
    "tags": []
   },
   "outputs": [
    {
     "name": "stdout",
     "output_type": "stream",
     "text": [
      "hello\n"
     ]
    }
   ],
   "source": [
    "s = \"hello\"\n",
    "print(s)"
   ]
  },
  {
   "cell_type": "markdown",
   "metadata": {
    "editable": false,
    "slideshow": {
     "slide_type": "subslide"
    },
    "tags": []
   },
   "source": [
    "String literals can also begin and end with three single or double quotes."
   ]
  },
  {
   "cell_type": "code",
   "execution_count": 4,
   "metadata": {
    "editable": true,
    "slideshow": {
     "slide_type": "fragment"
    },
    "tags": []
   },
   "outputs": [
    {
     "name": "stdout",
     "output_type": "stream",
     "text": [
      "hello\n"
     ]
    }
   ],
   "source": [
    "s = '''hello'''\n",
    "print(s)"
   ]
  },
  {
   "cell_type": "code",
   "execution_count": 5,
   "metadata": {
    "editable": true,
    "slideshow": {
     "slide_type": "fragment"
    },
    "tags": []
   },
   "outputs": [
    {
     "name": "stdout",
     "output_type": "stream",
     "text": [
      "hello\n"
     ]
    }
   ],
   "source": [
    "s = \"\"\"hello\"\"\"\n",
    "print(s)"
   ]
  },
  {
   "cell_type": "markdown",
   "metadata": {
    "editable": false,
    "slideshow": {
     "slide_type": "fragment"
    },
    "tags": []
   },
   "source": [
    "The single quote and double quote forms are the most common methods to display the string. They are used to display a single-line string.\n",
    "\n",
    "Triple quote forms are used to write multi-line strings or to print the string in the desired way."
   ]
  },
  {
   "cell_type": "markdown",
   "metadata": {
    "editable": false,
    "slideshow": {
     "slide_type": "slide"
    },
    "tags": []
   },
   "source": [
    "### How can we use a quote inside a string?\n",
    "\n",
    "Single quotes can be used in a double quoted string literal."
   ]
  },
  {
   "cell_type": "code",
   "execution_count": 6,
   "metadata": {
    "editable": true,
    "slideshow": {
     "slide_type": "fragment"
    },
    "tags": []
   },
   "outputs": [
    {
     "name": "stdout",
     "output_type": "stream",
     "text": [
      "That is Bob's dog\n"
     ]
    }
   ],
   "source": [
    "s = \"That is Bob's dog\"\n",
    "print(s)"
   ]
  },
  {
   "cell_type": "markdown",
   "metadata": {
    "editable": false,
    "slideshow": {
     "slide_type": "fragment"
    },
    "tags": []
   },
   "source": [
    "Likewise double quotes can be used in a single quoted string literal."
   ]
  },
  {
   "cell_type": "code",
   "execution_count": 7,
   "metadata": {
    "editable": true,
    "slideshow": {
     "slide_type": "fragment"
    },
    "tags": []
   },
   "outputs": [
    {
     "name": "stdout",
     "output_type": "stream",
     "text": [
      "Welcome to the \"LRI Python Bootcamp\" second lecture\n"
     ]
    }
   ],
   "source": [
    "s = 'Welcome to the \"LRI Python Bootcamp\" second lecture'\n",
    "print(s)"
   ]
  },
  {
   "cell_type": "markdown",
   "metadata": {
    "editable": false,
    "slideshow": {
     "slide_type": "subslide"
    },
    "tags": []
   },
   "source": [
    "However, if the string contains both single and double quotes, escape characters can be used.\n",
    "\n",
    "An escape character consists of a backslash followed by the character you want to add to the string.\n",
    "\n",
    "The escape characters ```\\'``` and ```\\\"``` allow to include single and double quotes, respectively, into our string."
   ]
  },
  {
   "cell_type": "code",
   "execution_count": 8,
   "metadata": {
    "editable": true,
    "slideshow": {
     "slide_type": "fragment"
    },
    "tags": []
   },
   "outputs": [
    {
     "name": "stdout",
     "output_type": "stream",
     "text": [
      "That is Bob's dog\n"
     ]
    }
   ],
   "source": [
    "s = 'That is Bob\\'s dog'\n",
    "print(s)"
   ]
  },
  {
   "cell_type": "code",
   "execution_count": 9,
   "metadata": {
    "editable": true,
    "slideshow": {
     "slide_type": "fragment"
    },
    "tags": []
   },
   "outputs": [
    {
     "name": "stdout",
     "output_type": "stream",
     "text": [
      "Welcome to the \"LRI Python Bootcamp\" second lecture\n"
     ]
    }
   ],
   "source": [
    "s = \"Welcome to the \\\"LRI Python Bootcamp\\\" second lecture\"\n",
    "print(s)"
   ]
  },
  {
   "cell_type": "markdown",
   "metadata": {
    "editable": false,
    "slideshow": {
     "slide_type": "subslide"
    },
    "tags": []
   },
   "source": [
    "These escape characters look like two characters, but represent only one character.\n",
    "\n",
    "The following are some of the escape characters we can use:\n",
    "\n",
    "- ```\\'``` single quote\n",
    "- ```\\\"``` double quote\n",
    "- ```\\t``` tab\n",
    "- ```\\n``` newline (line break)\n",
    "- ```\\\\``` backslash"
   ]
  },
  {
   "cell_type": "markdown",
   "metadata": {
    "editable": false,
    "slideshow": {
     "slide_type": "slide"
    },
    "tags": []
   },
   "source": [
    "### Multi-line strings\n",
    "\n",
    "- Using backslash: a string literal can span multiple lines, but each line must end with a backslash to escape the newline."
   ]
  },
  {
   "cell_type": "code",
   "execution_count": 10,
   "metadata": {
    "editable": true,
    "slideshow": {
     "slide_type": "fragment"
    },
    "tags": []
   },
   "outputs": [
    {
     "name": "stdout",
     "output_type": "stream",
     "text": [
      "Welcome to the \"LRI Python Bootcamp\" second lecture\n"
     ]
    }
   ],
   "source": [
    "s = \"Welcome to the \\\n",
    "\\\"LRI Python Bootcamp\\\" \\\n",
    "second lecture\"\n",
    "\n",
    "print(s)"
   ]
  },
  {
   "cell_type": "markdown",
   "metadata": {
    "editable": false,
    "slideshow": {
     "slide_type": "subslide"
    },
    "tags": []
   },
   "source": [
    "- Using triple-quotes: a triple-quoted string can span multiple lines. In python, multi-line strings start and end with three single quotes ```'''``` or three double quotes ```\"\"\"```. They display on the screen exactly the way we type them."
   ]
  },
  {
   "cell_type": "code",
   "execution_count": 11,
   "metadata": {
    "editable": true,
    "slideshow": {
     "slide_type": "fragment"
    },
    "tags": []
   },
   "outputs": [
    {
     "name": "stdout",
     "output_type": "stream",
     "text": [
      "Welcome to the\n",
      "\"LRI Python Bootcamp\"\n",
      "second lecture\n"
     ]
    }
   ],
   "source": [
    "s = '''Welcome to the\n",
    "\"LRI Python Bootcamp\"\n",
    "second lecture'''\n",
    "\n",
    "print(s)"
   ]
  },
  {
   "cell_type": "markdown",
   "metadata": {
    "editable": false,
    "slideshow": {
     "slide_type": "slide"
    },
    "tags": []
   },
   "source": [
    "### Raw strings\n",
    "\n",
    "A raw string is created by adding an ```r``` or ```R``` just before the quotation mark of a string. It ignores all escape characters and prints any backslash in the string."
   ]
  },
  {
   "cell_type": "code",
   "execution_count": 12,
   "metadata": {
    "editable": true,
    "slideshow": {
     "slide_type": "fragment"
    },
    "tags": []
   },
   "outputs": [
    {
     "name": "stdout",
     "output_type": "stream",
     "text": [
      "That is Bob\\'s dog\n"
     ]
    }
   ],
   "source": [
    "s = r'That is Bob\\'s dog'\n",
    "print(s)"
   ]
  },
  {
   "cell_type": "markdown",
   "metadata": {
    "editable": false,
    "slideshow": {
     "slide_type": "fragment"
    },
    "tags": []
   },
   "source": [
    "Raw strings are useful if the string contains many backslashes, like paths on the file system ```C:\\Users\\Fabio\\Documents```"
   ]
  },
  {
   "cell_type": "markdown",
   "metadata": {
    "editable": false,
    "slideshow": {
     "slide_type": "slide"
    },
    "tags": []
   },
   "source": [
    "## 2. Numeric literals\n",
    "\n",
    "In Python, there are three types of numeric literals:\n",
    "\n",
    "1. integers (or int);\n",
    "2. floating point numbers (or float);\n",
    "3. imaginary numbers\n",
    "\n",
    "The integer literals are whole numbers with no fractional part (e.g., 9, 123, 0, -27). There is no limit for the length of integer literals apart from what can be stored in the available memory.\n",
    "\n",
    "Python supports four types of integer literals, i.e., decimal, binary, octal, and hexadecimal."
   ]
  },
  {
   "cell_type": "markdown",
   "metadata": {
    "editable": false,
    "slideshow": {
     "slide_type": "subslide"
    },
    "tags": []
   },
   "source": [
    "### Decimal integer literals\n",
    "\n",
    "A decimal integer literal consists of any of the digits 0 through 9. The first digit must not be zero (e.g., 1234, 0, -27)."
   ]
  },
  {
   "cell_type": "code",
   "execution_count": 13,
   "metadata": {
    "editable": true,
    "slideshow": {
     "slide_type": "fragment"
    },
    "tags": []
   },
   "outputs": [
    {
     "name": "stdout",
     "output_type": "stream",
     "text": [
      "1234\n"
     ]
    }
   ],
   "source": [
    "n = 1234\n",
    "print(n)"
   ]
  },
  {
   "cell_type": "markdown",
   "metadata": {
    "editable": false,
    "slideshow": {
     "slide_type": "subslide"
    },
    "tags": []
   },
   "source": [
    "### Binary integer literals\n",
    "\n",
    "A binary integer literal consists of digits 0 and 1 and starts with ```0b```."
   ]
  },
  {
   "cell_type": "code",
   "execution_count": 14,
   "metadata": {
    "editable": true,
    "slideshow": {
     "slide_type": "fragment"
    },
    "tags": []
   },
   "outputs": [
    {
     "name": "stdout",
     "output_type": "stream",
     "text": [
      "27\n"
     ]
    }
   ],
   "source": [
    "n = 0b11011\n",
    "print(n)"
   ]
  },
  {
   "cell_type": "markdown",
   "metadata": {
    "editable": false,
    "slideshow": {
     "slide_type": "subslide"
    },
    "tags": []
   },
   "source": [
    "### Octal integer literals\n",
    "\n",
    "A octal integer literal consists of any of the digits 0 through 7 and starts with ```0o```."
   ]
  },
  {
   "cell_type": "code",
   "execution_count": 15,
   "metadata": {
    "editable": true,
    "slideshow": {
     "slide_type": "fragment"
    },
    "tags": []
   },
   "outputs": [
    {
     "name": "stdout",
     "output_type": "stream",
     "text": [
      "136\n"
     ]
    }
   ],
   "source": [
    "n = 0o210\n",
    "print(n)"
   ]
  },
  {
   "cell_type": "markdown",
   "metadata": {
    "editable": false,
    "slideshow": {
     "slide_type": "subslide"
    },
    "tags": []
   },
   "source": [
    "### Hexadecimal integer literals\n",
    "\n",
    "A hexadecimal integer literal contains any combination of the digits 0 through 9 and the letters A through F that represent the numbers 10 to 15.\n",
    "\n",
    "A hexadecimal integer literal starts with ```0x```."
   ]
  },
  {
   "cell_type": "code",
   "execution_count": 16,
   "metadata": {
    "editable": true,
    "slideshow": {
     "slide_type": "fragment"
    },
    "tags": []
   },
   "outputs": [
    {
     "name": "stdout",
     "output_type": "stream",
     "text": [
      "300\n"
     ]
    }
   ],
   "source": [
    "n = 0x12c\n",
    "print(n)"
   ]
  },
  {
   "cell_type": "markdown",
   "metadata": {
    "editable": false,
    "slideshow": {
     "slide_type": "subslide"
    },
    "tags": []
   },
   "source": [
    "### Floating point literals\n",
    "\n",
    "Floating point literals or real literals contain a decimal point or an exponent or both. They are acomposed of a whole number followed by a decimal point and the fractional part."
   ]
  },
  {
   "cell_type": "code",
   "execution_count": 17,
   "metadata": {
    "editable": true,
    "slideshow": {
     "slide_type": "fragment"
    },
    "tags": []
   },
   "outputs": [
    {
     "name": "stdout",
     "output_type": "stream",
     "text": [
      "12.34\n",
      "0.27\n",
      "13.0\n",
      "0.5\n",
      "-12.3\n"
     ]
    }
   ],
   "source": [
    "n1 = 12.34\n",
    "print(n1)\n",
    "\n",
    "n2 = .27\n",
    "print(n2)\n",
    "\n",
    "n3 = 13.\n",
    "print(n3)\n",
    "\n",
    "n4 = 0.5\n",
    "print(n4)\n",
    "\n",
    "n5 = -12.3\n",
    "print(n5)"
   ]
  },
  {
   "cell_type": "markdown",
   "metadata": {
    "editable": false,
    "slideshow": {
     "slide_type": "subslide"
    },
    "tags": []
   },
   "source": [
    "Floating point literals may also be expressed in exponential notation (e.g., 123.45 may be expressed as 1.2345e2, where e2 means multiply by 10 at the power of 2).\n",
    "\n",
    "The format is: (__mantissa__)__e__(__exponent__)\n",
    "\n",
    "The mantissa is either an integer or a real number, while the exponent is an integer with an optional plus or minus sign.\n",
    "\n",
    "The __e__ that separates the mantissa and the exponent can be written in either uppercase (__E__) or lowercase (__e__).\n",
    "\n",
    "_Exponential notation is very useful for expressing numbers that are either very large or very small (e.g., 5400000000 may be expressed as 54E8 or 5.4E9)._"
   ]
  },
  {
   "cell_type": "code",
   "execution_count": 18,
   "metadata": {
    "editable": true,
    "slideshow": {
     "slide_type": "fragment"
    },
    "tags": []
   },
   "outputs": [
    {
     "name": "stdout",
     "output_type": "stream",
     "text": [
      "9800.0\n",
      "1230.0\n",
      "-0.12\n"
     ]
    }
   ],
   "source": [
    "n1 = 0.98e4\n",
    "print(n1)\n",
    "\n",
    "n2 = 1.23E3\n",
    "print(n2)\n",
    "\n",
    "n3 = -1.2e-1\n",
    "print(n3)"
   ]
  },
  {
   "cell_type": "markdown",
   "metadata": {
    "editable": false,
    "slideshow": {
     "slide_type": "subslide"
    },
    "tags": []
   },
   "source": [
    "### Imaginary literals\n",
    "\n",
    "An imaginary number is a real number multiplied by the square root of -1. It can be written in the form ```z = bj``` where ```b``` is a real number and ```j``` is the imaginary unit (e.g., 3.14j, 10.j, 10j, .001j, 1e100j). In other words, an imaginary literal is a complex number with a real part of 0.0.\n",
    "\n",
    "A complex number is a combination of a real and an imaginary number. It can be written in the form of ```a + bj```, where both ```a``` and ```b``` are real numbers (```a``` is the real part and ```b``` is the imaginary part)."
   ]
  },
  {
   "cell_type": "code",
   "execution_count": 19,
   "metadata": {
    "editable": true,
    "slideshow": {
     "slide_type": "fragment"
    },
    "tags": []
   },
   "outputs": [
    {
     "name": "stdout",
     "output_type": "stream",
     "text": [
      "7j\n",
      "(9+7j)\n"
     ]
    }
   ],
   "source": [
    "i = 7j\n",
    "c = 9 + 7j\n",
    "print(i)\n",
    "print(c)"
   ]
  },
  {
   "cell_type": "markdown",
   "metadata": {
    "editable": false,
    "slideshow": {
     "slide_type": "slide"
    },
    "tags": []
   },
   "source": [
    "## 3. Boolean literals\n",
    "\n",
    "A boolean literal in Python has two values, i.e., either ```True``` or ```False```.\n",
    "\n",
    "```True``` represents the numeric value 1 and ```False``` represents the numeric value 0."
   ]
  },
  {
   "cell_type": "code",
   "execution_count": 20,
   "metadata": {
    "editable": true,
    "slideshow": {
     "slide_type": "fragment"
    },
    "tags": []
   },
   "outputs": [
    {
     "name": "stdout",
     "output_type": "stream",
     "text": [
      "True\n",
      "4\n",
      "3\n"
     ]
    }
   ],
   "source": [
    "a = True\n",
    "print(a)\n",
    "\n",
    "a = True + 3\n",
    "print(a)\n",
    "\n",
    "a = False + 3\n",
    "print(a)"
   ]
  },
  {
   "cell_type": "markdown",
   "metadata": {
    "editable": false,
    "slideshow": {
     "slide_type": "subslide"
    },
    "tags": []
   },
   "source": [
    "There are three logical operators that are used to compare values. They evaluate expressions down to boolean values, returning ```True``` or ```False```. These operators are ```and```, ```or```, and ```not```:\n",
    "\n",
    "| Operator  | What it means                | Example       |\n",
    "| --------- | ---------------------------- | ------------- |\n",
    "| ```and``` | True if both are true        | ```x and y``` |\n",
    "| ```or```  | True if at least one is true | ```x or y```  |\n",
    "| ```not``` | True only if false           | ```not x```   |\n",
    "\n",
    "__This is at the base of *if-else* conditions. We will come back on this in the next lecture.__"
   ]
  },
  {
   "cell_type": "markdown",
   "metadata": {
    "editable": false,
    "slideshow": {
     "slide_type": "slide"
    },
    "tags": []
   },
   "source": [
    "## 4. Special literal None\n",
    "\n",
    "In Python, ```None``` is a special literal that represents the absence of a value.\n",
    "\n",
    "__```None``` is not the same as 0, or an empty string.__"
   ]
  },
  {
   "cell_type": "code",
   "execution_count": 21,
   "metadata": {
    "editable": true,
    "slideshow": {
     "slide_type": "fragment"
    },
    "tags": []
   },
   "outputs": [
    {
     "name": "stdout",
     "output_type": "stream",
     "text": [
      "None\n"
     ]
    }
   ],
   "source": [
    "a = None\n",
    "print(a)"
   ]
  },
  {
   "cell_type": "markdown",
   "metadata": {
    "editable": false,
    "slideshow": {
     "slide_type": "subslide"
    },
    "tags": []
   },
   "source": [
    "None is used as the return value of the ```print()``` function that displays text on the screen. It does not return any value but, since in Python every function call must return something, it returns ```None```."
   ]
  },
  {
   "cell_type": "code",
   "execution_count": 22,
   "metadata": {
    "editable": true,
    "slideshow": {
     "slide_type": "fragment"
    },
    "tags": []
   },
   "outputs": [
    {
     "name": "stdout",
     "output_type": "stream",
     "text": [
      "hello\n",
      "None\n"
     ]
    }
   ],
   "source": [
    "a = print(\"hello\")\n",
    "print(a)"
   ]
  },
  {
   "cell_type": "markdown",
   "metadata": {
    "editable": false,
    "slideshow": {
     "slide_type": "fragment"
    },
    "tags": []
   },
   "source": [
    "Python automatically adds ```return None``` at the end of any function definition that does not have a return statement. When a return statement is used without a value, ```None``` is returned."
   ]
  },
  {
   "cell_type": "markdown",
   "metadata": {
    "editable": false,
    "slideshow": {
     "slide_type": "slide"
    },
    "tags": []
   },
   "source": [
    "## 5. Literal collections\n",
    "\n",
    "Python supports four types of literal collections, such as tuple, list, dict, and set literals.\n",
    "\n",
    "### Tuple literals\n",
    "\n",
    "A tuple is a collection of different data-types. It is enclosed by the parentheses ```()``` and each element is separated by the comman ```,```.\n",
    "\n",
    "__Tuples are immutable.__"
   ]
  },
  {
   "cell_type": "code",
   "execution_count": 23,
   "metadata": {
    "editable": true,
    "slideshow": {
     "slide_type": "fragment"
    },
    "tags": []
   },
   "outputs": [
    {
     "name": "stdout",
     "output_type": "stream",
     "text": [
      "(2, 4, 6, 8)\n",
      "(1, 3, 5, 7)\n"
     ]
    }
   ],
   "source": [
    "even_numbers = (2, 4, 6, 8)\n",
    "odd_numbers = (1, 3, 5, 7)\n",
    "\n",
    "print(even_numbers)\n",
    "print(odd_numbers)"
   ]
  },
  {
   "cell_type": "markdown",
   "metadata": {
    "editable": false,
    "slideshow": {
     "slide_type": "subslide"
    },
    "tags": []
   },
   "source": [
    "### List literals\n",
    "\n",
    "A list contains items of different data-types. The values stored in the list are separated by a comma, and enclosed within square brackets.\n",
    "\n",
    "__Lists are mutable.__"
   ]
  },
  {
   "cell_type": "code",
   "execution_count": 24,
   "metadata": {
    "editable": true,
    "slideshow": {
     "slide_type": "fragment"
    },
    "tags": []
   },
   "outputs": [
    {
     "name": "stdout",
     "output_type": "stream",
     "text": [
      "[1, 2, 3, 4, 5]\n",
      "['Fabio', 'Jay', 'Richard', 'Rowan', 4, True]\n"
     ]
    }
   ],
   "source": [
    "numbers = [1, 2, 3, 4, 5]\n",
    "mixed = [\"Fabio\", \"Jay\", \"Richard\", \"Rowan\", 4, True]\n",
    "\n",
    "print(numbers)\n",
    "print(mixed)"
   ]
  },
  {
   "cell_type": "markdown",
   "metadata": {
    "editable": false,
    "slideshow": {
     "slide_type": "subslide"
    },
    "tags": []
   },
   "source": [
    "### Dict literals\n",
    "\n",
    "A dictionary stores the data as key-value pairs. It is enclosed by curly brackets and each pair is separated by a comma. We can store different types of data.\n",
    "\n",
    "__Dictionaries are mutable.__"
   ]
  },
  {
   "cell_type": "code",
   "execution_count": 25,
   "metadata": {
    "editable": true,
    "slideshow": {
     "slide_type": "fragment"
    },
    "tags": []
   },
   "outputs": [
    {
     "name": "stdout",
     "output_type": "stream",
     "text": [
      "{'a': 'apple', 'b': 'ball', 'c': 'cat'}\n",
      "{'name': 'Fabio', 'age': 34, 'department': 'CCLS'}\n"
     ]
    }
   ],
   "source": [
    "alphabet = {'a': 'apple', 'b': 'ball', 'c': 'cat'}\n",
    "information = {'name': 'Fabio', 'age': 34, 'department': 'CCLS'}\n",
    "\n",
    "print(alphabet)\n",
    "print(information)"
   ]
  },
  {
   "cell_type": "markdown",
   "metadata": {
    "editable": false,
    "slideshow": {
     "slide_type": "subslide"
    },
    "tags": []
   },
   "source": [
    "### Set literal\n",
    "\n",
    "A set is an unordered collection of elements of different data types. It is enclosed by curly brackets and each element is separated by the comma.\n",
    "\n",
    "__Sets are mutable.__"
   ]
  },
  {
   "cell_type": "code",
   "execution_count": 26,
   "metadata": {
    "editable": true,
    "slideshow": {
     "slide_type": "fragment"
    },
    "tags": []
   },
   "outputs": [
    {
     "name": "stdout",
     "output_type": "stream",
     "text": [
      "{'o', 'u', 'i', 'e', 'a'}\n",
      "{'cherry', 'apple', 'banana'}\n"
     ]
    }
   ],
   "source": [
    "vowels = {'a', 'e', 'i', 'o', 'u'}\n",
    "fruits = {'apple', 'banana', 'cherry'}\n",
    "\n",
    "print(vowels)\n",
    "print(fruits)"
   ]
  },
  {
   "cell_type": "markdown",
   "metadata": {
    "editable": false,
    "slideshow": {
     "slide_type": "slide"
    },
    "tags": []
   },
   "source": [
    "## Manipulating strings\n",
    "\n",
    "- Accessing individual characters in a string\n",
    "- Forward indexing\n",
    "- Backward indexing or Negative indexing\n",
    "- Slicing\n",
    "- IndexError and TypeError\n",
    "- Length of a string\n",
    "- String concatenation"
   ]
  },
  {
   "cell_type": "markdown",
   "metadata": {
    "editable": false,
    "slideshow": {
     "slide_type": "subslide"
    },
    "tags": []
   },
   "source": [
    "### Accessing individual characters in a string\n",
    "\n",
    "In Python, a string is a sequence of characters stored in a contiguous memory location.\n",
    "\n",
    "Each character can be individually accessed using its index. **An index is an integer.**\n",
    "\n",
    "An index of a string starts from 0. Therefore, in a string of _N_ characters, the last character has an index of _N-1_ (e.g., a string with 5 characters has 4 as its last index).\n",
    "\n",
    "We can access a specific character in a string by specifying its index within square brackets."
   ]
  },
  {
   "cell_type": "markdown",
   "metadata": {
    "editable": false,
    "slideshow": {
     "slide_type": "subslide"
    },
    "tags": []
   },
   "source": [
    "### Forward indexing\n",
    "\n",
    "Python provides two ways of indexing characters in strings. The first one is the forward indexing.\n",
    "\n",
    "The index of the first character in a string is 0. The index of the second character is 1, etc.\n",
    "\n",
    "| h | e | l | l | o |\n",
    "| - | - | - | - | - |\n",
    "| 0 | 1 | 2 | 3 | 4 |"
   ]
  },
  {
   "cell_type": "code",
   "execution_count": 27,
   "metadata": {
    "editable": true,
    "slideshow": {
     "slide_type": "fragment"
    },
    "tags": []
   },
   "outputs": [
    {
     "name": "stdout",
     "output_type": "stream",
     "text": [
      "h\n",
      "e\n",
      "l\n",
      "l\n",
      "o\n"
     ]
    }
   ],
   "source": [
    "s = \"hello\"\n",
    "\n",
    "print(s[0])\n",
    "print(s[1])\n",
    "print(s[2])\n",
    "print(s[3])\n",
    "print(s[4])"
   ]
  },
  {
   "cell_type": "markdown",
   "metadata": {
    "editable": false,
    "slideshow": {
     "slide_type": "subslide"
    },
    "tags": []
   },
   "source": [
    "### Backward indexing or Negative indexing\n",
    "\n",
    "Indexes can also have negative values.\n",
    "\n",
    "The index of the last character of a string is -1. The index of the second last character is -2, etc.\n",
    "\n",
    "| h  | e  | l  | l  | o  |\n",
    "| -- | -- | -- | -- | -- |\n",
    "| -5 | -4 | -3 | -2 | -1 |"
   ]
  },
  {
   "cell_type": "code",
   "execution_count": 28,
   "metadata": {
    "editable": true,
    "slideshow": {
     "slide_type": "fragment"
    },
    "tags": []
   },
   "outputs": [
    {
     "name": "stdout",
     "output_type": "stream",
     "text": [
      "o\n",
      "l\n",
      "l\n",
      "e\n",
      "h\n"
     ]
    }
   ],
   "source": [
    "s = \"hello\"\n",
    "\n",
    "print(s[-1])\n",
    "print(s[-2])\n",
    "print(s[-3])\n",
    "print(s[-4])\n",
    "print(s[-5])"
   ]
  },
  {
   "cell_type": "markdown",
   "metadata": {
    "editable": false,
    "slideshow": {
     "slide_type": "subslide"
    },
    "tags": []
   },
   "source": [
    "### Slicing\n",
    "\n",
    "While indexing can be used to get individual characters from a string, slicing can be used to get a substring (range of characters) by specifying the start index and the end index, separated by a colon.\n",
    "\n",
    "Python returns a substring from the start index position (included) to the end index position (not included).\n",
    "\n",
    "| h  | e  | l  | l  | o  |\n",
    "| -- | -- | -- | -- | -- |\n",
    "| 0  | 1  | 2  | 3  | 4  |\n",
    "\n",
    "| h  | e  | l  | l  | o  |\n",
    "| -- | -- | -- | -- | -- |\n",
    "| -5 | -4 | -3 | -2 | -1 |"
   ]
  },
  {
   "cell_type": "code",
   "execution_count": 29,
   "metadata": {
    "editable": true,
    "slideshow": {
     "slide_type": "fragment"
    },
    "tags": []
   },
   "outputs": [
    {
     "name": "stdout",
     "output_type": "stream",
     "text": [
      "hell\n",
      "hello\n",
      "ll\n",
      "ell\n"
     ]
    }
   ],
   "source": [
    "s = \"hello\"\n",
    "\n",
    "print(s[0:4])\n",
    "print(s[0:5])\n",
    "print(s[2:4])\n",
    "print(s[-4:-1])"
   ]
  },
  {
   "cell_type": "markdown",
   "metadata": {
    "editable": false,
    "slideshow": {
     "slide_type": "subslide"
    },
    "tags": []
   },
   "source": [
    "By default, an omitted start-index is set to 0, and an omitted end-index is set to the length of the string being sliced."
   ]
  },
  {
   "cell_type": "code",
   "execution_count": 30,
   "metadata": {
    "editable": true,
    "slideshow": {
     "slide_type": "fragment"
    },
    "tags": []
   },
   "outputs": [
    {
     "name": "stdout",
     "output_type": "stream",
     "text": [
      "hel\n",
      "llo\n",
      "lo\n",
      "hello\n"
     ]
    }
   ],
   "source": [
    "s = \"hello\"\n",
    "\n",
    "print(s[:3])\n",
    "print(s[2:])\n",
    "print(s[-2:])\n",
    "print(s[:])"
   ]
  },
  {
   "cell_type": "markdown",
   "metadata": {
    "editable": false,
    "slideshow": {
     "slide_type": "subslide"
    },
    "tags": []
   },
   "source": [
    "### IndexError and TypeError\n",
    "\n",
    "Python returns an **IndexError** error message if you use an index that exceeds the index value in your string"
   ]
  },
  {
   "cell_type": "code",
   "execution_count": 31,
   "metadata": {
    "editable": true,
    "slideshow": {
     "slide_type": "fragment"
    },
    "tags": []
   },
   "outputs": [
    {
     "ename": "IndexError",
     "evalue": "string index out of range",
     "output_type": "error",
     "traceback": [
      "\u001b[0;31m---------------------------------------------------------------------------\u001b[0m",
      "\u001b[0;31mIndexError\u001b[0m                                Traceback (most recent call last)",
      "Cell \u001b[0;32mIn[31], line 3\u001b[0m\n\u001b[1;32m      1\u001b[0m s \u001b[38;5;241m=\u001b[39m \u001b[38;5;124m\"\u001b[39m\u001b[38;5;124mhello\u001b[39m\u001b[38;5;124m\"\u001b[39m\n\u001b[0;32m----> 3\u001b[0m \u001b[38;5;28mprint\u001b[39m(\u001b[43ms\u001b[49m\u001b[43m[\u001b[49m\u001b[38;5;241;43m5\u001b[39;49m\u001b[43m]\u001b[49m)\n",
      "\u001b[0;31mIndexError\u001b[0m: string index out of range"
     ]
    }
   ],
   "source": [
    "s = \"hello\"\n",
    "\n",
    "print(s[5])"
   ]
  },
  {
   "cell_type": "markdown",
   "metadata": {
    "editable": false,
    "slideshow": {
     "slide_type": "subslide"
    },
    "tags": []
   },
   "source": [
    "Indexes can only be integer numbers. Float numbers will cause a **TypeError**."
   ]
  },
  {
   "cell_type": "code",
   "execution_count": 32,
   "metadata": {
    "editable": true,
    "slideshow": {
     "slide_type": "fragment"
    },
    "tags": []
   },
   "outputs": [
    {
     "ename": "TypeError",
     "evalue": "string indices must be integers",
     "output_type": "error",
     "traceback": [
      "\u001b[0;31m---------------------------------------------------------------------------\u001b[0m",
      "\u001b[0;31mTypeError\u001b[0m                                 Traceback (most recent call last)",
      "Cell \u001b[0;32mIn[32], line 3\u001b[0m\n\u001b[1;32m      1\u001b[0m s \u001b[38;5;241m=\u001b[39m \u001b[38;5;124m\"\u001b[39m\u001b[38;5;124mhello\u001b[39m\u001b[38;5;124m\"\u001b[39m\n\u001b[0;32m----> 3\u001b[0m \u001b[38;5;28mprint\u001b[39m(\u001b[43ms\u001b[49m\u001b[43m[\u001b[49m\u001b[38;5;241;43m1.2\u001b[39;49m\u001b[43m]\u001b[49m)\n",
      "\u001b[0;31mTypeError\u001b[0m: string indices must be integers"
     ]
    }
   ],
   "source": [
    "s = \"hello\"\n",
    "\n",
    "print(s[1.2])"
   ]
  },
  {
   "cell_type": "markdown",
   "metadata": {
    "editable": false,
    "slideshow": {
     "slide_type": "subslide"
    },
    "tags": []
   },
   "source": [
    "### Length of a string\n",
    "\n",
    "In Python, we can find out the length of a string by using the built-in function ```len()```."
   ]
  },
  {
   "cell_type": "code",
   "execution_count": 33,
   "metadata": {
    "editable": true,
    "slideshow": {
     "slide_type": "fragment"
    },
    "tags": []
   },
   "outputs": [
    {
     "name": "stdout",
     "output_type": "stream",
     "text": [
      "5\n"
     ]
    }
   ],
   "source": [
    "s = \"hello\"\n",
    "\n",
    "print(len(s))"
   ]
  },
  {
   "cell_type": "markdown",
   "metadata": {
    "editable": false,
    "slideshow": {
     "slide_type": "subslide"
    },
    "tags": []
   },
   "source": [
    "### String concatenation\n",
    "\n",
    "String concatenation means add strings together.\n",
    "\n",
    "Use the ```+``` character to add a variable to another variable."
   ]
  },
  {
   "cell_type": "code",
   "execution_count": 34,
   "metadata": {
    "editable": true,
    "slideshow": {
     "slide_type": "fragment"
    },
    "tags": []
   },
   "outputs": [
    {
     "name": "stdout",
     "output_type": "stream",
     "text": [
      "Fabio Cumbo\n"
     ]
    }
   ],
   "source": [
    "first_name = \"Fabio\"\n",
    "last_name = \"Cumbo\"\n",
    "\n",
    "full_name = first_name + \" \" + last_name\n",
    "print(full_name)"
   ]
  },
  {
   "cell_type": "markdown",
   "metadata": {
    "editable": false,
    "slideshow": {
     "slide_type": "fragment"
    },
    "tags": []
   },
   "source": [
    "**Warning: what if the variables point to numeric literals?**"
   ]
  },
  {
   "cell_type": "code",
   "execution_count": 35,
   "metadata": {
    "editable": true,
    "slideshow": {
     "slide_type": "subslide"
    },
    "tags": []
   },
   "outputs": [
    {
     "name": "stdout",
     "output_type": "stream",
     "text": [
      "6\n"
     ]
    }
   ],
   "source": [
    "n = 1\n",
    "m = 5\n",
    "\n",
    "print(n + m)"
   ]
  },
  {
   "cell_type": "markdown",
   "metadata": {
    "editable": false,
    "slideshow": {
     "slide_type": "fragment"
    },
    "tags": []
   },
   "source": [
    "It doesn't work.. We need to cast them to string first."
   ]
  },
  {
   "cell_type": "code",
   "execution_count": 36,
   "metadata": {
    "editable": true,
    "slideshow": {
     "slide_type": "fragment"
    },
    "tags": []
   },
   "outputs": [
    {
     "name": "stdout",
     "output_type": "stream",
     "text": [
      "15\n"
     ]
    }
   ],
   "source": [
    "print(str(n) + str(m))"
   ]
  },
  {
   "cell_type": "markdown",
   "metadata": {
    "editable": false,
    "slideshow": {
     "slide_type": "fragment"
    },
    "tags": []
   },
   "source": [
    "Or we can also use f-strings that provide a quick way to interpolate and format strings."
   ]
  },
  {
   "cell_type": "code",
   "execution_count": 37,
   "metadata": {
    "editable": true,
    "slideshow": {
     "slide_type": "fragment"
    },
    "tags": []
   },
   "outputs": [
    {
     "name": "stdout",
     "output_type": "stream",
     "text": [
      "15\n"
     ]
    }
   ],
   "source": [
    "print(f\"{n}{m}\")"
   ]
  },
  {
   "cell_type": "markdown",
   "metadata": {
    "editable": false,
    "slideshow": {
     "slide_type": "slide"
    },
    "tags": []
   },
   "source": [
    "## Hands-on #1"
   ]
  },
  {
   "cell_type": "markdown",
   "metadata": {
    "editable": false,
    "slideshow": {
     "slide_type": "subslide"
    },
    "tags": []
   },
   "source": [
    "Reply the following questions and keep track of your answers defining variables:\n",
    "\n",
    "- What is your first name?\n",
    "\n",
    "- What is your last name?\n",
    "\n",
    "- What is your Department?\n",
    "\n",
    "- Is this your first Python workshop?\n",
    "\n",
    "- How long have you been working at the Clinic?"
   ]
  },
  {
   "cell_type": "code",
   "execution_count": 38,
   "metadata": {
    "editable": true,
    "slideshow": {
     "slide_type": "subslide"
    },
    "tags": []
   },
   "outputs": [],
   "source": [
    "# What is your first name?\n",
    "first_name = \"Fabio\"\n",
    "\n",
    "# What is your last name?\n",
    "last_name = \"Cumbo\"\n",
    "\n",
    "# What is your Department?\n",
    "department = \"CCLS\"\n",
    "\n",
    "# Is this your first Python workshop?\n",
    "first_py_workshop = False\n",
    "\n",
    "# How many years have you been working at the Clinic?\n",
    "years_at_ccf = 2"
   ]
  },
  {
   "cell_type": "markdown",
   "metadata": {
    "editable": false,
    "slideshow": {
     "slide_type": "subslide"
    },
    "tags": []
   },
   "source": [
    "We have just defined a few string, numeric, and boolean literals. What is the best way to collect them?"
   ]
  },
  {
   "cell_type": "code",
   "execution_count": 39,
   "metadata": {
    "editable": true,
    "slideshow": {
     "slide_type": "fragment"
    },
    "tags": []
   },
   "outputs": [],
   "source": [
    "my_info = {\n",
    "    \"first_name\": first_name,\n",
    "    \"last_name\": last_name,\n",
    "    \"department\": department,\n",
    "    \"first_py_workshop\": first_py_workshop,\n",
    "    \"years_at_ccf\": years_at_ccf\n",
    "}"
   ]
  },
  {
   "cell_type": "markdown",
   "metadata": {
    "editable": false,
    "slideshow": {
     "slide_type": "subslide"
    },
    "tags": []
   },
   "source": [
    "We all have a _ccf.org_ email address. Would you be able to define it based on your first and last name string literals?\n",
    "\n",
    "Syntax:\n",
    "\n",
    "_[Up to the first 6 characters of your last name][First character of your first name][Optional incremental number]@ccf.org_"
   ]
  },
  {
   "cell_type": "code",
   "execution_count": 40,
   "metadata": {
    "editable": true,
    "slideshow": {
     "slide_type": "fragment"
    },
    "tags": []
   },
   "outputs": [
    {
     "name": "stdout",
     "output_type": "stream",
     "text": [
      "cumbof@ccf.org\n"
     ]
    }
   ],
   "source": [
    "first_half = my_info[\"last_name\"][:6].lower()\n",
    "second_half = my_info[\"first_name\"][0].lower()\n",
    "\n",
    "ccf_email_address = f\"{first_half}{second_half}@ccf.org\"\n",
    "\n",
    "print(ccf_email_address)"
   ]
  },
  {
   "cell_type": "markdown",
   "metadata": {
    "editable": false,
    "slideshow": {
     "slide_type": "subslide"
    },
    "tags": []
   },
   "source": [
    "That's something we may want to keep track. Let's add this info to our dictionary."
   ]
  },
  {
   "cell_type": "code",
   "execution_count": 41,
   "metadata": {
    "editable": true,
    "slideshow": {
     "slide_type": "fragment"
    },
    "tags": []
   },
   "outputs": [],
   "source": [
    "my_info[\"ccf_email_address\"] = ccf_email_address"
   ]
  },
  {
   "cell_type": "markdown",
   "metadata": {
    "editable": false,
    "slideshow": {
     "slide_type": "slide"
    },
    "tags": []
   },
   "source": [
    "## What's next?\n",
    "\n",
    "Very basic concepts about\n",
    "\n",
    "1. Operators  \n",
    "    1.1 What is an operator?  \n",
    "    1.2 Different types of operators in Python  \n",
    "\n",
    "2. Conditions\n",
    "\n",
    "3. Loops\n",
    "\n",
    "4. Functions"
   ]
  },
  {
   "cell_type": "markdown",
   "metadata": {
    "editable": false,
    "slideshow": {
     "slide_type": "subslide"
    },
    "tags": []
   },
   "source": [
    "### Operators\n",
    "\n",
    "There are two general classes of operators: _binary operators_ and _unary operators_.\n",
    "\n",
    "The binary operator uses two operands for the operation. For example, ```a - b```: the minus sign is a binary operator because it involves two operands, ```a``` and ```b```.\n",
    "\n",
    "On the other hand, unary operator uses one operand for the operation. For example, ```-a```: the minus sign is a unary operator because it uses a single operand, ```a```."
   ]
  },
  {
   "cell_type": "markdown",
   "metadata": {
    "editable": false,
    "slideshow": {
     "slide_type": "subslide"
    },
    "tags": []
   },
   "source": [
    "### Arithmetic operators\n",
    "\n",
    "Python provides all the basic arithmetic operators.\n",
    "\n",
    "| Operator | Meaning                    | Example      |\n",
    "| -------- | -------------------------- | ------------ |\n",
    "| ```+```  | Addition or unary plus     | ```a + b```  |\n",
    "| ```-```  | Subtraction or unary minus | ```a - b```  |\n",
    "| ```*```  | Multiplication             | ```a * b```  |\n",
    "| ```/```  | Division                   | ```a / b```  |\n",
    "| ```%```  | Modulo division            | ```a % b```  |\n",
    "| ```**``` | Power                      | ```a ** b``` |\n",
    "| ```//``` | Floor division             | ```a // b``` |"
   ]
  },
  {
   "cell_type": "code",
   "execution_count": 42,
   "metadata": {
    "editable": true,
    "slideshow": {
     "slide_type": "subslide"
    },
    "tags": []
   },
   "outputs": [
    {
     "name": "stdout",
     "output_type": "stream",
     "text": [
      "7\n",
      "3\n",
      "10\n",
      "2.5\n",
      "1\n",
      "25\n",
      "2\n"
     ]
    }
   ],
   "source": [
    "a = 5\n",
    "b = 2\n",
    "\n",
    "print(a + b)  # Addition\n",
    "print(a - b)  # Subtraction\n",
    "print(a * b)  # Multiplication\n",
    "print(a / b)  # Division\n",
    "print(a % b)  # Modulo\n",
    "print(a ** b)  # Power\n",
    "print(a // b)  # Floor division"
   ]
  },
  {
   "cell_type": "markdown",
   "metadata": {
    "editable": false,
    "slideshow": {
     "slide_type": "subslide"
    },
    "tags": []
   },
   "source": [
    "### Comparison operators\n",
    "\n",
    "Comparison operators, also known as relational operators, compare two values. The result is a Boolean data type, ```True``` or ```False```.\n",
    "\n",
    "Python provides 6 comparison operators organised into two categories, relational and equality.\n",
    "\n",
    "| Operator | Meaning                  | Example      |\n",
    "| -------- | ------------------------ | ------------ |\n",
    "| ```<```  | Less than                | ```a < b```  |\n",
    "| ```<=``` | Less than or equal to    | ```a <= b``` |\n",
    "| ```>```  | Greater than             | ```a > b```  |\n",
    "| ```>=``` | Greater than or equal to | ```a >= b``` |\n",
    "| ```==``` | Equal to                 | ```a == b``` |\n",
    "| ```!=``` | Not equal to             | ```a != b``` |"
   ]
  },
  {
   "cell_type": "code",
   "execution_count": 43,
   "metadata": {
    "editable": true,
    "slideshow": {
     "slide_type": "subslide"
    },
    "tags": []
   },
   "outputs": [
    {
     "name": "stdout",
     "output_type": "stream",
     "text": [
      "True\n",
      "False\n",
      "False\n",
      "True\n"
     ]
    }
   ],
   "source": [
    "print(5 > 3)\n",
    "print(5 < 3)\n",
    "print(5 == 3)\n",
    "print(5 != 3)"
   ]
  },
  {
   "cell_type": "code",
   "execution_count": 44,
   "metadata": {
    "editable": true,
    "slideshow": {
     "slide_type": "fragment"
    },
    "tags": []
   },
   "outputs": [
    {
     "name": "stdout",
     "output_type": "stream",
     "text": [
      "True\n",
      "True\n",
      "True\n",
      "True\n"
     ]
    }
   ],
   "source": [
    "print(3.0 == 3)\n",
    "print(\"hello\" == \"hello\")\n",
    "print(\"hello\" != \"Hello\")\n",
    "print(4 != \"4\")"
   ]
  },
  {
   "cell_type": "markdown",
   "metadata": {
    "editable": false,
    "slideshow": {
     "slide_type": "subslide"
    },
    "tags": []
   },
   "source": [
    "### Logical operators\n",
    "\n",
    "Logical operators are used to compare Boolean values. Like comparison operators, the result is a Boolean data type, ```True``` or ```False```.\n",
    "\n",
    "Python provides 3 logical operators, ```and```, ```or```, and ```not``` for combining Boolean values and creating new Boolean values."
   ]
  },
  {
   "cell_type": "markdown",
   "metadata": {
    "editable": false,
    "slideshow": {
     "slide_type": "subslide"
    },
    "tags": []
   },
   "source": [
    "The ```and``` operator is a binary operator which always take two Boolean values or expression. The ```and``` operator evaluate an expression to ```True``` is both the Boolean values are ```True```. it is ```False``` in all other cases.\n",
    "\n",
    "| Expression            | Result      |\n",
    "| --------------------- | ----------- |\n",
    "| ```True and True```   | ```True```  |\n",
    "| ```True and False```  | ```False``` |\n",
    "| ```False and True```  | ```False``` |\n",
    "| ```False and False``` | ```False``` |"
   ]
  },
  {
   "cell_type": "markdown",
   "metadata": {
    "editable": false,
    "slideshow": {
     "slide_type": "fragment"
    },
    "tags": []
   },
   "source": [
    "The logical operator ```and``` is used when we want to test more than one consition ```(a > b) and (a > c)```."
   ]
  },
  {
   "cell_type": "markdown",
   "metadata": {
    "editable": false,
    "slideshow": {
     "slide_type": "subslide"
    },
    "tags": []
   },
   "source": [
    "The ```or``` operator is a binary operator which always take two Boolean values or expression. It evaluates an expression to ```False``` if both the Boolean values are ```False```. It is ```True``` in all other cases.\n",
    "\n",
    "| Expression           | Result      |\n",
    "| -------------------- | ----------- |\n",
    "| ```True or True```   | ```True```  |\n",
    "| ```True or False```  | ```True```  |\n",
    "| ```False or True```  | ```True```  |\n",
    "| ```False or False``` | ```False``` |"
   ]
  },
  {
   "cell_type": "markdown",
   "metadata": {
    "editable": false,
    "slideshow": {
     "slide_type": "fragment"
    },
    "tags": []
   },
   "source": [
    "Like the ```and``` operator, the ```or``` operator s used to test more than one condition ```(a > b) or (a > c)```."
   ]
  },
  {
   "cell_type": "markdown",
   "metadata": {
    "editable": false,
    "slideshow": {
     "slide_type": "subslide"
    },
    "tags": []
   },
   "source": [
    "The ```not``` operator is a unary operator. It operates on only one Boolean value or expression.\n",
    "\n",
    "It simply evaluates to the opposite Boolean value, changing a ```True``` value to ```False``` and a ```False``` value to ```True```.\n",
    "\n",
    "| Expression      | Result      |\n",
    "| --------------- | ----------- |\n",
    "| ```not True```  | ```False``` |\n",
    "| ```not False``` | ```True```  |"
   ]
  },
  {
   "cell_type": "markdown",
   "metadata": {
    "editable": false,
    "slideshow": {
     "slide_type": "subslide"
    },
    "tags": []
   },
   "source": [
    "Like math operators, **logical operators have an order of operations**.\n",
    "\n",
    "Python evaluates the ```not``` operators first, then the ```and``` operators, and finally the ```or``` operators after all math and comparison operators have been evaluated."
   ]
  },
  {
   "cell_type": "markdown",
   "metadata": {
    "editable": false,
    "slideshow": {
     "slide_type": "subslide"
    },
    "tags": []
   },
   "source": [
    "### Assignment operators\n",
    "\n",
    "Assignment operators are used to assign the result of an expression to a variable with the single equal sign ```=```.\n",
    "\n",
    "**The left operand in an assignment operator must be a variable, not a literal.**"
   ]
  },
  {
   "cell_type": "code",
   "execution_count": 45,
   "metadata": {
    "editable": true,
    "slideshow": {
     "slide_type": "fragment"
    },
    "tags": []
   },
   "outputs": [
    {
     "ename": "SyntaxError",
     "evalue": "cannot assign to literal here. Maybe you meant '==' instead of '='? (3911681688.py, line 3)",
     "output_type": "error",
     "traceback": [
      "\u001b[0;36m  Cell \u001b[0;32mIn[45], line 3\u001b[0;36m\u001b[0m\n\u001b[0;31m    4 = a\u001b[0m\n\u001b[0m    ^\u001b[0m\n\u001b[0;31mSyntaxError\u001b[0m\u001b[0;31m:\u001b[0m cannot assign to literal here. Maybe you meant '==' instead of '='?\n"
     ]
    }
   ],
   "source": [
    "a = 4\n",
    "\n",
    "4 = a"
   ]
  },
  {
   "cell_type": "markdown",
   "metadata": {
    "editable": false,
    "slideshow": {
     "slide_type": "subslide"
    },
    "tags": []
   },
   "source": [
    "There are two forms of assignment: _simple_ and _augmented_"
   ]
  },
  {
   "cell_type": "code",
   "execution_count": 46,
   "metadata": {
    "editable": true,
    "slideshow": {
     "slide_type": "fragment"
    },
    "tags": []
   },
   "outputs": [
    {
     "name": "stdout",
     "output_type": "stream",
     "text": [
      "13\n",
      "5\n",
      "6\n"
     ]
    }
   ],
   "source": [
    "a = 4\n",
    "i = a\n",
    "b = a + 9\n",
    "print(b)\n",
    "\n",
    "i = i + 1\n",
    "print(i)\n",
    "\n",
    "i += 1\n",
    "print(i)"
   ]
  },
  {
   "cell_type": "markdown",
   "metadata": {
    "editable": false,
    "slideshow": {
     "slide_type": "subslide"
    },
    "tags": []
   },
   "source": [
    "### Identity operator\n",
    "\n",
    "Identity operators are used to compare the memory locations of two objects.\n",
    "\n",
    "Python provides two identity operators: ```is``` and ```is not```.\n",
    "\n",
    "**Identity operators are binary operators.**"
   ]
  },
  {
   "cell_type": "markdown",
   "metadata": {
    "editable": false,
    "slideshow": {
     "slide_type": "fragment"
    },
    "tags": []
   },
   "source": [
    "The ```is``` operator compares two variables on either side of the operator. The result is ```True``` if both the variables point to the same memory location. It is ```False``` otherwise."
   ]
  },
  {
   "cell_type": "markdown",
   "metadata": {
    "editable": false,
    "slideshow": {
     "slide_type": "fragment"
    },
    "tags": []
   },
   "source": [
    "The ```is not``` operator compares two variables on either side of the operator. The result is ```False``` if both the variables point to the same memory location. It is ```True``` otherwise."
   ]
  },
  {
   "cell_type": "markdown",
   "metadata": {
    "editable": false,
    "slideshow": {
     "slide_type": "subslide"
    },
    "tags": []
   },
   "source": [
    "### Membership operators\n",
    "\n",
    "Membership operators are used to test if a value or a variable is or is not in a sequence. A sequence may be a string, a list, a tuple, etc.\n",
    "\n",
    "Python provides two membership operators: ```in``` and ```not in```.\n",
    "\n",
    "**Membership operators are binary operators.**"
   ]
  },
  {
   "cell_type": "markdown",
   "metadata": {
    "editable": false,
    "slideshow": {
     "slide_type": "fragment"
    },
    "tags": []
   },
   "source": [
    "The ```in``` operator returns ```True``` if a value or a variable is found in the sequence. It is ```False``` otherwise."
   ]
  },
  {
   "cell_type": "markdown",
   "metadata": {
    "editable": false,
    "slideshow": {
     "slide_type": "fragment"
    },
    "tags": []
   },
   "source": [
    "The ```not in``` operator returns ```True``` if a value or a variable is **not** found in the sequence. It is ```False``` otherwise."
   ]
  },
  {
   "cell_type": "markdown",
   "metadata": {
    "editable": false,
    "slideshow": {
     "slide_type": "subslide"
    },
    "tags": []
   },
   "source": [
    "### Conditions.. in brief\n",
    "\n",
    "#### The ```if``` statement\n",
    "\n",
    "The if statement in Python is a powerful decision making statement and used to control the execution flow of your code. It allows to evaluate the **condition** first and then, depending on whether the value of the condition is ```True``` or ```False```, and transfers the control to a particular statement.\n",
    "\n",
    "**Conditions are the same thing as expressions** and always evaluate down to a Boolean value, ```True``` or ```False```."
   ]
  },
  {
   "cell_type": "code",
   "execution_count": 47,
   "metadata": {
    "editable": true,
    "slideshow": {
     "slide_type": "fragment"
    },
    "tags": []
   },
   "outputs": [
    {
     "name": "stdout",
     "output_type": "stream",
     "text": [
      "Good afternoon\n"
     ]
    }
   ],
   "source": [
    "time = 13.0  # From 0 to 24 hours\n",
    "\n",
    "if time > 6.0 and time < 12.0:\n",
    "    print(\"Good morning\")\n",
    "\n",
    "elif time >= 12.0 and time < 17.0:\n",
    "    print(\"Good afternoon\")\n",
    "\n",
    "elif time >= 17.0 and time < 22.0:\n",
    "    print(\"Good evening\")\n",
    "\n",
    "else:\n",
    "    print(\"Goodnight!\")"
   ]
  },
  {
   "cell_type": "markdown",
   "metadata": {
    "editable": false,
    "slideshow": {
     "slide_type": "subslide"
    },
    "tags": []
   },
   "source": [
    "### Loops.. in brief\n",
    "\n",
    "#### The ```for``` statement\n",
    "\n",
    "A ```for``` loop is used to iterate over sequences (e.g., lists, tuples, dictionaries, sets, or strings)."
   ]
  },
  {
   "cell_type": "code",
   "execution_count": 48,
   "metadata": {
    "editable": true,
    "slideshow": {
     "slide_type": "fragment"
    },
    "tags": []
   },
   "outputs": [
    {
     "name": "stdout",
     "output_type": "stream",
     "text": [
      "apple\n",
      "banana\n",
      "cherry\n",
      "---\n",
      "apple\n",
      "banana\n",
      "cherry\n"
     ]
    }
   ],
   "source": [
    "fruits = [\"apple\", \"banana\", \"cherry\"]\n",
    "\n",
    "for x in fruits:\n",
    "    print(x)\n",
    "\n",
    "print(\"---\")\n",
    "\n",
    "# Or by index\n",
    "for i in range(0, len(fruits)):\n",
    "    print(fruits[i])"
   ]
  },
  {
   "cell_type": "markdown",
   "metadata": {
    "editable": false,
    "slideshow": {
     "slide_type": "subslide"
    },
    "tags": []
   },
   "source": [
    "### Functions.. in brief\n",
    "\n",
    "A function is a block of code which can only runs when it is called. You can pass data, known as parameters, into a function. It can finally returns data as a result."
   ]
  },
  {
   "cell_type": "code",
   "execution_count": 49,
   "metadata": {
    "editable": true,
    "slideshow": {
     "slide_type": "fragment"
    },
    "tags": []
   },
   "outputs": [
    {
     "name": "stdout",
     "output_type": "stream",
     "text": [
      "Hello Fabio!\n"
     ]
    }
   ],
   "source": [
    "def hello(name):\n",
    "    print(f\"Hello {name}!\")\n",
    "\n",
    "hello(\"Fabio\")"
   ]
  },
  {
   "cell_type": "markdown",
   "metadata": {
    "editable": false,
    "slideshow": {
     "slide_type": "slide"
    },
    "tags": []
   },
   "source": [
    "## Hands-on #2\n",
    "\n",
    "A few simple excercises.."
   ]
  },
  {
   "cell_type": "markdown",
   "metadata": {
    "editable": false,
    "slideshow": {
     "slide_type": "subslide"
    },
    "tags": []
   },
   "source": [
    "- Write a Python program to print the following string using the same format.\n",
    "\n",
    "```text\n",
    "Twinkle, twinkle, little star,\n",
    "    How I wonder what you are!\n",
    "        Up above the world so high,\n",
    "        Like a diamond in the sky.\n",
    "Twinkle, twinkle, little star,\n",
    "    How I wonder what you are\n",
    "```"
   ]
  },
  {
   "cell_type": "code",
   "execution_count": 50,
   "metadata": {
    "editable": true,
    "slideshow": {
     "slide_type": "skip"
    },
    "tags": []
   },
   "outputs": [
    {
     "name": "stdout",
     "output_type": "stream",
     "text": [
      "Twinkle, twinkle, little star,\n",
      "    How i wonder what you are!\n",
      "        Up above the world so high,\n",
      "        Like a diamond in the sky.\n",
      "Twinkle, twinkle, little star,\n",
      "    How i wonder what you are\n",
      "\n"
     ]
    }
   ],
   "source": [
    "my_string = '''Twinkle, twinkle, little star,\n",
    "    How i wonder what you are!\n",
    "        Up above the world so high,\n",
    "        Like a diamond in the sky.\n",
    "Twinkle, twinkle, little star,\n",
    "    How i wonder what you are\n",
    "'''\n",
    "\n",
    "print(my_string)"
   ]
  },
  {
   "cell_type": "markdown",
   "metadata": {
    "editable": false,
    "slideshow": {
     "slide_type": "subslide"
    },
    "tags": []
   },
   "source": [
    "- Write a Python program to swap two variables.\n",
    "\n",
    "```text\n",
    "a = 2\n",
    "b = 3\n",
    "\n",
    "a = 3\n",
    "b = 2\n",
    "```"
   ]
  },
  {
   "cell_type": "code",
   "execution_count": 51,
   "metadata": {
    "editable": true,
    "slideshow": {
     "slide_type": "skip"
    },
    "tags": []
   },
   "outputs": [
    {
     "name": "stdout",
     "output_type": "stream",
     "text": [
      "3\n",
      "2\n"
     ]
    }
   ],
   "source": [
    "a = 2\n",
    "b = 3\n",
    "\n",
    "c = a\n",
    "a = b\n",
    "b = c\n",
    "\n",
    "print(a)\n",
    "print(b)"
   ]
  },
  {
   "cell_type": "markdown",
   "metadata": {
    "editable": false,
    "slideshow": {
     "slide_type": "subslide"
    },
    "tags": []
   },
   "source": [
    "- Write a Python function to test whether a number is between 100 and 200.\n",
    "\n",
    "```text\n",
    "8\n",
    "False\n",
    "\n",
    "120\n",
    "True\n",
    "```"
   ]
  },
  {
   "cell_type": "code",
   "execution_count": 52,
   "metadata": {
    "editable": true,
    "slideshow": {
     "slide_type": "skip"
    },
    "tags": []
   },
   "outputs": [
    {
     "name": "stdout",
     "output_type": "stream",
     "text": [
      "False\n",
      "True\n"
     ]
    }
   ],
   "source": [
    "def check_number(n):\n",
    "    if n >= 100 and n <= 200:\n",
    "        return True\n",
    "    return False\n",
    "\n",
    "print(check_number(8))\n",
    "print(check_number(120))"
   ]
  },
  {
   "cell_type": "markdown",
   "metadata": {
    "editable": false,
    "slideshow": {
     "slide_type": "subslide"
    },
    "tags": []
   },
   "source": [
    "- Write a Python program to count the number of odd numbers in the following list, excluding negative numbers and numbers above 6:\n",
    "\n",
    "```text\n",
    "[-4, -3, -2, -1, 0, 1, 2, 3, 4, 5, 6, 7, 8]\n",
    "```"
   ]
  },
  {
   "cell_type": "code",
   "execution_count": 53,
   "metadata": {
    "editable": true,
    "slideshow": {
     "slide_type": "skip"
    },
    "tags": []
   },
   "outputs": [
    {
     "name": "stdout",
     "output_type": "stream",
     "text": [
      "3\n"
     ]
    }
   ],
   "source": [
    "my_list = [-4, -3, -2, -1, 0, 1, 2, 3, 4, 5, 6, 7, 8]\n",
    "\n",
    "odd_numbers = 0\n",
    "\n",
    "for n in my_list:\n",
    "    if n >= 0 and n <= 6:\n",
    "        if n % 2 > 0:\n",
    "            odd_numbers += 1\n",
    "\n",
    "print(odd_numbers)"
   ]
  },
  {
   "cell_type": "markdown",
   "metadata": {
    "editable": false,
    "slideshow": {
     "slide_type": "subslide"
    },
    "tags": []
   },
   "source": [
    "- Write a Python function to report all the strings in a input list of strings that start with a specific character.\n",
    "\n",
    "```text\n",
    "[\"Fabio\", \"Jay\", \"Richard\", \"Rowan\"]\n",
    "\n",
    "Starts with \"R\"\n",
    "\n",
    "Richard\n",
    "Rowan\n",
    "```"
   ]
  },
  {
   "cell_type": "code",
   "execution_count": 54,
   "metadata": {
    "editable": true,
    "slideshow": {
     "slide_type": "skip"
    },
    "tags": []
   },
   "outputs": [
    {
     "name": "stdout",
     "output_type": "stream",
     "text": [
      "Richard\n",
      "Rowan\n"
     ]
    }
   ],
   "source": [
    "def all_starts_with(my_list, starts_with):\n",
    "    for x in my_list:\n",
    "        if x[0] == starts_with:\n",
    "            print(x)\n",
    "\n",
    "my_list = [\"Fabio\", \"Jay\", \"Richard\", \"Rowan\"]\n",
    "starts_with = \"R\"\n",
    "\n",
    "all_starts_with(my_list, starts_with)"
   ]
  },
  {
   "cell_type": "markdown",
   "metadata": {
    "editable": false,
    "slideshow": {
     "slide_type": "subslide"
    },
    "tags": []
   },
   "source": [
    "- Write a Python program to report the file extension of the following file path:\n",
    "\n",
    "```text\n",
    "/Users/Fabio/Documents/LRI-Python-Bootcamp/mycode.py\n",
    "\n",
    "py\n",
    "```"
   ]
  },
  {
   "cell_type": "code",
   "execution_count": 55,
   "metadata": {
    "editable": true,
    "slideshow": {
     "slide_type": "skip"
    },
    "tags": []
   },
   "outputs": [
    {
     "name": "stdout",
     "output_type": "stream",
     "text": [
      "py\n"
     ]
    }
   ],
   "source": [
    "file_path = \"/Users/Fabio/Documents/LRI-Python-Bootcamp/mycode.py\"\n",
    "\n",
    "print_char = False\n",
    "extension = \"\"\n",
    "\n",
    "for char in file_path:\n",
    "    if print_char:\n",
    "        extension += char\n",
    "    else:\n",
    "        if char == \".\":\n",
    "            print_char = True\n",
    "\n",
    "print(extension)"
   ]
  },
  {
   "cell_type": "markdown",
   "metadata": {
    "editable": false,
    "slideshow": {
     "slide_type": "subslide"
    },
    "tags": []
   },
   "source": [
    "- Write a Python function to reverse a string.\n",
    "\n",
    "```text\n",
    "Hello world!\n",
    "\n",
    "!dlrow olleH\n",
    "```"
   ]
  },
  {
   "cell_type": "code",
   "execution_count": 56,
   "metadata": {
    "editable": true,
    "slideshow": {
     "slide_type": "skip"
    },
    "tags": []
   },
   "outputs": [
    {
     "name": "stdout",
     "output_type": "stream",
     "text": [
      "!dlrow olleH\n"
     ]
    }
   ],
   "source": [
    "def reverse_string(my_string):\n",
    "    reversed = \"\"\n",
    "    for char in my_string:\n",
    "        reversed = char + reversed\n",
    "    return reversed\n",
    "\n",
    "my_string = \"Hello world!\"\n",
    "\n",
    "print(reverse_string(my_string))"
   ]
  },
  {
   "cell_type": "markdown",
   "metadata": {
    "editable": false,
    "slideshow": {
     "slide_type": "subslide"
    },
    "tags": []
   },
   "source": [
    "- Write a Python function that takes a sequence of numbers and determines whether all the numbers are different from each other.\n",
    "\n",
    "```text\n",
    "[1, 2, 3, 4, 5, 6, 7, 8]\n",
    "True\n",
    "\n",
    "[1, 2, 3, 1, 2, 1, 4, 5, 6, 7]\n",
    "False\n",
    "```"
   ]
  },
  {
   "cell_type": "code",
   "execution_count": 57,
   "metadata": {
    "editable": true,
    "slideshow": {
     "slide_type": "skip"
    },
    "tags": []
   },
   "outputs": [
    {
     "name": "stdout",
     "output_type": "stream",
     "text": [
      "True\n",
      "False\n"
     ]
    }
   ],
   "source": [
    "def unique_inefficient(my_list):\n",
    "    for n1 in my_list:\n",
    "        n_count = 0\n",
    "        for n2 in my_list:\n",
    "            if n1 == n2:\n",
    "                n_count += 1\n",
    "        if n_count > 1:\n",
    "            return False\n",
    "    return True\n",
    "\n",
    "def unique(my_list):\n",
    "    for i in range(0, len(my_list)):\n",
    "        for j in range(i, len(my_list)):\n",
    "            if i != j:\n",
    "                if my_list[i] == my_list[j]:\n",
    "                    return False\n",
    "    return True\n",
    "\n",
    "my_list = [1, 2, 3, 4, 5, 6, 7, 8]\n",
    "print(unique_inefficient(my_list))\n",
    "\n",
    "my_list = [1, 2, 3, 1, 2, 1, 4, 5, 6, 7]\n",
    "print(unique(my_list))"
   ]
  },
  {
   "cell_type": "markdown",
   "metadata": {
    "editable": false,
    "slideshow": {
     "slide_type": "subslide"
    },
    "tags": []
   },
   "source": [
    "- Write a Python function to report the histogram from a given list of integers.\n",
    "\n",
    "```text\n",
    "[1, 1, 2, 4, 1, 3, 4, 4, 3, 3, 3, 2, 1, 1, 1, 1]\n",
    "```"
   ]
  },
  {
   "cell_type": "code",
   "execution_count": 58,
   "metadata": {
    "editable": true,
    "slideshow": {
     "slide_type": "skip"
    },
    "tags": []
   },
   "outputs": [
    {
     "name": "stdout",
     "output_type": "stream",
     "text": [
      "{1: 7, 2: 2, 4: 3, 3: 4}\n"
     ]
    }
   ],
   "source": [
    "def histogram(my_list):\n",
    "    hist = dict()\n",
    "    for n in my_list:\n",
    "        if n not in hist:\n",
    "            hist[n] = 1\n",
    "        else:\n",
    "            hist[n] += 1\n",
    "    return hist\n",
    "\n",
    "my_list = [1, 1, 2, 4, 1, 3, 4, 4, 3, 3, 3, 2, 1, 1, 1, 1]\n",
    "\n",
    "print(histogram(my_list))"
   ]
  },
  {
   "cell_type": "markdown",
   "metadata": {
    "editable": false,
    "slideshow": {
     "slide_type": "subslide"
    },
    "tags": []
   },
   "source": [
    "- Write a Python function to test whether a given number is strobogrammatic.\n",
    "\n",
    "A number is strobogrammatic if it is rotationally symmetric, so that it appears the same when rotated by 180 degrees (e.g., 69, 96, 1001).\n",
    "\n",
    "```text\n",
    "69\n",
    "True\n",
    "\n",
    "818\n",
    "True\n",
    "\n",
    "414\n",
    "False\n",
    "\n",
    "969\n",
    "False\n",
    "\n",
    "689\n",
    "True\n",
    "```"
   ]
  },
  {
   "cell_type": "code",
   "execution_count": 59,
   "metadata": {
    "editable": true,
    "slideshow": {
     "slide_type": "skip"
    },
    "tags": []
   },
   "outputs": [
    {
     "name": "stdout",
     "output_type": "stream",
     "text": [
      "69: True\n",
      "818: True\n",
      "414: False\n",
      "969: False\n",
      "689: True\n"
     ]
    }
   ],
   "source": [
    "def strobogrammatic(n):\n",
    "    strobos = {0: 0, 1: 1, 6: 9, 8: 8, 9: 6}\n",
    "\n",
    "    n_string = str(n)\n",
    "\n",
    "    for i in range(0, len(n_string)):\n",
    "        i_int = int(n_string[i])\n",
    "        if i_int not in strobos:\n",
    "            return False\n",
    "        else:\n",
    "            if int(n_string[len(n_string)-i-1]) != strobos[i_int]:\n",
    "                return False\n",
    "\n",
    "    return True\n",
    "\n",
    "print(f\"69: {strobogrammatic(69)}\")\n",
    "print(f\"818: {strobogrammatic(818)}\")\n",
    "print(f\"414: {strobogrammatic(414)}\")\n",
    "print(f\"969: {strobogrammatic(969)}\")\n",
    "print(f\"689: {strobogrammatic(689)}\")"
   ]
  },
  {
   "cell_type": "markdown",
   "metadata": {
    "editable": false,
    "slideshow": {
     "slide_type": "subslide"
    },
    "tags": []
   },
   "source": [
    "- Write a Python function to check if every consecutive sequence of zeros is followed by a consecutive sequence of ones of same length in a given string. Return ```True```/```False```.\n",
    "\n",
    "```text\n",
    "01010101\n",
    "True\n",
    "\n",
    "00\n",
    "False\n",
    "\n",
    "000111000111\n",
    "True\n",
    "\n",
    "00011100111\n",
    "False\n",
    "```"
   ]
  },
  {
   "cell_type": "code",
   "execution_count": 60,
   "metadata": {
    "editable": true,
    "slideshow": {
     "slide_type": "skip"
    },
    "tags": []
   },
   "outputs": [
    {
     "name": "stdout",
     "output_type": "stream",
     "text": [
      "True\n",
      "False\n",
      "True\n",
      "False\n"
     ]
    }
   ],
   "source": [
    "def check_sequence(my_sequence):\n",
    "    if len(my_sequence) == 0:\n",
    "        return False\n",
    "\n",
    "    count_zero = 0\n",
    "    count_one = 0\n",
    "\n",
    "    for n in my_sequence:\n",
    "        if n == \"0\":\n",
    "            if count_one > 0:\n",
    "                if count_zero != count_one:\n",
    "                    return False\n",
    "                count_one = 0\n",
    "                count_zero = 0\n",
    "            count_zero += 1\n",
    "        elif n == \"1\":\n",
    "            if count_zero == 0:\n",
    "                return False\n",
    "            else:\n",
    "                count_one += 1\n",
    "\n",
    "    return count_zero == count_one\n",
    "\n",
    "my_sequence = \"01010101\"\n",
    "print(check_sequence(my_sequence))\n",
    "\n",
    "my_sequence = \"00\"\n",
    "print(check_sequence(my_sequence))\n",
    "\n",
    "my_sequence = \"000111000111\"\n",
    "print(check_sequence(my_sequence))\n",
    "\n",
    "my_sequence = \"00011100111\"\n",
    "print(check_sequence(my_sequence))"
   ]
  },
  {
   "cell_type": "markdown",
   "metadata": {
    "editable": false,
    "slideshow": {
     "slide_type": "slide"
    },
    "tags": []
   },
   "source": [
    "## That's enough for today..\n",
    "\n",
    "Data types, operators, expressions, conditions, loops, and functions will be covered deeply in the next sessions.\n",
    "\n",
    "See you in two weeks!\n",
    "\n",
    "Credits:\n",
    "- [SA Educational Hub](https://youtube.com/@saeducationalhub5697)\n",
    "- [W3School - Python Tutorial](https://www.w3schools.com/python/default.asp)\n",
    "- [Python Basic - Exercises, Practice, Solution](https://www.w3resource.com/python-exercises/python-basic-exercises.php)"
   ]
  }
 ],
 "metadata": {
  "kernelspec": {
   "display_name": "Python 3 (ipykernel)",
   "language": "python",
   "name": "python3"
  },
  "language_info": {
   "codemirror_mode": {
    "name": "ipython",
    "version": 3
   },
   "file_extension": ".py",
   "mimetype": "text/x-python",
   "name": "python",
   "nbconvert_exporter": "python",
   "pygments_lexer": "ipython3",
   "version": "3.10.12"
  }
 },
 "nbformat": 4,
 "nbformat_minor": 4
}
