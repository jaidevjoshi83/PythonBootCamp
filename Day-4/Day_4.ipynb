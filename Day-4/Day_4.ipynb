{
 "cells": [
  {
   "cell_type": "markdown",
   "id": "77365afb-3315-4905-828e-c20e1390c643",
   "metadata": {
    "slideshow": {
     "slide_type": "slide"
    }
   },
   "source": [
    "# LRI Python Bootcamp\n",
    "\n",
    "- github: [https://github.com/jaidevjoshi83/PythonBootCamp.git]\n",
    "\n",
    "**Workshop #4** - November 17th, 2023\n",
    "\n",
    "---\n",
    "\n",
    "Richard Lartey, PhD\n",
    "\n",
    "Research Associate, Biomedical Engineering Department, Lerner Research Institute, Cleveland Clinic\n",
    "\n",
    "- Email: [larteyr@ccf.org](mailto:larteyr@ccf.org?subject=LRI%20Python%20Bootcamp%202023)"
   ]
  },
  {
   "cell_type": "markdown",
   "id": "9b6936e0-0ac7-42e0-9eec-f5eb3d6f62c7",
   "metadata": {
    "slideshow": {
     "slide_type": "slide"
    }
   },
   "source": [
    "## Exploring Variables in Namespace\n",
    "\n",
    "To check the namespace variables in a workspace, you can use the `%whos` magic function in jupyterlab"
   ]
  },
  {
   "cell_type": "code",
   "execution_count": null,
   "id": "17cc0239-6968-476e-adb2-114b9ae86f97",
   "metadata": {
    "tags": []
   },
   "outputs": [],
   "source": [
    "%whos"
   ]
  },
  {
   "cell_type": "markdown",
   "id": "f1462c0b-f329-42cd-8234-d6e3a963caaf",
   "metadata": {},
   "source": [
    "The namespace is empty because we have not defined any modules, functions or objects. Let us start by defining some variables."
   ]
  },
  {
   "cell_type": "code",
   "execution_count": 15,
   "id": "f939c4db-624e-4c7d-bdf2-04d025a25867",
   "metadata": {
    "slideshow": {
     "slide_type": "slide"
    },
    "tags": []
   },
   "outputs": [],
   "source": [
    "import numpy as np   \n",
    "\n",
    "my_dict = dict()    # empty dictionary\n",
    "my_list = ['apple', 'bannana', 'cherry']"
   ]
  },
  {
   "cell_type": "code",
   "execution_count": null,
   "id": "81595672-5860-463c-a9ff-4ae06a091e3d",
   "metadata": {
    "slideshow": {
     "slide_type": "slide"
    },
    "tags": []
   },
   "outputs": [],
   "source": [
    "%whos     "
   ]
  },
  {
   "cell_type": "markdown",
   "id": "cbb46977-e730-498d-975f-c53ef38b0eb1",
   "metadata": {
    "slideshow": {
     "slide_type": "slide"
    }
   },
   "source": [
    "### Getting Help\n",
    "\n",
    "The `help()` function displays the documentation string (docstring) of the object you are calling it on.\n",
    "\n",
    "If the object doesn't have one or one that doesn't contain the information you're after, \n",
    "refer to the documentation of the module/function/object you are using.\n",
    "\n",
    "You can call the help function on variables in your namespace as follows:\n",
    "\n",
    "- module: `help(numpy)`\n",
    "- module.method:  `help(numpy.mean)`\n",
    "- function:   `help(print)`\n",
    "- object: `help(my_dict)` or `help(my_list)`\n",
    "- object.method `help(my_list.pop)`\n",
    "- object.property `help(numpy.pi)`\n",
    "- etc...\n",
    "\n",
    "The doucmentation helps you to know what methods/properties or functions to call on the module/type.\n",
    "\n",
    "This saves you time and effort as you do not need to re-invent something that already exists.\n",
    "\n",
    "If the module/function/object is not in the variable namespace, you get a `NameError`. \n"
   ]
  },
  {
   "cell_type": "code",
   "execution_count": null,
   "id": "bf61613c-9e41-45c7-b29c-2c5608935769",
   "metadata": {
    "slideshow": {
     "slide_type": "slide"
    },
    "tags": []
   },
   "outputs": [],
   "source": [
    "help(my_dict)      # docstring of the object with information about methods and functions"
   ]
  },
  {
   "cell_type": "code",
   "execution_count": null,
   "id": "7081f38f-b230-4fbc-8faa-28146a7137dc",
   "metadata": {
    "tags": []
   },
   "outputs": [],
   "source": [
    "# Examples to try\n",
    "help(np.pi)\n",
    "help(my_list.pop)\n",
    "help(my_list.insert)"
   ]
  },
  {
   "cell_type": "markdown",
   "id": "4ea33a95-bbea-45a4-b36d-48098444047a",
   "metadata": {
    "slideshow": {
     "slide_type": "slide"
    },
    "tags": []
   },
   "source": [
    "You can get contextual (in-context) help using `?` before of after the module/function/object you are using. \n",
    "\n",
    "Alternatively, you can view contextual help in JupyterLab from the `Tabs`: `Help > Show Contextual Help`. \n",
    "\n",
    "Click on variable to see docstring."
   ]
  },
  {
   "cell_type": "code",
   "execution_count": null,
   "id": "43f45788-a9d9-4018-a628-99075e600495",
   "metadata": {
    "slideshow": {
     "slide_type": "slide"
    },
    "tags": []
   },
   "outputs": [],
   "source": [
    "my_dict?           # contextual help of the object (limited docstring)"
   ]
  },
  {
   "cell_type": "code",
   "execution_count": null,
   "id": "487ec554-d72c-40de-956c-646d6c419624",
   "metadata": {
    "tags": []
   },
   "outputs": [],
   "source": [
    "# Example to try\n",
    "?my_list\n",
    "?np.pi\n",
    "?my_list.pop"
   ]
  },
  {
   "cell_type": "markdown",
   "id": "c8c39303-c6d4-41d0-82d6-05325713c045",
   "metadata": {
    "slideshow": {
     "slide_type": "slide"
    }
   },
   "source": [
    "## Logical and Physical Lines\n",
    "\n",
    "A physical line is the statement you see when you write a program.\n",
    "\n",
    "A logical line refers to what is parsed by the python interpreter. \n",
    "\n",
    "A logical line is constructed from one or more physical lines. \n",
    "\n",
    "Python implicitly assumes that each physical line corresponds to a logical line."
   ]
  },
  {
   "cell_type": "code",
   "execution_count": null,
   "id": "e7fc02eb-c9a9-4fe0-8d9e-87b44c3fb1a1",
   "metadata": {
    "slideshow": {
     "slide_type": "slide"
    },
    "tags": []
   },
   "outputs": [],
   "source": [
    "# one logical and physical line\n",
    "list_1 = ['apple', 'bannana', 'cherry']"
   ]
  },
  {
   "cell_type": "markdown",
   "id": "e7a78ecf-a827-41fe-862b-d12596cea0a8",
   "metadata": {},
   "source": [
    "The use of a single physical line per logical line makes for more readable code. \n",
    "\n",
    "For a long logical line, we can use the backslash (`\\`) character to explicitly join each physical line. \n",
    "\n",
    "Writing a logical line spanning many physical lines with a backslash is referred to as explicit line joining. \n",
    "\n",
    "In cases where the the logical line uses parentheses, square brackets or curly braces, you don't need to use a backslash. This is refered to as implicit line joining."
   ]
  },
  {
   "cell_type": "code",
   "execution_count": null,
   "id": "6e108631-fa1e-4164-8cb7-ebc24cf658ad",
   "metadata": {
    "slideshow": {
     "slide_type": "slide"
    },
    "tags": []
   },
   "outputs": [],
   "source": [
    "# one logical line on five physical line (implicit line joining)\n",
    "list_1 = [\n",
    "    'apple', \n",
    "    'bannana', \n",
    "    'cherry',\n",
    "]\n",
    "\n",
    "# one logical line on three physical line (explicit line joining)\n",
    "string_1 = 'This string \\\n",
    "spans multiple \\\n",
    "lines'"
   ]
  },
  {
   "cell_type": "code",
   "execution_count": null,
   "id": "4c027820-0546-4d4b-8568-bdac98edf6cd",
   "metadata": {
    "tags": []
   },
   "outputs": [],
   "source": [
    "# print(string_1)"
   ]
  },
  {
   "cell_type": "markdown",
   "id": "ee8cca4d-6f75-4220-a040-cb43d0b73b8d",
   "metadata": {
    "slideshow": {
     "slide_type": "slide"
    }
   },
   "source": [
    "To specify more than one logical line on a single physical line, use the semicolon (`;`) to explicitly indicate the end of a logical statement"
   ]
  },
  {
   "cell_type": "code",
   "execution_count": null,
   "id": "a2f2187c-28ee-4965-90df-f2d5197134cb",
   "metadata": {
    "tags": []
   },
   "outputs": [],
   "source": [
    "# two logical lines on one physical line\n",
    "x = 500; print(x)"
   ]
  },
  {
   "cell_type": "markdown",
   "id": "289ad1db-6bec-4166-8db1-1565a0d6a42e",
   "metadata": {
    "slideshow": {
     "slide_type": "slide"
    }
   },
   "source": [
    "## Operators and Expressions\n",
    "\n",
    "`Operators` are special symbols that represent computations. The values or variables the operator is applied to are called *operands*. \n",
    "\n",
    "There are two general classes of operators:\n",
    " \n",
    " - _binary operators_: two operands for the operation, eg. `a-b` with the `minus` operator and operands `a` and `b`.\n",
    " \n",
    " - _unary operators_: single operand eg, `-a` with the `minus` operator and a single operand, `a`.\n",
    "\n",
    "An `expression` is a combination of operators and operands interperated to produce a value. Values and variables by themselves are\n",
    "considered expressions. \n",
    "\n",
    "\n",
    "The order of precedence of the operators determines how the an expression is evaluated.\n",
    "\n",
    "```python\n",
    "p = 5 * 3 + 2\n",
    "print(p)\n",
    "```\n",
    "\n",
    "A `statement` is a unit of code the Python interpreter can execute. e.g the print statement\n",
    "```python\n",
    "print(5)\n",
    "```\n",
    "\n",
    "A `scipt` contains a sequence of statements executed one at time. "
   ]
  },
  {
   "cell_type": "markdown",
   "id": "215db7aa-848a-4bd2-964e-459c81a078a1",
   "metadata": {
    "slideshow": {
     "slide_type": "slide"
    }
   },
   "source": [
    "### Arithmetic Operators and Precedence\n",
    "\n",
    "The rules of precedence determind the order of evaluation when more then one operator appears in an expression.\n",
    "\n",
    "| Operator  | Function   | Example  \n",
    "| --------- | -----------| ---------|\n",
    "| `+`   | Addition       | `a + b`  |\n",
    "| `-`   | Subtraction    | `a - b`  |\n",
    "| `*`   | Multiplication | `a * b`  |\n",
    "| `/`   | Division       | `a / b`  |\n",
    "| `//`  | Modulo division/Quotient       | `a // b` |\n",
    "| `%`   | Floor division/Remainder      | `a & b`  |\n",
    "| `**`  | Power/Exponentiation | `a ** b` |"
   ]
  },
  {
   "cell_type": "markdown",
   "id": "30afe3d5-5556-4616-9b98-fe7a05030a5f",
   "metadata": {
    "slideshow": {
     "slide_type": "slide"
    }
   },
   "source": [
    "Python follows the *PEMDAS* mathematical convension.\n",
    "\n",
    "- **P**arentheses: used to force the expression to evaluate in the order you want\n",
    "    Makes it easier to read the code. highest precedence\n",
    "```python\n",
    "x = 2 * (3 - 1)\n",
    "y = (5 + 3) ** (4-1)\n",
    "```\n",
    "\n",
    "- **E**xponentiation: next highest precedence\n",
    "```python\n",
    "x = 2 ** 1 + 1   # 3 or 4?\n",
    "y = 3 * 1 ** 2   # 3 or 9?\n",
    "```\n",
    "\n",
    "- **M**ultiplication and **D**ivision: same precedence. Operators with the same precedence are evaluated from left to right (in the absence of exponentiation)\n",
    "```python\n",
    "x = 2 * 5 - 2   # 6 or 8?\n",
    "y = 6 + 6 / 2   # 6 or 9?\n",
    "z = y / 2 * x   # division happens before multiplication\n",
    "```\n",
    "\n",
    "- **A**ddition\n",
    "\n",
    " - **S**ubtraction"
   ]
  },
  {
   "cell_type": "markdown",
   "id": "ef3d2b48-588a-4857-8774-7855ef4496f8",
   "metadata": {},
   "source": [
    "### Comparison Operators\n",
    "\n",
    "Comparison/relational operators, compare two values. The result is boolean, either `True` or `False`.\n",
    "\n",
    "| Operator | Meaning                  | Example  |\n",
    "| -------- | ------------------------ | -------- |\n",
    "| `<`      | Less than                | `a < b`  |\n",
    "| `<=`     | Less than or equal to    | `a <= b` |\n",
    "| `>`      | Greater than             | `a > b`  |\n",
    "| `>=`     | Greater than or equal to | `a >= b` |\n",
    "| `==`     | Equal to                 | `a == b` |\n",
    "| `!=`     | Not equal to             | `a != b` |"
   ]
  },
  {
   "cell_type": "code",
   "execution_count": null,
   "id": "f268b2bd-5184-40da-a5e5-1c36599e5349",
   "metadata": {},
   "outputs": [],
   "source": [
    "x = 60\n",
    "y = 23\n",
    "print(x != y)\n",
    "print(x > y)\n",
    "print(x < y)\n",
    "print(x >= y)\n",
    "print(x <= y)"
   ]
  },
  {
   "cell_type": "markdown",
   "id": "54ab0a2d-bedd-4eba-b667-73955b6e11f8",
   "metadata": {},
   "source": [
    "### Logical Operators\n",
    "\n",
    "The three logical/boolean operators are `and`, `or` and `not`. The produce either `True` or `False` when used in an expression. \n",
    "\n",
    "See the examples below using operands `p` and `q`.\n",
    "\n",
    "- `and`: Evaluates to True if and only if both operands are True\n",
    "\n",
    "| p     |  q     | `p and q`|\n",
    "|-------|------- |--------  |\n",
    "|`True` | `True` | `True`   |\n",
    "|`True` |`False` | `False`  |\n",
    "|`False`| `True` | `False`  |\n",
    "|`Fasle`|`False` | `False`  |\n",
    "\n",
    "- `or`: Evaluates to True if either one of the operands is True\n",
    "\n",
    "| p     |  q     | `p or q`|\n",
    "|-------|------- |-------- |\n",
    "|`True` | `True` | `True`  |\n",
    "|`True` |`False` | `True`  |\n",
    "|`False`| `True` | `True`  |\n",
    "|`Fasle`|`False` | `False` |\n",
    "\n",
    "- `not` : Evaluates the boolean complement of the value in the expression (unary)\n",
    "\n",
    "|  p     | `not p`|\n",
    "|------- |--------|\n",
    "| `True` | `False`|\n",
    "|`False` | `True` |\n"
   ]
  },
  {
   "cell_type": "markdown",
   "id": "93e8ba61-85c3-47bf-a2d0-8a171dff34ac",
   "metadata": {
    "slideshow": {
     "slide_type": "subslide"
    },
    "tags": []
   },
   "source": [
    "The ```not``` operator is a unary operator. It operates on only one Boolean value or expression.\n",
    "\n",
    "It simply evaluates to the opposite Boolean value, changing a ```True``` value to ```False``` and a ```False``` value to ```True```.\n",
    "\n",
    "| Expression      | Result      |\n",
    "| --------------- | ----------- |\n",
    "| ```not True```  | ```False``` |\n",
    "| ```not False``` | ```True```  |"
   ]
  },
  {
   "cell_type": "markdown",
   "id": "d6774af9-6666-4b7a-9b5b-5eaaa7edd8eb",
   "metadata": {
    "slideshow": {
     "slide_type": "slide"
    }
   },
   "source": [
    "### String Operators\n",
    "\n",
    "Mathematical operations are not allowed on strings in general. The examples below are not valid\n",
    "```python\n",
    "a = 'one'/ 'two'\n",
    "b = '2' - '5'  # Not valid even when strings look  like numbers\n",
    "c = 'monday' * 'friday'\n",
    "```\n",
    "\n",
    "These all reurn a `TypeError` when executed. However there are analogs for the `+` and `*` operator using strings. \n",
    "\n",
    "The `+` operator can be used to __concatenate/join__ strings."
   ]
  },
  {
   "cell_type": "code",
   "execution_count": null,
   "id": "6df0b6f0-3cac-4744-b968-77ada82721f3",
   "metadata": {
    "slideshow": {
     "slide_type": "slide"
    }
   },
   "outputs": [],
   "source": [
    "first_name = 'John'\n",
    "last_name = 'Doe'\n",
    "name = first_name + last_name\n",
    "print(name)"
   ]
  },
  {
   "cell_type": "markdown",
   "id": "e48a0629-93d0-47da-b3d1-f3a7e7224044",
   "metadata": {
    "slideshow": {
     "slide_type": "slide"
    }
   },
   "source": [
    "The `*` operator can be used for __repetition__ of a sting. In the example below `s1` and `s2` yield the same result."
   ]
  },
  {
   "cell_type": "code",
   "execution_count": null,
   "id": "5b64fea7-c806-4802-8aeb-c8b74a458569",
   "metadata": {
    "slideshow": {
     "slide_type": "slide"
    },
    "tags": []
   },
   "outputs": [],
   "source": [
    "s = 'Spam'\n",
    "s1 = s * 5\n",
    "s2 = s + s + s + s +s\n",
    "print(s1)\n",
    "print(s2)"
   ]
  },
  {
   "cell_type": "markdown",
   "id": "0f978ed8-1fae-4053-ac1e-51e2eb2a88ce",
   "metadata": {},
   "source": [
    "Strings can be compared alphabetically over correspoinding characters using the relational operators. \n",
    "\n",
    "We can also check if a substring is in a sting using the `in` operator."
   ]
  },
  {
   "cell_type": "code",
   "execution_count": null,
   "id": "17c72882-3750-4d56-a6ba-7d0c1661cc3e",
   "metadata": {},
   "outputs": [],
   "source": [
    "print('X' < 'x')\n",
    "\n",
    "my_string = 'We are meeting today.'\n",
    "print('today' in my_string)"
   ]
  },
  {
   "cell_type": "code",
   "execution_count": 21,
   "id": "1c8d09c1-15e5-48a0-a97d-e0eb03914c1c",
   "metadata": {
    "tags": []
   },
   "outputs": [
    {
     "name": "stdin",
     "output_type": "stream",
     "text": [
      "Enter a pH level:  5.0\n"
     ]
    },
    {
     "name": "stdout",
     "output_type": "stream",
     "text": [
      "5.0 is acidic.\n"
     ]
    }
   ],
   "source": [
    "# Example: Using an expression with a condition\n",
    "\n",
    "pH_string = input('Enter a pH level: ')   # Request input from user\n",
    "pH_value = float(pH_string)               # Make we have a valid number\n",
    "\n",
    "if pH_value < 7.0:\n",
    "    print(f\"{pH_value} is acidic.\")\n",
    "elif pH_value == 7.0:\n",
    "    print(f\"{pH_value} is neutral.\")\n",
    "else:\n",
    "    print(f\"{pH_value} is a acidic.\")\n"
   ]
  },
  {
   "cell_type": "markdown",
   "id": "b3bcb5c2-6101-4fc4-908d-32d818a2dbfe",
   "metadata": {},
   "source": [
    "### Multiple Oerpators in an Expression\n",
    "\n",
    "When combining operators in a single expression, the following rules apply:\n",
    "\n",
    "- Arithmetic operators have higher precedence over relational operators\n",
    "\n",
    "- Relational operators have the next higher precedence than boolean operators. i.e comparisons are evaluated before `and`, `or`, and `not`.\n",
    "\n",
    "- All relational operators have the same precedence. Operators with the same precedence are evaluated from left to right.\n",
    "\n",
    "Remeber to use parentheses to to make complicated expressions readable.\n"
   ]
  },
  {
   "cell_type": "code",
   "execution_count": null,
   "id": "0cff53b7-3b33-4a44-b58a-4480a73f2b8a",
   "metadata": {},
   "outputs": [],
   "source": []
  },
  {
   "cell_type": "markdown",
   "id": "a08db049-3f9f-4a3a-b8cc-1a665f22ba4a",
   "metadata": {
    "slideshow": {
     "slide_type": "slide"
    }
   },
   "source": [
    "**Exercise 1: Using Expressions**\n",
    "---\n",
    "\n",
    "1. Using boolean variables full and empty\n",
    "\n",
    "    a. Write an expression that produces True if and only if both variables are True. Assign the expression to the variable `result`. What is the output of `print(result)`?\n",
    "    \n",
    "    b. Similarly, Write and expression that produces True if at least one of the variables is True\n",
    "\n",
    "2. The variable `population` refers to a `float` value. Write an if statement that will print the population if it is less than 20 million. Print nothing otherwise.\n",
    "\n",
    "\n",
    "3. Edit the pH example to print the correct category given an inuput. Using the PH categories below\n",
    "\n",
    "|  pH    | Category |\n",
    "|------- |--------|\n",
    "| 0-4 | Strong acid |\n",
    "| 5-6 | Weak acid |\n",
    "| 7   | Neutral |\n",
    "| 8-9 | Weaj base |\n",
    "| 10-14 | Strong base |\n",
    "\n",
    "\n"
   ]
  },
  {
   "cell_type": "markdown",
   "id": "bb901b8f-d664-41b6-84b9-af12d874eaee",
   "metadata": {
    "tags": []
   },
   "source": [
    "## Objects"
   ]
  },
  {
   "cell_type": "markdown",
   "id": "064fbcc9-dcf8-4aa5-a97a-2d30e46ddb99",
   "metadata": {
    "slideshow": {
     "slide_type": "slide"
    }
   },
   "source": [
    "Python is an object-oreiented programming language. We do object-oriented programming all the time (almost everything in Python is an object).\n",
    "\n",
    "The term is usually reserved when dealing with classes different from Python's build-in types (`int`, `float`, `str`, `list`, `tuple`, `dict`).\n",
    "\n",
    "We can create user-defined types with classes. \n",
    "\n",
    "An object is an instance of a `class` i.e a copy of the class with defined values. Objects have methods and properties/attributes.\n",
    "\n",
    "Methods are functions attached to a given class. They provide actions that the object performs with its internal data and attributes.\n",
    "\n",
    "Properties or attributes are variables used to access and mutate the inernal state of an object.\n",
    "\n",
    "A class definition looks like this:\n",
    "```python\n",
    "class Circle:\n",
    "    pass\n",
    "```\n",
    "\n",
    "```python\n",
    "class Circle():\n",
    "    pass\n",
    "```\n",
    "\n",
    "```python\n",
    "class Circle(object):\n",
    "    pass\n",
    "```\n",
    "\n",
    "The pass statement allows us to define an empty class with no context without getting an error.\n",
    "\n",
    "The three definitions above are equivalent.\n",
    "\n",
    "Usually class definitions appear after the `import` statements. However, they can appear anywhere in a program."
   ]
  },
  {
   "cell_type": "markdown",
   "id": "43a83794-eaeb-4099-8752-7e8065e3dec3",
   "metadata": {
    "slideshow": {
     "slide_type": "slide"
    }
   },
   "source": [
    "### Attributes and Methods\n",
    "The dot notation isused to add data to an instance of class. \n",
    "\n",
    "This syntax is similar to selecting a variable from a module such as \n",
    "\n",
    "```python\n",
    "import math\n",
    "\n",
    "print(math.pi)\n",
    "```"
   ]
  },
  {
   "cell_type": "code",
   "execution_count": null,
   "id": "2e911fe8-8ab5-4e2d-853b-e83e007ba95a",
   "metadata": {
    "tags": []
   },
   "outputs": [],
   "source": [
    "# Example 1\n",
    "class Point:\n",
    "    pass\n",
    "\n",
    "blank_point = Point() # an instance of the new type (Point)\n",
    "blank_point.x = 6.0   \n",
    "blank_point.y = 12.0"
   ]
  },
  {
   "cell_type": "markdown",
   "id": "b6df512d-200f-4305-bd76-203f05c9a13d",
   "metadata": {
    "slideshow": {
     "slide_type": "slide"
    }
   },
   "source": [
    "The named items `x` and `y` are called *attributes* of the Point object.\n",
    "\n",
    "The value of an attribute can be read with the same syntax\n",
    "\n",
    "```python\n",
    "x = blank_point.x\n",
    "print(x)\n",
    "```\n",
    "\n",
    "We can change the state of an object by making an assingment to on of its attributes i.e. objects are mutable.\n",
    "\n",
    "We can also add functions that act upon the data of the class instance. \n",
    "\n",
    "These functions are called *methods* of the class. Methods can be defined with or without arguments.\n",
    "\n",
    "The syntax is similar to selecting a function from a module or built-in object as follows:\n",
    "```python\n",
    "# example using a built-in type\n",
    "my_string = 'this'\n",
    "upper_string = my_string.upper()\n",
    "```\n",
    "\n",
    "```python\n",
    "# example using module\n",
    "import numpy as np\n",
    "\n",
    "values = range(50)\n",
    "average = np.mean(values)  \n",
    "```\n",
    "\n",
    "Let us look as some more examples"
   ]
  },
  {
   "cell_type": "code",
   "execution_count": null,
   "id": "bdf786d8-b35b-4559-9449-3dad3d55519e",
   "metadata": {
    "slideshow": {
     "slide_type": "slide"
    },
    "tags": []
   },
   "outputs": [],
   "source": [
    "# Example 2\n",
    "class Circle(object):\n",
    "    '''A two-dimensional circle object with attributes \n",
    "        radius, and center\n",
    "    '''\n",
    "    # Class variables\n",
    "    radius = 5\n",
    "    center = (0, 0) "
   ]
  },
  {
   "cell_type": "markdown",
   "id": "5e0a6deb-c518-476a-87da-4ae733397374",
   "metadata": {},
   "source": [
    "**Exercise 2**\n",
    "---\n",
    "\n",
    "1. Create an instance of a circle object using the user-defined type\n",
    "2. print the following attributes `radius`, `center` using the instance from `1.`"
   ]
  },
  {
   "cell_type": "code",
   "execution_count": null,
   "id": "a95a6327-f96d-4a27-a662-fd76c7351c5b",
   "metadata": {
    "tags": []
   },
   "outputs": [],
   "source": [
    "# Solution\n"
   ]
  },
  {
   "cell_type": "markdown",
   "id": "ac68a904-1768-4fd5-b78c-230cb066e9cc",
   "metadata": {
    "slideshow": {
     "slide_type": "slide"
    }
   },
   "source": [
    "There can be multiple instances of the sample class. \n",
    "\n",
    "Each instance points to a unique identifier. It does not matter if the data is the same.\n",
    "\n",
    "The instances will refer to the same object if we assign one to the other."
   ]
  },
  {
   "cell_type": "code",
   "execution_count": null,
   "id": "a2ea5d00-db31-4ab2-bf3b-d1d8bec735be",
   "metadata": {
    "slideshow": {
     "slide_type": "slide"
    },
    "tags": []
   },
   "outputs": [],
   "source": [
    "# Creating another instances yields another copy of the circle object\n",
    "circle_1 = Circle()\n",
    "circle_2 = Circle()\n",
    "circle_1 is circle_2"
   ]
  },
  {
   "cell_type": "code",
   "execution_count": null,
   "id": "95735c64-dc97-4563-95fc-b15299954724",
   "metadata": {
    "tags": []
   },
   "outputs": [],
   "source": [
    "# assigning on instance to another\n",
    "circle_2 = circle_1\n",
    "circle_1 is circle_2"
   ]
  },
  {
   "cell_type": "markdown",
   "id": "d637bdf6-d90f-416e-a77c-94f9c2cbbce6",
   "metadata": {
    "slideshow": {
     "slide_type": "slide"
    }
   },
   "source": [
    "Pay close attention to the assignmetn above. Changes to one object unexpectedly affects the other object. \n",
    "\n",
    "Here the unique identifier (memory address) of the two objects are the same. This is known as shallow copying.\n",
    "\n",
    "```python\n",
    "# Try\n",
    "print(circle_1)\n",
    "print(circle_2)\n",
    "```\n",
    "\n",
    "To avoid unexpectedly making changes when we change a copy, we can use the `copy` module to make a deep copy of the object.\n",
    "\n",
    "This copies the object and any embedded objects in them.\n",
    "\n",
    "```python\n",
    "# Try\n",
    "import copy\n",
    "\n",
    "circle_2 = copy.deepcopy(circle_1)\n",
    "print(circle_1)\n",
    "print(circle_2)\n",
    "\n",
    "```\n",
    "\n",
    "This copies all the contents of one object into another object with a differnt identifier.\n"
   ]
  },
  {
   "cell_type": "markdown",
   "id": "a145eb41-9884-4f1a-901b-af28c3db9da9",
   "metadata": {},
   "source": [
    "What do we do if we need to define non-constant attributes?\n",
    "\n",
    "Using the built-in `__init__()` function, we can assign values to the attributes of the object when an instance is created."
   ]
  },
  {
   "cell_type": "code",
   "execution_count": null,
   "id": "4660e3cd-78a6-4d1e-a34d-5b3ebe43b7ab",
   "metadata": {
    "slideshow": {
     "slide_type": "slide"
    },
    "tags": []
   },
   "outputs": [],
   "source": [
    "# Example 3\n",
    "class Circle(object):\n",
    "    # constructor to add instance variables\n",
    "    def __init__(self, radius, center):\n",
    "        '''Initialization method, called when we\n",
    "           create a Circle. Takes two required arguments\n",
    "           radius, and center.\n",
    "        '''\n",
    "        # Instance variables\n",
    "        self.radius = radius\n",
    "        self.center = center\n",
    "        \n",
    "# circle_3 = Circle()    # raises a TypeError\n",
    "circle_3 = Circle(5, (1, 2))\n",
    "        "
   ]
  },
  {
   "cell_type": "markdown",
   "id": "a54b20c6-fa9c-40fd-b065-1ae002f31147",
   "metadata": {
    "slideshow": {
     "slide_type": "slide"
    }
   },
   "source": [
    "Here the built-in keyword `self` is used as a reference for the current instace of the class.\n",
    "\n",
    "It is used to access the attributes/methods that belong to the class.\n",
    "\n",
    "Any defined method of the class follows the syntax  ```def method_name(self, other_arguments)```"
   ]
  },
  {
   "cell_type": "code",
   "execution_count": null,
   "id": "239cdaa1-e224-4f5d-a061-de457f040c9f",
   "metadata": {
    "tags": []
   },
   "outputs": [],
   "source": [
    "# Example 4\n",
    "class Circle(object):\n",
    "    def __init__(self, radius=5.0, center=(3,3)):\n",
    "        '''Initializes a Circle object with default arguments specified\n",
    "           using key value pairs\n",
    "        '''        \n",
    "        self.radius = radius\n",
    "        self.center = center\n",
    "\n",
    "        \n",
    "# without using keywords the oder is assigned as defined        \n",
    "circle_3 = Circle(5, (1, 2))\n",
    "\n",
    "# the keyword arguments can be specified in any order\n",
    "circle_3 = Circle(radius=5, center=(1, 2))\n",
    "circle_4 = Circle(center=(3, 4), radius=2)"
   ]
  },
  {
   "cell_type": "markdown",
   "id": "dce287e2-7e60-455a-b2fa-2e120898f05d",
   "metadata": {
    "jupyter": {
     "outputs_hidden": true
    },
    "slideshow": {
     "slide_type": "slide"
    },
    "tags": []
   },
   "source": [
    "What happens when we execute:\n",
    "```python\n",
    "print(circle_3)\n",
    "```"
   ]
  },
  {
   "cell_type": "markdown",
   "id": "5c98efbc-284a-4366-ab7a-e1723b7f0c1b",
   "metadata": {},
   "source": [
    "Notice that the ouput of `print(circle_3)` returns a unique identifier to the object and not a readable ouput.\n",
    "\n",
    "We can use the `__str__()` function to control what is returned when the class object is reprented as a string."
   ]
  },
  {
   "cell_type": "code",
   "execution_count": null,
   "id": "a4a46067-10ff-4573-a493-51df2ed052db",
   "metadata": {
    "tags": []
   },
   "outputs": [],
   "source": [
    "# Example 3\n",
    "class Circle():\n",
    "    '''Return a 2-dimensional circle object\n",
    "    '''\n",
    "    def __init__(self, radius=5, center=(3,3)):\n",
    "        '''Initializes a Circle object with default arguments specified\n",
    "           using key value pairs\n",
    "        '''           \n",
    "        self.radius = radius\n",
    "        self.center = center\n",
    "    \n",
    "    def __str__(self):\n",
    "        '''Control what is returned when the print function is \n",
    "           called on the object\n",
    "        '''                 \n",
    "        return f\"2D Circle with radius {self.radius} and center {self.center}\"\n",
    "\n",
    "circle_3 = Circle()\n",
    "print(circle_3)"
   ]
  },
  {
   "cell_type": "markdown",
   "id": "d4987969-02fc-427f-8773-06c5cfef6cd6",
   "metadata": {
    "jupyter": {
     "outputs_hidden": true
    }
   },
   "source": [
    "Next we add a method to get the distance of any point from the center of the circle."
   ]
  },
  {
   "cell_type": "code",
   "execution_count": null,
   "id": "749abd59-94cf-4742-9a82-240024483803",
   "metadata": {
    "slideshow": {
     "slide_type": "slide"
    },
    "tags": []
   },
   "outputs": [],
   "source": [
    "# Example 3\n",
    "import math \n",
    "\n",
    "class Circle:\n",
    "    '''Returns a 2-dimensional circle object\n",
    "    '''\n",
    "    \n",
    "    def __init__(self, radius=1, center=(0,0)):\n",
    "        '''Initializes a Circle object with default arguments specified\n",
    "           using key value pairs\n",
    "        \n",
    "        Parameters\n",
    "        ----------\n",
    "        radius : float, default=1\n",
    "        center : tuple, default=(0,0)\n",
    "        '''         \n",
    "        self.radius = radius\n",
    "        self.center = center\n",
    "    \n",
    "    def __str__(self):\n",
    "        '''Control what is returned when the print function is \n",
    "           called on the object\n",
    "        '''                 \n",
    "        return f\"2D Circle with radius {self.radius} and center {self.center}\"\n",
    "    \n",
    "    # instance method\n",
    "    def distance_from_center(self, point_2d=(0,0)):\n",
    "        '''Returns the distance between point_2d and the center\n",
    "           of the circle object\n",
    "        '''                         \n",
    "        c_x, c_y = self.center\n",
    "        p_x, p_y = point_2d\n",
    "        d = math.sqrt((c_x - p_x)**2 + (c_y - p_y)**2)\n",
    "        return d\n",
    "        \n",
    "\n",
    "circle_5 = Circle(5, (0,0))\n",
    "my_point = (3,3)\n",
    "print(circle_5.distance_from_center(my_point))\n",
    "print(circle_5.radius)"
   ]
  },
  {
   "cell_type": "code",
   "execution_count": null,
   "id": "78a64c4f-73c9-445b-a5ef-6b3e19eba178",
   "metadata": {
    "slideshow": {
     "slide_type": "slide"
    },
    "tags": []
   },
   "outputs": [],
   "source": [
    "# Example 4: Protecting some attributes from the user\n",
    "import math \n",
    "\n",
    "class Circle:\n",
    "    '''Returns a 2-dimensional circle object\n",
    "    '''\n",
    "    \n",
    "    def __init__(self, radius=1, center=(0,0)):\n",
    "        '''Initializes a Circle object with default arguments specified\n",
    "           using key value pairs\n",
    "        \n",
    "        Parameters\n",
    "        ----------\n",
    "        radius : float, default=1\n",
    "        center : tuple, default=(0,0)\n",
    "        '''          \n",
    "        # using the double underscore before the variable hides\n",
    "        # the variable from use outside the class definition\n",
    "        self.__radius = radius\n",
    "        self.__center = center\n",
    "    \n",
    "    def __str__(self):\n",
    "        '''Control what is returned when the print function is \n",
    "           called on the object\n",
    "        '''                 \n",
    "        return f\"2D Circle with radius {self.__radius} and center {self.__center}\"\n",
    "    \n",
    "    # retrieve protected instance variables\n",
    "    def getradius(self):\n",
    "        return self.__radius\n",
    "    \n",
    "    def getcenter(self):\n",
    "        return self.__center\n",
    "    \n",
    "    # add/edit an instance variables\n",
    "    def setradius(self, radius):\n",
    "        self.__radius = radius\n",
    "        \n",
    "    def setcenter(self, center):\n",
    "        self.__center = center        \n",
    "    \n",
    "    # instance method\n",
    "    def distance_from_center(self, point_2d=(0,0)):\n",
    "        '''Returns the distance between point_2d and the center\n",
    "           of the circle object\n",
    "        '''                         \n",
    "        c_x, c_y = self.__center\n",
    "        p_x, p_y = point_2d\n",
    "        d = math.sqrt((c_x - p_x)**2 + (c_y - p_y)**2)\n",
    "        return d\n",
    "        \n",
    "\n",
    "circle_5 = Circle(5, (0,0))\n",
    "my_point = (3,3)\n",
    "print(circle_5.distance_from_center(my_point))"
   ]
  },
  {
   "cell_type": "markdown",
   "id": "2dd3ec18-3f02-4983-a614-e55e6fcee710",
   "metadata": {
    "slideshow": {
     "slide_type": "slide"
    }
   },
   "source": [
    "Here \n",
    "\n",
    "```python \n",
    "print(circle_5.__radius)\n",
    "```\n",
    "returns an Attribute as it cannot be accessed outside the definition.\n",
    "\n",
    "As you can see, classes allow us to wrap data, methods and variables into a single unit for future use.\n",
    "\n",
    "We can use class inheritance to define sub class that shares similar properties as existing or predefined type.\n",
    "\n",
    "The Inherited class is referred to as the super class.\n",
    "\n",
    "See the example below:"
   ]
  },
  {
   "cell_type": "code",
   "execution_count": null,
   "id": "1c14ef69-a382-4630-8571-42dbd4536c16",
   "metadata": {
    "slideshow": {
     "slide_type": "slide"
    },
    "tags": []
   },
   "outputs": [],
   "source": [
    "# Example 4: Inheritance\n",
    "\n",
    "# Super-class/base-class\n",
    "class Computer:\n",
    "    # constructor\n",
    "    def __init__(self, color, maufacturer):\n",
    "        self.color = color\n",
    "        self.manufacturer = maufacturer\n",
    "        self.os = \"\"\n",
    "        \n",
    "    def __str__(self):\n",
    "        return f\"{self.manufacturer} computer, {self.os} operating system\"        \n",
    "    \n",
    "    # add instance variable\n",
    "    def install_os(self, new_os):\n",
    "        self.os = new_os\n",
    "        \n",
    "    # retrueve instance variable\n",
    "    def which_os(self):\n",
    "        return self.os\n",
    "    \n",
    "    \n",
    "# Sub-class of Computer using Inheritance\n",
    "class Apple(Computer):\n",
    "    def __init__(self, color):\n",
    "        Computer.__init__(self, color, \"Macintosh\")   # add instance variables from super-class\n",
    "        self.version_mumber = \"\"                      # add instance variables to sub-class\n",
    "        \n",
    "    # add/edit instance varaible to subclass\n",
    "    def update_version(self, version):\n",
    "        self.version_mumber = version\n",
    "\n",
    "\n",
    "my_computer = Computer(\"black\", \"dell\")\n",
    "# print(my_computer)\n",
    "# print(my_computer.which_os())\n",
    "\n",
    "your_computer = Apple(\"silver\")\n",
    "your_computer.install_os(\"OS_X\")\n",
    "your_computer.update_version(10.1)\n",
    "# print(your_computer)\n",
    "\n"
   ]
  },
  {
   "cell_type": "markdown",
   "id": "21f8f3c0-ba7f-4492-97b2-3229859f89b9",
   "metadata": {
    "slideshow": {
     "slide_type": "slide"
    }
   },
   "source": [
    "**Exercise 3**\n",
    "---\n",
    "1. Create a class called `Person` with instance attributes `first_name`, `last_name`, `age` and `dob`.\n",
    "2. Add a __str__ method to print the first an last name of the Person when the print function is called on an instance of the object.\n",
    "3. Add an instance method `date_of_birth` which takes the month, day and year and update the `dob` attribute. \n",
    "3. Create two subclasses `Boy` and `Girl` that inherits the properties from the `Person` class, but with an additional instance attribute `sex`."
   ]
  }
 ],
 "metadata": {
  "kernelspec": {
   "display_name": "Python 3 (ipykernel)",
   "language": "python",
   "name": "python3"
  },
  "language_info": {
   "codemirror_mode": {
    "name": "ipython",
    "version": 3
   },
   "file_extension": ".py",
   "mimetype": "text/x-python",
   "name": "python",
   "nbconvert_exporter": "python",
   "pygments_lexer": "ipython3",
   "version": "3.11.5"
  }
 },
 "nbformat": 4,
 "nbformat_minor": 5
}
